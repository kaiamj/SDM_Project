{
 "cells": [
  {
   "cell_type": "code",
   "execution_count": 5,
   "id": "22e05334",
   "metadata": {},
   "outputs": [],
   "source": [
    "from config.Neo_connect import Neo4jConnection\n",
    "import pandas as pd\n",
    "import config.db_settings as db_config\n",
    "\n",
    "# stablish connection with neo4j\n",
    "conn = Neo4jConnection(uri=\"bolt://localhost:7687\", user=db_config.USER, pwd=db_config.PASSWORD)\n",
    "#result = conn.query('create database {}'.format(DATABASE))\n",
    "\n"
   ]
  },
  {
   "cell_type": "code",
   "execution_count": 11,
   "id": "98bcbe09",
   "metadata": {},
   "outputs": [],
   "source": [
    "json = pd.read_json('data/sdm_sample_db_tw.json')\n",
    "json.to_csv('data/tweets.csv',index = None)"
   ]
  },
  {
   "cell_type": "code",
   "execution_count": 12,
   "id": "f44b1670",
   "metadata": {},
   "outputs": [],
   "source": [
    "tweets = pd.read_csv('data/tweets.csv')"
   ]
  },
  {
   "cell_type": "code",
   "execution_count": 21,
   "id": "3679763a",
   "metadata": {},
   "outputs": [
    {
     "data": {
      "text/html": [
       "<div>\n",
       "<style scoped>\n",
       "    .dataframe tbody tr th:only-of-type {\n",
       "        vertical-align: middle;\n",
       "    }\n",
       "\n",
       "    .dataframe tbody tr th {\n",
       "        vertical-align: top;\n",
       "    }\n",
       "\n",
       "    .dataframe thead th {\n",
       "        text-align: right;\n",
       "    }\n",
       "</style>\n",
       "<table border=\"1\" class=\"dataframe\">\n",
       "  <thead>\n",
       "    <tr style=\"text-align: right;\">\n",
       "      <th></th>\n",
       "      <th>companies</th>\n",
       "      <th>top_tweets</th>\n",
       "    </tr>\n",
       "  </thead>\n",
       "  <tbody>\n",
       "    <tr>\n",
       "      <th>0</th>\n",
       "      <td>ZOMATO</td>\n",
       "      <td>[{'text': '@iamsrk @Tinder_India @DunzoIt @Coi...</td>\n",
       "    </tr>\n",
       "    <tr>\n",
       "      <th>1</th>\n",
       "      <td>NTPC</td>\n",
       "      <td>[{'text': 'The commissioning of the WFGD syste...</td>\n",
       "    </tr>\n",
       "    <tr>\n",
       "      <th>2</th>\n",
       "      <td>RELIANCE</td>\n",
       "      <td>[{'text': 'The big hike in energy bills from t...</td>\n",
       "    </tr>\n",
       "    <tr>\n",
       "      <th>3</th>\n",
       "      <td>UPL</td>\n",
       "      <td>[{'text': 'Hi everyone! I’m Ela, lead singer o...</td>\n",
       "    </tr>\n",
       "    <tr>\n",
       "      <th>4</th>\n",
       "      <td>GLAND</td>\n",
       "      <td>[{'text': '🚨 Bank of England: Crypto has the p...</td>\n",
       "    </tr>\n",
       "  </tbody>\n",
       "</table>\n",
       "</div>"
      ],
      "text/plain": [
       "  companies                                         top_tweets\n",
       "0    ZOMATO  [{'text': '@iamsrk @Tinder_India @DunzoIt @Coi...\n",
       "1      NTPC  [{'text': 'The commissioning of the WFGD syste...\n",
       "2  RELIANCE  [{'text': 'The big hike in energy bills from t...\n",
       "3       UPL  [{'text': 'Hi everyone! I’m Ela, lead singer o...\n",
       "4     GLAND  [{'text': '🚨 Bank of England: Crypto has the p..."
      ]
     },
     "execution_count": 21,
     "metadata": {},
     "output_type": "execute_result"
    }
   ],
   "source": [
    "tweets.head()"
   ]
  },
  {
   "cell_type": "code",
   "execution_count": 16,
   "id": "d4969660",
   "metadata": {},
   "outputs": [
    {
     "data": {
      "text/plain": [
       "0    [{'text': '@iamsrk @Tinder_India @DunzoIt @Coi...\n",
       "1    [{'text': 'The commissioning of the WFGD syste...\n",
       "2    [{'text': 'The big hike in energy bills from t...\n",
       "3    [{'text': 'Hi everyone! I’m Ela, lead singer o...\n",
       "4    [{'text': '🚨 Bank of England: Crypto has the p...\n",
       "Name: top_tweets, dtype: object"
      ]
     },
     "execution_count": 16,
     "metadata": {},
     "output_type": "execute_result"
    }
   ],
   "source": [
    "tweets['top_tweets'].head()"
   ]
  },
  {
   "cell_type": "code",
   "execution_count": 19,
   "id": "1ae881cf",
   "metadata": {},
   "outputs": [],
   "source": [
    " stock_data = pd.read_csv('data/top_25NSE.csv')"
   ]
  },
  {
   "cell_type": "code",
   "execution_count": 20,
   "id": "76601b8c",
   "metadata": {},
   "outputs": [
    {
     "data": {
      "text/html": [
       "<div>\n",
       "<style scoped>\n",
       "    .dataframe tbody tr th:only-of-type {\n",
       "        vertical-align: middle;\n",
       "    }\n",
       "\n",
       "    .dataframe tbody tr th {\n",
       "        vertical-align: top;\n",
       "    }\n",
       "\n",
       "    .dataframe thead th {\n",
       "        text-align: right;\n",
       "    }\n",
       "</style>\n",
       "<table border=\"1\" class=\"dataframe\">\n",
       "  <thead>\n",
       "    <tr style=\"text-align: right;\">\n",
       "      <th></th>\n",
       "      <th>Company Name</th>\n",
       "      <th>Last Price</th>\n",
       "      <th>% Chg</th>\n",
       "      <th>52 wk High</th>\n",
       "      <th>52 wk Low</th>\n",
       "      <th>Market Cap (Rs. cr)</th>\n",
       "    </tr>\n",
       "  </thead>\n",
       "  <tbody>\n",
       "    <tr>\n",
       "      <th>0</th>\n",
       "      <td>RELIANCE</td>\n",
       "      <td>2595.85</td>\n",
       "      <td>0.67</td>\n",
       "      <td>2751.35</td>\n",
       "      <td>1876.70</td>\n",
       "      <td>1755858.03</td>\n",
       "    </tr>\n",
       "    <tr>\n",
       "      <th>1</th>\n",
       "      <td>TCS</td>\n",
       "      <td>3707.45</td>\n",
       "      <td>-1.13</td>\n",
       "      <td>4043.00</td>\n",
       "      <td>3004.00</td>\n",
       "      <td>1371404.80</td>\n",
       "    </tr>\n",
       "    <tr>\n",
       "      <th>2</th>\n",
       "      <td>HDFC</td>\n",
       "      <td>1430.90</td>\n",
       "      <td>-0.81</td>\n",
       "      <td>1725.00</td>\n",
       "      <td>1292.00</td>\n",
       "      <td>793384.31</td>\n",
       "    </tr>\n",
       "    <tr>\n",
       "      <th>3</th>\n",
       "      <td>WIPRO</td>\n",
       "      <td>1876.55</td>\n",
       "      <td>-0.54</td>\n",
       "      <td>1953.90</td>\n",
       "      <td>1311.30</td>\n",
       "      <td>789415.54</td>\n",
       "    </tr>\n",
       "    <tr>\n",
       "      <th>4</th>\n",
       "      <td>ITC</td>\n",
       "      <td>699.25</td>\n",
       "      <td>-0.70</td>\n",
       "      <td>867.00</td>\n",
       "      <td>531.15</td>\n",
       "      <td>485892.84</td>\n",
       "    </tr>\n",
       "  </tbody>\n",
       "</table>\n",
       "</div>"
      ],
      "text/plain": [
       "  Company Name  Last Price  % Chg  52 wk High  52 wk Low  Market Cap (Rs. cr)\n",
       "0     RELIANCE     2595.85   0.67     2751.35    1876.70           1755858.03\n",
       "1          TCS     3707.45  -1.13     4043.00    3004.00           1371404.80\n",
       "2         HDFC     1430.90  -0.81     1725.00    1292.00            793384.31\n",
       "3        WIPRO     1876.55  -0.54     1953.90    1311.30            789415.54\n",
       "4          ITC      699.25  -0.70      867.00     531.15            485892.84"
      ]
     },
     "execution_count": 20,
     "metadata": {},
     "output_type": "execute_result"
    }
   ],
   "source": [
    "stock_data.head()"
   ]
  },
  {
   "cell_type": "code",
   "execution_count": 23,
   "id": "758504f6",
   "metadata": {},
   "outputs": [],
   "source": [
    "time = pd.DataFrame()\n",
    "time[\"Company Name\"] = stock_data[\"Company Name\"]"
   ]
  },
  {
   "cell_type": "code",
   "execution_count": 36,
   "id": "e4247aca",
   "metadata": {},
   "outputs": [],
   "source": [
    "import datetime\n",
    "from datetime import datetime\n",
    "timestamp = pd.Timestamp('2022-6-2 12:00:00')"
   ]
  },
  {
   "cell_type": "code",
   "execution_count": 37,
   "id": "a5266383",
   "metadata": {},
   "outputs": [
    {
     "data": {
      "text/plain": [
       "Timestamp('2022-06-02 12:00:00')"
      ]
     },
     "execution_count": 37,
     "metadata": {},
     "output_type": "execute_result"
    }
   ],
   "source": [
    "timestamp"
   ]
  },
  {
   "cell_type": "code",
   "execution_count": 40,
   "id": "dcf9d687",
   "metadata": {},
   "outputs": [],
   "source": [
    "time[\"year\"] = 2022\n",
    "time[\"month\"] = 6\n",
    "time[\"day\"] = 2\n",
    "time[\"hour\"] = 12\n",
    "time[\"timestamp\"] = timestamp"
   ]
  },
  {
   "cell_type": "code",
   "execution_count": 41,
   "id": "97a98935",
   "metadata": {},
   "outputs": [
    {
     "data": {
      "text/html": [
       "<div>\n",
       "<style scoped>\n",
       "    .dataframe tbody tr th:only-of-type {\n",
       "        vertical-align: middle;\n",
       "    }\n",
       "\n",
       "    .dataframe tbody tr th {\n",
       "        vertical-align: top;\n",
       "    }\n",
       "\n",
       "    .dataframe thead th {\n",
       "        text-align: right;\n",
       "    }\n",
       "</style>\n",
       "<table border=\"1\" class=\"dataframe\">\n",
       "  <thead>\n",
       "    <tr style=\"text-align: right;\">\n",
       "      <th></th>\n",
       "      <th>Company Name</th>\n",
       "      <th>year</th>\n",
       "      <th>month</th>\n",
       "      <th>day</th>\n",
       "      <th>timestamp</th>\n",
       "      <th>hour</th>\n",
       "    </tr>\n",
       "  </thead>\n",
       "  <tbody>\n",
       "    <tr>\n",
       "      <th>0</th>\n",
       "      <td>RELIANCE</td>\n",
       "      <td>2022</td>\n",
       "      <td>6</td>\n",
       "      <td>2</td>\n",
       "      <td>2022-06-02 12:00:00</td>\n",
       "      <td>12</td>\n",
       "    </tr>\n",
       "    <tr>\n",
       "      <th>1</th>\n",
       "      <td>TCS</td>\n",
       "      <td>2022</td>\n",
       "      <td>6</td>\n",
       "      <td>2</td>\n",
       "      <td>2022-06-02 12:00:00</td>\n",
       "      <td>12</td>\n",
       "    </tr>\n",
       "    <tr>\n",
       "      <th>2</th>\n",
       "      <td>HDFC</td>\n",
       "      <td>2022</td>\n",
       "      <td>6</td>\n",
       "      <td>2</td>\n",
       "      <td>2022-06-02 12:00:00</td>\n",
       "      <td>12</td>\n",
       "    </tr>\n",
       "    <tr>\n",
       "      <th>3</th>\n",
       "      <td>WIPRO</td>\n",
       "      <td>2022</td>\n",
       "      <td>6</td>\n",
       "      <td>2</td>\n",
       "      <td>2022-06-02 12:00:00</td>\n",
       "      <td>12</td>\n",
       "    </tr>\n",
       "    <tr>\n",
       "      <th>4</th>\n",
       "      <td>ITC</td>\n",
       "      <td>2022</td>\n",
       "      <td>6</td>\n",
       "      <td>2</td>\n",
       "      <td>2022-06-02 12:00:00</td>\n",
       "      <td>12</td>\n",
       "    </tr>\n",
       "  </tbody>\n",
       "</table>\n",
       "</div>"
      ],
      "text/plain": [
       "  Company Name  year  month  day           timestamp  hour\n",
       "0     RELIANCE  2022      6    2 2022-06-02 12:00:00    12\n",
       "1          TCS  2022      6    2 2022-06-02 12:00:00    12\n",
       "2         HDFC  2022      6    2 2022-06-02 12:00:00    12\n",
       "3        WIPRO  2022      6    2 2022-06-02 12:00:00    12\n",
       "4          ITC  2022      6    2 2022-06-02 12:00:00    12"
      ]
     },
     "execution_count": 41,
     "metadata": {},
     "output_type": "execute_result"
    }
   ],
   "source": [
    "time.head()"
   ]
  },
  {
   "cell_type": "code",
   "execution_count": 57,
   "id": "87bd654f",
   "metadata": {},
   "outputs": [],
   "source": [
    "stock_market = pd.DataFrame()"
   ]
  },
  {
   "cell_type": "code",
   "execution_count": 58,
   "id": "17c151d9",
   "metadata": {},
   "outputs": [],
   "source": [
    "stock_market[\"country\"] = \"india\""
   ]
  },
  {
   "cell_type": "code",
   "execution_count": null,
   "id": "f460c87e",
   "metadata": {},
   "outputs": [],
   "source": []
  },
  {
   "cell_type": "code",
   "execution_count": null,
   "id": "3c05bf24",
   "metadata": {},
   "outputs": [],
   "source": []
  },
  {
   "cell_type": "code",
   "execution_count": null,
   "id": "d867824f",
   "metadata": {},
   "outputs": [],
   "source": []
  },
  {
   "cell_type": "code",
   "execution_count": 46,
   "id": "74d2a452",
   "metadata": {},
   "outputs": [
    {
     "name": "stdout",
     "output_type": "stream",
     "text": [
      "[{'companies': 'ZOMATO', 'top_tweets': [{'text': '@iamsrk @Tinder_India @DunzoIt @CoinSwitchKuber @PhonePe @MyNykaa @zomato @DisneyPlusHS *also frantically searching in here*\\n\\nhttps://t.co/CEvRZ5n1QW', 'support_count': '1416', 'rank': '1', 'sentiment': '0.0', 'polarity': '0.0'}, {'text': '@iamsrk @spotifyindia @Tinder_India @DunzoIt @PhonePe @MyNykaa @zomato @DisneyPlusHS Humare admin ki life mein ab Only Khushi, No Gham https://t.co/yWX0sptvgN', 'support_count': '1297', 'rank': '2', 'sentiment': '0.0', 'polarity': '0.0'}, {'text': \"@iamsrk @spotifyindia @Tinder_India @DunzoIt @CoinSwitchKuber @PhonePe @MyNykaa @zomato @DisneyPlusHS Sher-Shah @Imsrk, miliye ek aur Sher @timesprime se jisme hain Zomato Pro subscription, Disney+Hotstar super subscription, AND many many more top subscriptions to make your IPL season better than ever! It's the Only Membership You'll Ever Need!\", 'support_count': '454', 'rank': '3', 'sentiment': '0.4047619', 'polarity': '0.4047619'}, {'text': 'Ever since @zomato announced its #10minute delivery offering, there has been a raging debate over the need for such a service.\\n\\n@Shilparanipeta breaks down the #ZomatoInstant plan &amp; tells why it may be a hit or a miss! https://t.co/AvDhwGsvCN', 'support_count': '144', 'rank': '4', 'sentiment': '-0.07777778', 'polarity': '-0.07777778'}, {'text': '🛵How does #10MinuteDelivery work?\\n🤔Is it really possible? \\n📦What goes on behind the scenes? \\n\\n@NayantaraRai gets you this reports from a Blinkit dark store. Watch to find out \\n\\n@letsblinkit @albinder @zomato @deepigoyal #Delivery #Startups https://t.co/LjthzErKzs', 'support_count': '39', 'rank': '5', 'sentiment': '-0.18333334', 'polarity': '-0.18333334'}]}, {'companies': 'NTPC', 'top_tweets': [{'text': 'The commissioning of the WFGD system for 1X500 MW NTPC Unchahar project, the first and fastest C276 clad absorber across all WFGD projects marks a historic moment for GE Steam Power India.\\n\\n@ntpclimited #GEinIndia https://t.co/nub0SgtJgg', 'support_count': '30', 'rank': '1', 'sentiment': '0.125', 'polarity': '0.125'}]}, {'companies': 'RELIANCE', 'top_tweets': [{'text': 'The big hike in energy bills from today shows us we are short of electricity and gas. The government needs to take more urgent action to increase domestic supply and end our dangerous and expensive reliance on imports.', 'support_count': '3650', 'rank': '1', 'sentiment': '-0.071428575', 'polarity': '-0.071428575'}, {'text': 'EU signs US gas deal to curb reliance on Russian energy https://t.co/2BzhjWU8Wl', 'support_count': '3062', 'rank': '2', 'sentiment': '0.0', 'polarity': '0.0'}, {'text': 'Addiction to fossil fuels is mutually assured destruction. \\n\\nOur continued reliance on fossil fuels puts the global economy and energy security at the mercy of geopolitical shocks and crises. \\n\\nWe need to fix the broken global energy mix.', 'support_count': '2749', 'rank': '3', 'sentiment': '-0.13333334', 'polarity': '-0.13333334'}, {'text': \"It's time that we:\\n✅Raise teacher pay\\n✅Strengthen their benefits\\n✅Fully fund our classrooms\\n✅End the over-reliance on standardized testing https://t.co/Ng5EuYLyle\", 'support_count': '2663', 'rank': '4', 'sentiment': '0.0', 'polarity': '0.0'}, {'text': 'Instead of launching more attacks on our teachers, we should address the very real concerns that are causing us to lose them.\\n\\nRaise teacher pay, improve their benefits, fully fund their classrooms, and end the over-reliance on standardized testing.\\nhttps://t.co/YsZDdT8xLg', 'support_count': '2613', 'rank': '5', 'sentiment': '0.38', 'polarity': '0.38'}, {'text': \"If the world transitioned to renewables 10 years ago, Russia wouldn't have a fraction of the oil-funded war chest they have now. I'm tired of propping up the world's autocrats and petrostates. Our national security depends on ending our reliance on fossil fuels. #ClimateCantWait\", 'support_count': '2592', 'rank': '6', 'sentiment': '-0.4', 'polarity': '-0.4'}, {'text': 'Did you know renewable energy is the least expensive source of energy in our country?\\n\\n@POTUS has a plan to enhance the American clean energy sector and end our reliance on unstable and unreliable fossil fuels. \\n\\nhttps://t.co/kdg0JdNyIJ', 'support_count': '2504', 'rank': '7', 'sentiment': '-0.108333334', 'polarity': '-0.108333334'}, {'text': \"US and EU today agreed new partnership to reduce the Europe's reliance on Russian energy. LNG exports to Europe to rise by 15 billion cubic metres this year alone, much from America. Europe has denigrated fracking. Now it’s desperate for US fracked gas.\", 'support_count': '2488', 'rank': '8', 'sentiment': '-0.06590909', 'polarity': '-0.06590909'}, {'text': \"Our country's reliance on fossil fuels empowers dictators like Putin. I stand with a broad coalition of groups calling for action to get our economy off of fossil fuels and double down on clean energy investments. The time to act is now. https://t.co/xSpMxeSqH3\", 'support_count': '1733', 'rank': '9', 'sentiment': '0.07472222', 'polarity': '0.07472222'}, {'text': 'The EW suite developed by #DRDO will be produced by #BEL, Hyderabad for #IAF in a recently concluded contract. A major boost to the spirit of #AatmanirbharBharat and realization of journey towards self reliance.\\n@PMOIndia @DefenceMinIndia @SpokespersonMoD', 'support_count': '1731', 'rank': '10', 'sentiment': '0.054166667', 'polarity': '0.054166667'}]}, {'companies': 'UPL', 'top_tweets': [{'text': 'Hi everyone! I’m Ela, lead singer of Rainbow Kitten Surprise. Over the past couple of years, I’ve been doing some major soul searching in the pursuit of my authentic self.\\xa0\\xa0I’m happy to share with you that I am trans. My pronouns are she/her. https://t.co/kejuO2yLIn', 'support_count': '59902', 'rank': '1', 'sentiment': '0.278125', 'polarity': '0.278125'}]}, {'companies': 'GLAND', 'top_tweets': [{'text': '🚨 Bank of England: Crypto has the potential to reshape the traditional financial sector 🚨', 'support_count': '5683', 'rank': '1', 'sentiment': '0.0', 'polarity': '0.0'}, {'text': \"A Victorian sewer worker once proved he’d found a tunnel into the Bank of England’s gold vaults and for his honesty, was given £800 (about £90,000 in today's money).\", 'support_count': '2329', 'rank': '2', 'sentiment': '0.0', 'polarity': '0.0'}, {'text': 'The Bank of England has revealed that it is working on sketching a regulatory framework for #cryptocurrency assets. https://t.co/qx8jHfFDj1', 'support_count': '353', 'rank': '3', 'sentiment': '0.0', 'polarity': '0.0'}, {'text': 'The Weekly Regulatory &amp; Tax Update\\n\\n🇬🇧 Bank of England drafts crypto regulatory framework\\n🇪🇺 EU committee to vote on rules against anonymous crypto transactions\\n🇮🇳 India passes bill setting 30% tax on crypto transactions\\n\\nThe details 👇\\nhttps://t.co/qkadH8v0ZD', 'support_count': '229', 'rank': '4', 'sentiment': '0.0', 'polarity': '0.0'}, {'text': 'Hypothyroidism is when your thyroid gland doesn’t make enough of certain key hormones. It can cause muscle and joint aches, as well as swelling and tenderness. https://t.co/5tOhY3fibN https://t.co/SjBD1vNWwc', 'support_count': '116', 'rank': '5', 'sentiment': '0.071428575', 'polarity': '0.071428575'}, {'text': 'Sweating more and being sensitive to heat are notable symptoms of hyperthyroidism. Your thyroid gland controls your metabolism, so when it makes too much hormone, your body goes into overdrive.  https://t.co/9YonjI5X7r https://t.co/oEkgHlxmDV', 'support_count': '69', 'rank': '6', 'sentiment': '0.325', 'polarity': '0.325'}]}, {'companies': 'MPHASIS', 'top_tweets': [{'text': \"Shehbaz Sharif Sb, How? Praise for India's powerful independent policy is felt by all experts in Pakistan &amp; IR students; it doesn't translate into insulting Kashmiris; it only emphasises that our politicians &amp; institutions need to unite for an independent policy from Pakistan https://t.co/tYi8ZjRhab\", 'support_count': '3537', 'rank': '1', 'sentiment': '-0.14', 'polarity': '-0.14'}]}, {'companies': 'GAIL', 'top_tweets': [{'text': '#Happydalithistorymonth! As a we open a this years theme on caste, labor, and migration we honor #gailomvedt for all of her incredible insight and scholarship which brought global attention to dalit, our dignity and labor! https://t.co/RofkDzGdT9', 'support_count': '46', 'rank': '1', 'sentiment': '0.3', 'polarity': '0.3'}]}, {'companies': 'ITC', 'top_tweets': [{'text': \"According to @bellingcat the Russian FSB paid billions of $ to ensure that some shadowy political class in Ukraine supported this war &amp; created an internal coup d'état immediately after the invasion. But Ukrainian agents who took the money ditched them.They just screwed them over\", 'support_count': '38315', 'rank': '1', 'sentiment': '0.0', 'polarity': '0.0'}, {'text': '#NCTDREAM Breaks Personal Record With Over 2 Million Stock Pre-Orders For \"Glitch Mode\" \\nhttps://t.co/RxxcZqc5Gg https://t.co/7jcbbVSYg1', 'support_count': '36305', 'rank': '2', 'sentiment': '0.0', 'polarity': '0.0'}, {'text': '“Crypto has grown by leaps and bounds, and is now playing a significant role in the investment decisions of lots of Americans. We would like to … create a regulatory environment in which healthy innovation can continue.” - @SecYellen on #Bitcoin\\nhttps://t.co/UHKqf6bvrV', 'support_count': '11245', 'rank': '3', 'sentiment': '0.4375', 'polarity': '0.4375'}, {'text': 'Chef @chefjoseandres\\xa0tells me in Kyiv that his humanitarian organization @WCKitchen\\xa0have been delivering 300,000 meals a day for those Ukrainians hit by war. I asked him how he does it: \"It\\'s not so complicated. I\\'m a cook. I have restaurants... we are the food fighters.\" https://t.co/Jx6CF1xWxy', 'support_count': '10938', 'rank': '4', 'sentiment': '-0.5', 'polarity': '-0.5'}, {'text': 'NEW 💥 Vietnam PM orders central bank to create LEGAL framework for #Bitcoin and crypto 🇻🇳 https://t.co/Gmzd6N4lvh', 'support_count': '7574', 'rank': '5', 'sentiment': '0.11212121', 'polarity': '0.11212121'}, {'text': 'Russia considers accepting Bitcoin for oil and gas https://t.co/q7zvTbuHDE', 'support_count': '3528', 'rank': '6', 'sentiment': '0.0', 'polarity': '0.0'}, {'text': 'While I agree with most of this, I think the article gets the motivation wrong. It’s not Thomas’s views on abortion. To Mitch, that’s just another issue. It’s Thomas’s views on dark money. That’s Mitch’s life support system and the source of his power. \\xa0https://t.co/YHHUQt7IQv', 'support_count': '3369', 'rank': '7', 'sentiment': '-0.05', 'polarity': '-0.05'}, {'text': 'Governments take your rights. \\n\\nBanks take your money.\\n\\nBitcoin gives it all back.', 'support_count': '2978', 'rank': '8', 'sentiment': '0.0', 'polarity': '0.0'}, {'text': '@iamsrk @spotifyindia @Tinder_India @DunzoIt @CoinSwitchKuber @PhonePe @MyNykaa @DisneyPlusHS listening you sing our name 🥺 https://t.co/suvMXGBcpr', 'support_count': '2791', 'rank': '9', 'sentiment': '0.0', 'polarity': '0.0'}, {'text': 'JUST IN: Investment firm VanEck believes that #Bitcoin could hit $4.8M per coin if it becomes the global reserve asset.', 'support_count': '1873', 'rank': '10', 'sentiment': '-0.1', 'polarity': '-0.1'}]}]\n"
     ]
    }
   ],
   "source": [
    "import json\n",
    "\n",
    "with open('data/sdm_sample_db_tw.json',encoding=\"utf8\") as f:\n",
    "    data = json.load(f)\n",
    "print(data)\n"
   ]
  },
  {
   "cell_type": "code",
   "execution_count": 49,
   "id": "721684bb",
   "metadata": {},
   "outputs": [
    {
     "name": "stdout",
     "output_type": "stream",
     "text": [
      "\"ZOMATO\"\n"
     ]
    }
   ],
   "source": [
    "flx = json.dumps(data[0][\"companies\"], ensure_ascii=False, indent=4)\n",
    "print(flx)"
   ]
  },
  {
   "cell_type": "code",
   "execution_count": 55,
   "id": "2f07ff84",
   "metadata": {},
   "outputs": [
    {
     "name": "stdout",
     "output_type": "stream",
     "text": [
      "{\n",
      "    \"companies\": \"ZOMATO\",\n",
      "    \"top_tweets\": [\n",
      "        {\n",
      "            \"text\": \"@iamsrk @Tinder_India @DunzoIt @CoinSwitchKuber @PhonePe @MyNykaa @zomato @DisneyPlusHS *also frantically searching in here*\\n\\nhttps://t.co/CEvRZ5n1QW\",\n",
      "            \"support_count\": \"1416\",\n",
      "            \"rank\": \"1\",\n",
      "            \"sentiment\": \"0.0\",\n",
      "            \"polarity\": \"0.0\"\n",
      "        },\n",
      "        {\n",
      "            \"text\": \"@iamsrk @spotifyindia @Tinder_India @DunzoIt @PhonePe @MyNykaa @zomato @DisneyPlusHS Humare admin ki life mein ab Only Khushi, No Gham https://t.co/yWX0sptvgN\",\n",
      "            \"support_count\": \"1297\",\n",
      "            \"rank\": \"2\",\n",
      "            \"sentiment\": \"0.0\",\n",
      "            \"polarity\": \"0.0\"\n",
      "        },\n",
      "        {\n",
      "            \"text\": \"@iamsrk @spotifyindia @Tinder_India @DunzoIt @CoinSwitchKuber @PhonePe @MyNykaa @zomato @DisneyPlusHS Sher-Shah @Imsrk, miliye ek aur Sher @timesprime se jisme hain Zomato Pro subscription, Disney+Hotstar super subscription, AND many many more top subscriptions to make your IPL season better than ever! It's the Only Membership You'll Ever Need!\",\n",
      "            \"support_count\": \"454\",\n",
      "            \"rank\": \"3\",\n",
      "            \"sentiment\": \"0.4047619\",\n",
      "            \"polarity\": \"0.4047619\"\n",
      "        },\n",
      "        {\n",
      "            \"text\": \"Ever since @zomato announced its #10minute delivery offering, there has been a raging debate over the need for such a service.\\n\\n@Shilparanipeta breaks down the #ZomatoInstant plan &amp; tells why it may be a hit or a miss! https://t.co/AvDhwGsvCN\",\n",
      "            \"support_count\": \"144\",\n",
      "            \"rank\": \"4\",\n",
      "            \"sentiment\": \"-0.07777778\",\n",
      "            \"polarity\": \"-0.07777778\"\n",
      "        },\n",
      "        {\n",
      "            \"text\": \"🛵How does #10MinuteDelivery work?\\n🤔Is it really possible? \\n📦What goes on behind the scenes? \\n\\n@NayantaraRai gets you this reports from a Blinkit dark store. Watch to find out \\n\\n@letsblinkit @albinder @zomato @deepigoyal #Delivery #Startups https://t.co/LjthzErKzs\",\n",
      "            \"support_count\": \"39\",\n",
      "            \"rank\": \"5\",\n",
      "            \"sentiment\": \"-0.18333334\",\n",
      "            \"polarity\": \"-0.18333334\"\n",
      "        }\n",
      "    ]\n",
      "}\n"
     ]
    }
   ],
   "source": [
    "flx = json.dumps(data[0], ensure_ascii=False, indent=4)\n",
    "print(flx)"
   ]
  },
  {
   "cell_type": "code",
   "execution_count": 56,
   "id": "087d6df7",
   "metadata": {},
   "outputs": [
    {
     "ename": "TypeError",
     "evalue": "string indices must be integers",
     "output_type": "error",
     "traceback": [
      "\u001b[1;31m---------------------------------------------------------------------------\u001b[0m",
      "\u001b[1;31mTypeError\u001b[0m                                 Traceback (most recent call last)",
      "\u001b[1;32m<ipython-input-56-bbf5f999c26e>\u001b[0m in \u001b[0;36m<module>\u001b[1;34m\u001b[0m\n\u001b[1;32m----> 1\u001b[1;33m \u001b[0mflx\u001b[0m\u001b[1;33m[\u001b[0m\u001b[1;34m\"companies\"\u001b[0m\u001b[1;33m]\u001b[0m\u001b[1;33m\u001b[0m\u001b[1;33m\u001b[0m\u001b[0m\n\u001b[0m",
      "\u001b[1;31mTypeError\u001b[0m: string indices must be integers"
     ]
    }
   ],
   "source": [
    "flx[\"companies\"]"
   ]
  },
  {
   "cell_type": "code",
   "execution_count": null,
   "id": "c92cceff",
   "metadata": {},
   "outputs": [],
   "source": []
  },
  {
   "cell_type": "code",
   "execution_count": null,
   "id": "80ff7ccc",
   "metadata": {},
   "outputs": [],
   "source": []
  },
  {
   "cell_type": "code",
   "execution_count": null,
   "id": "880b13c1",
   "metadata": {},
   "outputs": [],
   "source": []
  },
  {
   "cell_type": "code",
   "execution_count": null,
   "id": "bade7e83",
   "metadata": {},
   "outputs": [],
   "source": []
  },
  {
   "cell_type": "code",
   "execution_count": null,
   "id": "8421c9dc",
   "metadata": {},
   "outputs": [],
   "source": []
  },
  {
   "cell_type": "code",
   "execution_count": null,
   "id": "52557fd3",
   "metadata": {},
   "outputs": [],
   "source": []
  },
  {
   "cell_type": "code",
   "execution_count": null,
   "id": "d730cdd0",
   "metadata": {},
   "outputs": [],
   "source": []
  },
  {
   "cell_type": "code",
   "execution_count": null,
   "id": "bc7c6f90",
   "metadata": {},
   "outputs": [],
   "source": [
    "\n",
    "\n",
    "#unique constraints\n",
    "#---------------------------------\n",
    "q_constraints = ['''\n",
    "create constraint on ()-[r:is_published_in]-() assert exists (r.year)\n",
    "''',\n",
    "'''create constraint on (a:author) assert a.id is unique''',\n",
    "'''create constraint on (a:article) assert a.id is unique''',\n",
    "'''create constraint on (a:publisher) assert a.id is unique''',\n",
    "'''create constraint on (a:Keyword) assert a.id is unique'''\n",
    "]\n",
    "\n",
    "for j,re_query in enumerate(q_constraints):\n",
    "    result = conn.query(re_query, db=db_config.DATABASE)\n",
    "    print(\"query {} executed \\n {} \\n\".format(j+1,re_query))\n",
    "\n",
    "\n",
    "# time(year,month,day,hour,timestamp), tweet(rank, text,support_count,sentiment_score), company(company name), \n",
    "# stock data(low,high,open,close), stock market(country name, market name),  users, \n",
    "\n",
    "#create nodes\n",
    "#-----------------------------------\n",
    "node_queries = [\n",
    "'''\n",
    "LOAD CSV WITH HEADERS FROM 'file:/SDM_lab1/kaggle_data_processed/authors.csv' as row FIELDTERMINATOR ',' CREATE (:author {id:row.ID, name: row.name}) return row.name;\n",
    "''',\n",
    "'''\n",
    "LOAD CSV WITH HEADERS FROM 'file:/SDM_lab1/kaggle_data_processed/articles.csv' as row FIELDTERMINATOR ',' CREATE (:article {id:row.ID, title:row.title, DOI:row.DOI}) return row.title;\n",
    "''',\n",
    "'''\n",
    "LOAD CSV WITH HEADERS FROM 'file:/SDM_lab1/kaggle_data_processed/conference.csv' as row FIELDTERMINATOR ',' CREATE (:conference {id:row.ID, title:row.name, type:row.Type}) return row.name;\n",
    "''',\n",
    "'''\n",
    "LOAD CSV WITH HEADERS FROM 'file:/SDM_lab1/kaggle_data_processed/journal.csv' as row FIELDTERMINATOR ',' CREATE (:journal {id:row.ID, title:row.name, type:row.Type}) return row.name;\n",
    "''',\n",
    "'''\n",
    "LOAD CSV WITH HEADERS FROM 'file:/SDM_lab1/kaggle_data_processed/concepts.csv' as row FIELDTERMINATOR ',' CREATE (:Keyword {id:row.ID, name: row.name}) return row.name;\n",
    "''']\n",
    "\n",
    "\n",
    "for i, nd_query in enumerate(node_queries):\n",
    "    result = conn.query(nd_query, db=db_config.DATABASE)\n",
    "    print(\"query {} executed \\n {} \\n\".format(i+1,nd_query))\n",
    "\n",
    "\n",
    "\n",
    "\n",
    "\n",
    "#make_relations\n",
    "#-----------------------------------------------\n",
    "\n",
    "relation_queries = [\n",
    "'''\n",
    "LOAD CSV WITH HEADERS FROM 'file:/SDM_lab1/kaggle_data_processed/author_written_article.csv' as row FIELDTERMINATOR ','\n",
    "MATCH (auth:author {id: row.author_ID}),(art:article {id: row.article_ID})\n",
    "CREATE (auth)-[r:is_author_of]->(art) return r\n",
    "''',\n",
    "'''LOAD CSV WITH HEADERS FROM 'file:/SDM_lab1/kaggle_data_processed/article_published_by.csv' as row FIELDTERMINATOR ','\n",
    "MATCH (art:article {id: row.article_ID}),(publ:conference {id: row.publisher_ID})\n",
    "CREATE (art)-[r:is_published_in{year:row.year}]->(publ) return r''',\n",
    "\n",
    "'''LOAD CSV WITH HEADERS FROM 'file:/SDM_lab1/kaggle_data_processed/article_published_by.csv' as row FIELDTERMINATOR ','\n",
    "MATCH (art:article {id: row.article_ID}),(publ:journal {id: row.publisher_ID})\n",
    "CREATE (art)-[r:is_published_in{year:row.year, volume:\"1\"}]->(publ) return r'''\n",
    "'''\n",
    "LOAD CSV WITH HEADERS FROM 'file:/SDM_lab1/kaggle_data_processed/paper_cited_by.csv' as row FIELDTERMINATOR ','\n",
    "MATCH (art:article {id: row.article_ID}),(cite:article {id: row.cite_paper_ID})\n",
    "CREATE (art)-[r:has_cited{year:row.year, volume:\"1\"}]->(cite) return r\n",
    "''',\n",
    "'''\n",
    "LOAD CSV WITH HEADERS FROM 'file:/SDM_lab1/kaggle_data_processed/article_has_keyword.csv' as row FIELDTERMINATOR ','\n",
    "MATCH (art:article {id: row.article_ID}),(key:Keyword {id: row.keyword_ID})\n",
    "CREATE (art)-[r:has]->(key) return r\n",
    "''']\n",
    "\n",
    "\n",
    "for j,re_query in enumerate(relation_queries):\n",
    "    result = conn.query(re_query, db=db_config.DATABASE)\n",
    "    print(\"query {} executed \\n {} \\n\".format(j+1,re_query))\n",
    "\n",
    "\n",
    "\n",
    "\n",
    "#=======================================================================================\n",
    "# creating index on publisher node\n",
    "ind_q = '''CREATE INDEX conf_journ_idx FOR (pub:publisher) ON (pub.type)'''\n",
    "result = conn.query(ind_q, db=db_config.DATABASE)\n",
    "print(\"index created on publisher node on attribute type\")\n",
    "\n",
    "\n",
    "\n",
    "\n",
    "\n",
    "\n",
    "\n",
    "\n",
    "\n",
    "\n",
    "\n",
    "\n",
    "# q = ''' MATCH (n:article) RETURN n LIMIT 25'''\n",
    "# result = conn.query(q, db=DATABASE)\n",
    "# # print(result[1].data())\n",
    "# dtf_data = pd.DataFrame([_.data()['n'] for _ in result])\n",
    "# print(dtf_data)\n",
    "# loading data from CSV\n",
    "#---------------------------------------------------------------------\n"
   ]
  }
 ],
 "metadata": {
  "kernelspec": {
   "display_name": "Python 3",
   "language": "python",
   "name": "python3"
  },
  "language_info": {
   "codemirror_mode": {
    "name": "ipython",
    "version": 3
   },
   "file_extension": ".py",
   "mimetype": "text/x-python",
   "name": "python",
   "nbconvert_exporter": "python",
   "pygments_lexer": "ipython3",
   "version": "3.8.8"
  }
 },
 "nbformat": 4,
 "nbformat_minor": 5
}
