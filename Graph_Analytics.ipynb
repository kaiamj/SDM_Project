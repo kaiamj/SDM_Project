{
 "cells": [
  {
   "cell_type": "code",
   "execution_count": 1,
   "metadata": {},
   "outputs": [],
   "source": [
    "# import libraries\n",
    "%reload_ext autoreload\n",
    "\n",
    "from config.Neo_connect import Neo4jConnection\n",
    "import pandas as pd\n",
    "import config.db_settings as db_config\n",
    "from IPython.display import display, HTML"
   ]
  },
  {
   "cell_type": "code",
   "execution_count": 2,
   "metadata": {},
   "outputs": [],
   "source": [
    "# stablish connection with neo4j\n",
    "conn = Neo4jConnection(uri=\"bolt://localhost:7687\", user=db_config.USER, pwd=db_config.PASSWORD)\n"
   ]
  },
  {
   "cell_type": "markdown",
   "metadata": {},
   "source": [
    "# Graph Analytics\n",
    "\n",
    "<img src=\"docs/property_graph.png\">\n",
    "\n",
    "# Sense Stock Pipeline\n",
    "<img src=\"docs/Final BDM_PRO_2.png\">"
   ]
  },
  {
   "cell_type": "code",
   "execution_count": null,
   "metadata": {},
   "outputs": [],
   "source": []
  },
  {
   "cell_type": "markdown",
   "metadata": {},
   "source": [
    "## 1. Top Tweet users \n",
    "\n",
    "- Finding the most important users for the companies to track, which can influence the stock prices of that company"
   ]
  },
  {
   "cell_type": "code",
   "execution_count": 3,
   "metadata": {},
   "outputs": [],
   "source": [
    "q = '''match (c:company)<-[:is_related_to]-(t:tweets)-[m:by_user]->(u:user_data)\n",
    "with c,u, avg(toInteger(t.support_Count)) as avg_support_count, avg(toFloat(t.sentiment)) as avg_sentiment order by avg_support_count DESC\n",
    "with c, collect([u,avg_support_count,avg_sentiment]) as imp_collection\n",
    "return c.companyName as company, collect([imp_collection[0][0].name,imp_collection[1][0].name]) as top_users, \n",
    "(imp_collection[0][1]+imp_collection[1][1])/2 as support, (imp_collection[0][2]+imp_collection[1][2])/2 as sentiment'''"
   ]
  },
  {
   "cell_type": "code",
   "execution_count": 4,
   "metadata": {},
   "outputs": [],
   "source": [
    "result = conn.query(q, db=db_config.DATABASE)"
   ]
  },
  {
   "cell_type": "code",
   "execution_count": 5,
   "metadata": {},
   "outputs": [
    {
     "data": {
      "text/html": [
       "<table border=\"1\" class=\"dataframe\">\n",
       "  <thead>\n",
       "    <tr style=\"text-align: right;\">\n",
       "      <th></th>\n",
       "      <th>company</th>\n",
       "      <th>top_users</th>\n",
       "      <th>support_count</th>\n",
       "      <th>sentiment</th>\n",
       "    </tr>\n",
       "  </thead>\n",
       "  <tbody>\n",
       "    <tr>\n",
       "      <th>0</th>\n",
       "      <td>ITC Limited</td>\n",
       "      <td>[[B. Ray, J. Rahul]]</td>\n",
       "      <td>24547.000000</td>\n",
       "      <td>0.000000</td>\n",
       "    </tr>\n",
       "    <tr>\n",
       "      <th>1</th>\n",
       "      <td>Reliance Industries Limited</td>\n",
       "      <td>[[B. Ray, K. Puja]]</td>\n",
       "      <td>13147.000000</td>\n",
       "      <td>0.024330</td>\n",
       "    </tr>\n",
       "    <tr>\n",
       "      <th>2</th>\n",
       "      <td>Gland Pharma Limited</td>\n",
       "      <td>[[R.sharma, E. SharmaAryan]]</td>\n",
       "      <td>5654.166667</td>\n",
       "      <td>0.066071</td>\n",
       "    </tr>\n",
       "    <tr>\n",
       "      <th>3</th>\n",
       "      <td>Housing Development Finance Corporation Limited</td>\n",
       "      <td>[[B. Ray, E. SharmaAryan]]</td>\n",
       "      <td>4268.000000</td>\n",
       "      <td>0.100000</td>\n",
       "    </tr>\n",
       "    <tr>\n",
       "      <th>4</th>\n",
       "      <td>Indian Oil Corporation Limited</td>\n",
       "      <td>[[R.sharma, K. Ashwini]]</td>\n",
       "      <td>2711.500000</td>\n",
       "      <td>0.145536</td>\n",
       "    </tr>\n",
       "    <tr>\n",
       "      <th>5</th>\n",
       "      <td>UPL Limited</td>\n",
       "      <td>[[S. Sanjay, T. Sia]]</td>\n",
       "      <td>865.000000</td>\n",
       "      <td>-0.036607</td>\n",
       "    </tr>\n",
       "  </tbody>\n",
       "</table>"
      ],
      "text/plain": [
       "<IPython.core.display.HTML object>"
      ]
     },
     "metadata": {},
     "output_type": "display_data"
    }
   ],
   "source": [
    "df = pd.DataFrame(result)\n",
    "df.columns=['company','top_users','support_count','sentiment']\n",
    "display(HTML(df.head(6).to_html()))"
   ]
  },
  {
   "cell_type": "code",
   "execution_count": null,
   "metadata": {},
   "outputs": [],
   "source": []
  },
  {
   "cell_type": "code",
   "execution_count": null,
   "metadata": {},
   "outputs": [],
   "source": []
  },
  {
   "cell_type": "markdown",
   "metadata": {},
   "source": [
    "## 2. Top Mentioned Users \n",
    "\n",
    "- Finding the most important users for the companies to track, which can influence the stock prices of that company"
   ]
  },
  {
   "cell_type": "code",
   "execution_count": 6,
   "metadata": {},
   "outputs": [],
   "source": [
    "q1 = '''CALL gds.graph.project(\n",
    "'pgmgraph',\n",
    "['user_data', 'tweets'],\n",
    "'mentions'\n",
    ")'''\n",
    "q2 = '''\n",
    "CALL gds.pageRank.stream('pgmgraph')\n",
    "YIELD nodeId,score\n",
    "with gds.util.asNode(nodeId) AS N, score as page_rank_score\n",
    "match (N:user_data)\n",
    "return N.name, page_rank_score order by page_rank_score desc\n",
    "'''"
   ]
  },
  {
   "cell_type": "code",
   "execution_count": 7,
   "metadata": {},
   "outputs": [],
   "source": [
    "graph_creation = conn.query(q1, db=db_config.DATABASE)\n",
    "result = conn.query(q2, db=db_config.DATABASE)"
   ]
  },
  {
   "cell_type": "code",
   "execution_count": 8,
   "metadata": {},
   "outputs": [
    {
     "data": {
      "text/html": [
       "<table border=\"1\" class=\"dataframe\">\n",
       "  <thead>\n",
       "    <tr style=\"text-align: right;\">\n",
       "      <th></th>\n",
       "      <th>Mentioned user name</th>\n",
       "      <th>page_rank_score</th>\n",
       "    </tr>\n",
       "  </thead>\n",
       "  <tbody>\n",
       "    <tr>\n",
       "      <th>0</th>\n",
       "      <td>zomato</td>\n",
       "      <td>2.415857</td>\n",
       "    </tr>\n",
       "    <tr>\n",
       "      <th>1</th>\n",
       "      <td>narendramodi</td>\n",
       "      <td>0.660000</td>\n",
       "    </tr>\n",
       "    <tr>\n",
       "      <th>2</th>\n",
       "      <td>tcs</td>\n",
       "      <td>0.532500</td>\n",
       "    </tr>\n",
       "    <tr>\n",
       "      <th>3</th>\n",
       "      <td>vimsicle</td>\n",
       "      <td>0.532500</td>\n",
       "    </tr>\n",
       "    <tr>\n",
       "      <th>4</th>\n",
       "      <td>zomatocare</td>\n",
       "      <td>0.532500</td>\n",
       "    </tr>\n",
       "    <tr>\n",
       "      <th>5</th>\n",
       "      <td>Adityaaa</td>\n",
       "      <td>0.405000</td>\n",
       "    </tr>\n",
       "  </tbody>\n",
       "</table>"
      ],
      "text/plain": [
       "<IPython.core.display.HTML object>"
      ]
     },
     "metadata": {},
     "output_type": "display_data"
    }
   ],
   "source": [
    "df = pd.DataFrame(result)\n",
    "df.columns=['Mentioned user name','page_rank_score']\n",
    "display(HTML(df.head(6).to_html()))"
   ]
  },
  {
   "cell_type": "code",
   "execution_count": null,
   "metadata": {},
   "outputs": [],
   "source": []
  },
  {
   "cell_type": "code",
   "execution_count": null,
   "metadata": {},
   "outputs": [],
   "source": []
  },
  {
   "cell_type": "markdown",
   "metadata": {},
   "source": [
    "## 3. Most Influential Companies\n",
    "\n",
    "- Finding the current top companies to buy and sell stocks of, companies with higher poplarity"
   ]
  },
  {
   "cell_type": "code",
   "execution_count": 9,
   "metadata": {},
   "outputs": [],
   "source": [
    "q1 = '''CALL gds.graph.project(\n",
    "'centerGraph',\n",
    "['company','tweets'],\n",
    "['belongs_to','is_related_to']\n",
    ")'''\n",
    "\n",
    "q2 = '''\n",
    "CALL gds.pageRank.stream('centerGraph')\n",
    "YIELD nodeId, score\n",
    "with gds.util.asNode(nodeId) AS N, score\n",
    "match (N:company)\n",
    "return N.companyName as company , score as page_rank_score \n",
    "order by page_rank_score desc\n",
    "'''"
   ]
  },
  {
   "cell_type": "code",
   "execution_count": 10,
   "metadata": {},
   "outputs": [],
   "source": [
    "graph_creation = conn.query(q1, db=db_config.DATABASE)\n",
    "result = conn.query(q2, db=db_config.DATABASE)"
   ]
  },
  {
   "cell_type": "code",
   "execution_count": 11,
   "metadata": {},
   "outputs": [
    {
     "data": {
      "text/html": [
       "<table border=\"1\" class=\"dataframe\">\n",
       "  <thead>\n",
       "    <tr style=\"text-align: right;\">\n",
       "      <th></th>\n",
       "      <th>company</th>\n",
       "      <th>page_rank_score</th>\n",
       "    </tr>\n",
       "  </thead>\n",
       "  <tbody>\n",
       "    <tr>\n",
       "      <th>0</th>\n",
       "      <td>Reliance Industries Limited</td>\n",
       "      <td>7.6725</td>\n",
       "    </tr>\n",
       "    <tr>\n",
       "      <th>1</th>\n",
       "      <td>ITC Limited</td>\n",
       "      <td>4.2300</td>\n",
       "    </tr>\n",
       "    <tr>\n",
       "      <th>2</th>\n",
       "      <td>Gland Pharma Limited</td>\n",
       "      <td>3.9750</td>\n",
       "    </tr>\n",
       "    <tr>\n",
       "      <th>3</th>\n",
       "      <td>Zomato Limited</td>\n",
       "      <td>3.8475</td>\n",
       "    </tr>\n",
       "    <tr>\n",
       "      <th>4</th>\n",
       "      <td>Housing Development Finance Corporation Limited</td>\n",
       "      <td>1.5525</td>\n",
       "    </tr>\n",
       "    <tr>\n",
       "      <th>5</th>\n",
       "      <td>GAIL (India) Limited</td>\n",
       "      <td>1.0425</td>\n",
       "    </tr>\n",
       "  </tbody>\n",
       "</table>"
      ],
      "text/plain": [
       "<IPython.core.display.HTML object>"
      ]
     },
     "metadata": {},
     "output_type": "display_data"
    }
   ],
   "source": [
    "df = pd.DataFrame(result)\n",
    "df.columns=['company','page_rank_score']\n",
    "display(HTML(df.head(6).to_html()))"
   ]
  },
  {
   "cell_type": "code",
   "execution_count": null,
   "metadata": {},
   "outputs": [],
   "source": []
  },
  {
   "cell_type": "code",
   "execution_count": null,
   "metadata": {},
   "outputs": [],
   "source": []
  },
  {
   "cell_type": "markdown",
   "metadata": {},
   "source": [
    "## 4. Time influence  \n",
    "\n",
    "- Finding the highly active time for the day, which may be useful to identify at what time of the day users are most active"
   ]
  },
  {
   "cell_type": "code",
   "execution_count": 12,
   "metadata": {},
   "outputs": [],
   "source": [
    "q = '''match (tw:tweets)-[:at_this]->(t:time)\n",
    "with t.year as year, t.month as month, t.day as day, t.hour as hour,\n",
    "count(*) as num_tweets where toInteger(year) = 2022 and toInteger(month) = 6\n",
    "and toInteger(day) = 2 and hour>\"0\"\n",
    "return hour+' pm.', num_tweets'''"
   ]
  },
  {
   "cell_type": "code",
   "execution_count": 13,
   "metadata": {},
   "outputs": [],
   "source": [
    "result = conn.query(q, db=db_config.DATABASE)"
   ]
  },
  {
   "cell_type": "code",
   "execution_count": 14,
   "metadata": {},
   "outputs": [
    {
     "data": {
      "text/html": [
       "<table border=\"1\" class=\"dataframe\">\n",
       "  <thead>\n",
       "    <tr style=\"text-align: right;\">\n",
       "      <th></th>\n",
       "      <th>time</th>\n",
       "      <th>no_of_tweets</th>\n",
       "    </tr>\n",
       "  </thead>\n",
       "  <tbody>\n",
       "    <tr>\n",
       "      <th>0</th>\n",
       "      <td>1 pm.</td>\n",
       "      <td>6</td>\n",
       "    </tr>\n",
       "    <tr>\n",
       "      <th>1</th>\n",
       "      <td>2 pm.</td>\n",
       "      <td>13</td>\n",
       "    </tr>\n",
       "    <tr>\n",
       "      <th>2</th>\n",
       "      <td>3 pm.</td>\n",
       "      <td>13</td>\n",
       "    </tr>\n",
       "    <tr>\n",
       "      <th>3</th>\n",
       "      <td>4 pm.</td>\n",
       "      <td>12</td>\n",
       "    </tr>\n",
       "    <tr>\n",
       "      <th>4</th>\n",
       "      <td>5 pm.</td>\n",
       "      <td>13</td>\n",
       "    </tr>\n",
       "    <tr>\n",
       "      <th>5</th>\n",
       "      <td>6 pm.</td>\n",
       "      <td>12</td>\n",
       "    </tr>\n",
       "    <tr>\n",
       "      <th>6</th>\n",
       "      <td>7 pm.</td>\n",
       "      <td>14</td>\n",
       "    </tr>\n",
       "    <tr>\n",
       "      <th>7</th>\n",
       "      <td>8 pm.</td>\n",
       "      <td>14</td>\n",
       "    </tr>\n",
       "    <tr>\n",
       "      <th>8</th>\n",
       "      <td>9 pm.</td>\n",
       "      <td>5</td>\n",
       "    </tr>\n",
       "    <tr>\n",
       "      <th>9</th>\n",
       "      <td>10 pm.</td>\n",
       "      <td>8</td>\n",
       "    </tr>\n",
       "  </tbody>\n",
       "</table>"
      ],
      "text/plain": [
       "<IPython.core.display.HTML object>"
      ]
     },
     "metadata": {},
     "output_type": "display_data"
    }
   ],
   "source": [
    "df = pd.DataFrame(result)\n",
    "df.columns=['time','no_of_tweets']\n",
    "display(HTML(df.head(10).to_html()))"
   ]
  },
  {
   "cell_type": "code",
   "execution_count": null,
   "metadata": {},
   "outputs": [],
   "source": []
  },
  {
   "cell_type": "code",
   "execution_count": null,
   "metadata": {},
   "outputs": [],
   "source": []
  },
  {
   "cell_type": "markdown",
   "metadata": {},
   "source": [
    "## 5. Most Influential Tweets\n",
    "- Finding the companies associated with the most influenctial tweet, basically a tweet which has highest support count, companies about which most people are talking about"
   ]
  },
  {
   "cell_type": "code",
   "execution_count": 15,
   "metadata": {},
   "outputs": [],
   "source": [
    "q = '''match (t:tweets)-[r:is_related_to]->(c:company)\n",
    "with c.companyName as comp order by toInteger(t.support_Count) desc\n",
    "return distinct(comp) as Popular_Companies limit 5'''"
   ]
  },
  {
   "cell_type": "code",
   "execution_count": 16,
   "metadata": {},
   "outputs": [],
   "source": [
    "result = conn.query(q, db=db_config.DATABASE)"
   ]
  },
  {
   "cell_type": "code",
   "execution_count": 17,
   "metadata": {},
   "outputs": [
    {
     "data": {
      "text/html": [
       "<table border=\"1\" class=\"dataframe\">\n",
       "  <thead>\n",
       "    <tr style=\"text-align: right;\">\n",
       "      <th></th>\n",
       "      <th>popular companies</th>\n",
       "    </tr>\n",
       "  </thead>\n",
       "  <tbody>\n",
       "    <tr>\n",
       "      <th>0</th>\n",
       "      <td>Reliance Industries Limited</td>\n",
       "    </tr>\n",
       "    <tr>\n",
       "      <th>1</th>\n",
       "      <td>ITC Limited</td>\n",
       "    </tr>\n",
       "    <tr>\n",
       "      <th>2</th>\n",
       "      <td>Gland Pharma Limited</td>\n",
       "    </tr>\n",
       "    <tr>\n",
       "      <th>3</th>\n",
       "      <td>Housing Development Finance Corporation Limited</td>\n",
       "    </tr>\n",
       "    <tr>\n",
       "      <th>4</th>\n",
       "      <td>Indian Oil Corporation Limited</td>\n",
       "    </tr>\n",
       "  </tbody>\n",
       "</table>"
      ],
      "text/plain": [
       "<IPython.core.display.HTML object>"
      ]
     },
     "metadata": {},
     "output_type": "display_data"
    }
   ],
   "source": [
    "df = pd.DataFrame(result)\n",
    "df.columns=['popular companies']\n",
    "display(HTML(df.head().to_html()))"
   ]
  },
  {
   "cell_type": "code",
   "execution_count": null,
   "metadata": {},
   "outputs": [],
   "source": []
  },
  {
   "cell_type": "markdown",
   "metadata": {},
   "source": [
    "# Conclusion\n",
    "**Similarly many analytics can be done on the data using various algorithams to get the most out of our data and can help us tremendously to extend our business by costemizing pipelines for our cliens**"
   ]
  },
  {
   "cell_type": "markdown",
   "metadata": {},
   "source": []
  }
 ],
 "metadata": {
  "interpreter": {
   "hash": "81acd9ad13fbdb433fe431ec69ce7458ddbfbb23cd0cadd7ac20c1a5c3316ffa"
  },
  "kernelspec": {
   "display_name": "Python 3",
   "language": "python",
   "name": "python3"
  },
  "language_info": {
   "codemirror_mode": {
    "name": "ipython",
    "version": 3
   },
   "file_extension": ".py",
   "mimetype": "text/x-python",
   "name": "python",
   "nbconvert_exporter": "python",
   "pygments_lexer": "ipython3",
   "version": "3.10.4"
  }
 },
 "nbformat": 4,
 "nbformat_minor": 2
}
