{
 "cells": [
  {
   "cell_type": "code",
   "execution_count": 2,
   "id": "22e05334",
   "metadata": {},
   "outputs": [],
   "source": [
    "from config.Neo_connect import Neo4jConnection\n",
    "import pandas as pd\n",
    "import config.db_settings as db_config\n",
    "\n",
    "# stablish connection with neo4j\n",
    "conn = Neo4jConnection(uri=\"bolt://localhost:7687\", user=db_config.USER, pwd=db_config.PASSWORD)\n",
    "#result = conn.query('create database {}'.format(DATABASE))\n",
    "\n"
   ]
  },
  {
   "cell_type": "code",
   "execution_count": 20,
   "id": "f57c91b1",
   "metadata": {},
   "outputs": [],
   "source": [
    "import glob\n",
    "import re\n",
    "import pandas as pd\n",
    "import numpy as np"
   ]
  },
  {
   "cell_type": "markdown",
   "id": "e5ddedda",
   "metadata": {},
   "source": [
    "## company"
   ]
  },
  {
   "cell_type": "code",
   "execution_count": 22,
   "id": "e04673d4",
   "metadata": {},
   "outputs": [],
   "source": [
    "comp_ID = pd.read_csv(\"data/stock_data.csv\")"
   ]
  },
  {
   "cell_type": "code",
   "execution_count": 29,
   "id": "d9286707",
   "metadata": {},
   "outputs": [],
   "source": [
    "comp_ID[['company_ID','symbol','companyName']].to_csv(\"data_/company_ID\")"
   ]
  },
  {
   "cell_type": "code",
   "execution_count": 30,
   "id": "8135853f",
   "metadata": {},
   "outputs": [],
   "source": [
    "company = pd.read_csv(\"data_/company_ID\")"
   ]
  },
  {
   "cell_type": "markdown",
   "id": "caaf615d",
   "metadata": {},
   "source": [
    "## stocks"
   ]
  },
  {
   "cell_type": "code",
   "execution_count": 9,
   "id": "59fcbe68",
   "metadata": {},
   "outputs": [],
   "source": [
    "stocks = glob.glob(\"processed_stocks/*\")\n"
   ]
  },
  {
   "cell_type": "code",
   "execution_count": 31,
   "id": "31f40645",
   "metadata": {},
   "outputs": [],
   "source": [
    "stock = pd.DataFrame(columns = ['symbol','lastPrice','dayHigh','dayLow','closePrice','open','timestamp_ID','stock_market_ID','company_ID'])"
   ]
  },
  {
   "cell_type": "code",
   "execution_count": 41,
   "id": "b781f8ed",
   "metadata": {},
   "outputs": [
    {
     "name": "stdout",
     "output_type": "stream",
     "text": [
      "0\n",
      "processed_stocks\\stock_data_10_0.csv\n"
     ]
    },
    {
     "name": "stderr",
     "output_type": "stream",
     "text": [
      "<ipython-input-41-b0505a4f15ed>:14: SettingWithCopyWarning: \n",
      "A value is trying to be set on a copy of a slice from a DataFrame\n",
      "\n",
      "See the caveats in the documentation: https://pandas.pydata.org/pandas-docs/stable/user_guide/indexing.html#returning-a-view-versus-a-copy\n",
      "  st_data['company_ID'][j] = j\n",
      "<ipython-input-41-b0505a4f15ed>:16: FutureWarning: The frame.append method is deprecated and will be removed from pandas in a future version. Use pandas.concat instead.\n",
      "  stock = stock.append(st_data[['symbol','lastPrice','dayHigh','dayLow','closePrice','open','timestamp_ID','stock_market_ID','company_ID']],ignore_index = True)\n",
      "<ipython-input-41-b0505a4f15ed>:14: SettingWithCopyWarning: \n",
      "A value is trying to be set on a copy of a slice from a DataFrame\n",
      "\n",
      "See the caveats in the documentation: https://pandas.pydata.org/pandas-docs/stable/user_guide/indexing.html#returning-a-view-versus-a-copy\n",
      "  st_data['company_ID'][j] = j\n"
     ]
    },
    {
     "name": "stdout",
     "output_type": "stream",
     "text": [
      "12\n",
      "processed_stocks\\stock_data_10_12.csv\n"
     ]
    },
    {
     "name": "stderr",
     "output_type": "stream",
     "text": [
      "<ipython-input-41-b0505a4f15ed>:16: FutureWarning: The frame.append method is deprecated and will be removed from pandas in a future version. Use pandas.concat instead.\n",
      "  stock = stock.append(st_data[['symbol','lastPrice','dayHigh','dayLow','closePrice','open','timestamp_ID','stock_market_ID','company_ID']],ignore_index = True)\n",
      "<ipython-input-41-b0505a4f15ed>:14: SettingWithCopyWarning: \n",
      "A value is trying to be set on a copy of a slice from a DataFrame\n",
      "\n",
      "See the caveats in the documentation: https://pandas.pydata.org/pandas-docs/stable/user_guide/indexing.html#returning-a-view-versus-a-copy\n",
      "  st_data['company_ID'][j] = j\n"
     ]
    },
    {
     "name": "stdout",
     "output_type": "stream",
     "text": [
      "15\n",
      "processed_stocks\\stock_data_10_15.csv\n"
     ]
    },
    {
     "name": "stderr",
     "output_type": "stream",
     "text": [
      "<ipython-input-41-b0505a4f15ed>:16: FutureWarning: The frame.append method is deprecated and will be removed from pandas in a future version. Use pandas.concat instead.\n",
      "  stock = stock.append(st_data[['symbol','lastPrice','dayHigh','dayLow','closePrice','open','timestamp_ID','stock_market_ID','company_ID']],ignore_index = True)\n",
      "<ipython-input-41-b0505a4f15ed>:14: SettingWithCopyWarning: \n",
      "A value is trying to be set on a copy of a slice from a DataFrame\n",
      "\n",
      "See the caveats in the documentation: https://pandas.pydata.org/pandas-docs/stable/user_guide/indexing.html#returning-a-view-versus-a-copy\n",
      "  st_data['company_ID'][j] = j\n"
     ]
    },
    {
     "name": "stdout",
     "output_type": "stream",
     "text": [
      "18\n",
      "processed_stocks\\stock_data_10_18.csv\n"
     ]
    },
    {
     "name": "stderr",
     "output_type": "stream",
     "text": [
      "<ipython-input-41-b0505a4f15ed>:16: FutureWarning: The frame.append method is deprecated and will be removed from pandas in a future version. Use pandas.concat instead.\n",
      "  stock = stock.append(st_data[['symbol','lastPrice','dayHigh','dayLow','closePrice','open','timestamp_ID','stock_market_ID','company_ID']],ignore_index = True)\n",
      "<ipython-input-41-b0505a4f15ed>:14: SettingWithCopyWarning: \n",
      "A value is trying to be set on a copy of a slice from a DataFrame\n",
      "\n",
      "See the caveats in the documentation: https://pandas.pydata.org/pandas-docs/stable/user_guide/indexing.html#returning-a-view-versus-a-copy\n",
      "  st_data['company_ID'][j] = j\n"
     ]
    },
    {
     "name": "stdout",
     "output_type": "stream",
     "text": [
      "21\n",
      "processed_stocks\\stock_data_10_21.csv\n"
     ]
    },
    {
     "name": "stderr",
     "output_type": "stream",
     "text": [
      "<ipython-input-41-b0505a4f15ed>:16: FutureWarning: The frame.append method is deprecated and will be removed from pandas in a future version. Use pandas.concat instead.\n",
      "  stock = stock.append(st_data[['symbol','lastPrice','dayHigh','dayLow','closePrice','open','timestamp_ID','stock_market_ID','company_ID']],ignore_index = True)\n",
      "<ipython-input-41-b0505a4f15ed>:14: SettingWithCopyWarning: \n",
      "A value is trying to be set on a copy of a slice from a DataFrame\n",
      "\n",
      "See the caveats in the documentation: https://pandas.pydata.org/pandas-docs/stable/user_guide/indexing.html#returning-a-view-versus-a-copy\n",
      "  st_data['company_ID'][j] = j\n"
     ]
    },
    {
     "name": "stdout",
     "output_type": "stream",
     "text": [
      "24\n",
      "processed_stocks\\stock_data_10_24.csv\n"
     ]
    },
    {
     "name": "stderr",
     "output_type": "stream",
     "text": [
      "<ipython-input-41-b0505a4f15ed>:16: FutureWarning: The frame.append method is deprecated and will be removed from pandas in a future version. Use pandas.concat instead.\n",
      "  stock = stock.append(st_data[['symbol','lastPrice','dayHigh','dayLow','closePrice','open','timestamp_ID','stock_market_ID','company_ID']],ignore_index = True)\n",
      "<ipython-input-41-b0505a4f15ed>:14: SettingWithCopyWarning: \n",
      "A value is trying to be set on a copy of a slice from a DataFrame\n",
      "\n",
      "See the caveats in the documentation: https://pandas.pydata.org/pandas-docs/stable/user_guide/indexing.html#returning-a-view-versus-a-copy\n",
      "  st_data['company_ID'][j] = j\n"
     ]
    },
    {
     "name": "stdout",
     "output_type": "stream",
     "text": [
      "27\n",
      "processed_stocks\\stock_data_10_27.csv\n"
     ]
    },
    {
     "name": "stderr",
     "output_type": "stream",
     "text": [
      "<ipython-input-41-b0505a4f15ed>:16: FutureWarning: The frame.append method is deprecated and will be removed from pandas in a future version. Use pandas.concat instead.\n",
      "  stock = stock.append(st_data[['symbol','lastPrice','dayHigh','dayLow','closePrice','open','timestamp_ID','stock_market_ID','company_ID']],ignore_index = True)\n",
      "<ipython-input-41-b0505a4f15ed>:14: SettingWithCopyWarning: \n",
      "A value is trying to be set on a copy of a slice from a DataFrame\n",
      "\n",
      "See the caveats in the documentation: https://pandas.pydata.org/pandas-docs/stable/user_guide/indexing.html#returning-a-view-versus-a-copy\n",
      "  st_data['company_ID'][j] = j\n"
     ]
    },
    {
     "name": "stdout",
     "output_type": "stream",
     "text": [
      "3\n",
      "processed_stocks\\stock_data_10_3.csv\n"
     ]
    },
    {
     "name": "stderr",
     "output_type": "stream",
     "text": [
      "<ipython-input-41-b0505a4f15ed>:16: FutureWarning: The frame.append method is deprecated and will be removed from pandas in a future version. Use pandas.concat instead.\n",
      "  stock = stock.append(st_data[['symbol','lastPrice','dayHigh','dayLow','closePrice','open','timestamp_ID','stock_market_ID','company_ID']],ignore_index = True)\n",
      "<ipython-input-41-b0505a4f15ed>:14: SettingWithCopyWarning: \n",
      "A value is trying to be set on a copy of a slice from a DataFrame\n",
      "\n",
      "See the caveats in the documentation: https://pandas.pydata.org/pandas-docs/stable/user_guide/indexing.html#returning-a-view-versus-a-copy\n",
      "  st_data['company_ID'][j] = j\n"
     ]
    },
    {
     "name": "stdout",
     "output_type": "stream",
     "text": [
      "30\n",
      "processed_stocks\\stock_data_10_30.csv\n"
     ]
    },
    {
     "name": "stderr",
     "output_type": "stream",
     "text": [
      "<ipython-input-41-b0505a4f15ed>:16: FutureWarning: The frame.append method is deprecated and will be removed from pandas in a future version. Use pandas.concat instead.\n",
      "  stock = stock.append(st_data[['symbol','lastPrice','dayHigh','dayLow','closePrice','open','timestamp_ID','stock_market_ID','company_ID']],ignore_index = True)\n",
      "<ipython-input-41-b0505a4f15ed>:14: SettingWithCopyWarning: \n",
      "A value is trying to be set on a copy of a slice from a DataFrame\n",
      "\n",
      "See the caveats in the documentation: https://pandas.pydata.org/pandas-docs/stable/user_guide/indexing.html#returning-a-view-versus-a-copy\n",
      "  st_data['company_ID'][j] = j\n"
     ]
    },
    {
     "name": "stdout",
     "output_type": "stream",
     "text": [
      "33\n",
      "processed_stocks\\stock_data_10_33.csv\n"
     ]
    },
    {
     "name": "stderr",
     "output_type": "stream",
     "text": [
      "<ipython-input-41-b0505a4f15ed>:16: FutureWarning: The frame.append method is deprecated and will be removed from pandas in a future version. Use pandas.concat instead.\n",
      "  stock = stock.append(st_data[['symbol','lastPrice','dayHigh','dayLow','closePrice','open','timestamp_ID','stock_market_ID','company_ID']],ignore_index = True)\n",
      "<ipython-input-41-b0505a4f15ed>:14: SettingWithCopyWarning: \n",
      "A value is trying to be set on a copy of a slice from a DataFrame\n",
      "\n",
      "See the caveats in the documentation: https://pandas.pydata.org/pandas-docs/stable/user_guide/indexing.html#returning-a-view-versus-a-copy\n",
      "  st_data['company_ID'][j] = j\n"
     ]
    },
    {
     "name": "stdout",
     "output_type": "stream",
     "text": [
      "36\n",
      "processed_stocks\\stock_data_10_36.csv\n"
     ]
    },
    {
     "name": "stderr",
     "output_type": "stream",
     "text": [
      "<ipython-input-41-b0505a4f15ed>:16: FutureWarning: The frame.append method is deprecated and will be removed from pandas in a future version. Use pandas.concat instead.\n",
      "  stock = stock.append(st_data[['symbol','lastPrice','dayHigh','dayLow','closePrice','open','timestamp_ID','stock_market_ID','company_ID']],ignore_index = True)\n",
      "<ipython-input-41-b0505a4f15ed>:14: SettingWithCopyWarning: \n",
      "A value is trying to be set on a copy of a slice from a DataFrame\n",
      "\n",
      "See the caveats in the documentation: https://pandas.pydata.org/pandas-docs/stable/user_guide/indexing.html#returning-a-view-versus-a-copy\n",
      "  st_data['company_ID'][j] = j\n"
     ]
    },
    {
     "name": "stdout",
     "output_type": "stream",
     "text": [
      "39\n",
      "processed_stocks\\stock_data_10_39.csv\n"
     ]
    },
    {
     "name": "stderr",
     "output_type": "stream",
     "text": [
      "<ipython-input-41-b0505a4f15ed>:16: FutureWarning: The frame.append method is deprecated and will be removed from pandas in a future version. Use pandas.concat instead.\n",
      "  stock = stock.append(st_data[['symbol','lastPrice','dayHigh','dayLow','closePrice','open','timestamp_ID','stock_market_ID','company_ID']],ignore_index = True)\n",
      "<ipython-input-41-b0505a4f15ed>:14: SettingWithCopyWarning: \n",
      "A value is trying to be set on a copy of a slice from a DataFrame\n",
      "\n",
      "See the caveats in the documentation: https://pandas.pydata.org/pandas-docs/stable/user_guide/indexing.html#returning-a-view-versus-a-copy\n",
      "  st_data['company_ID'][j] = j\n"
     ]
    },
    {
     "name": "stdout",
     "output_type": "stream",
     "text": [
      "42\n",
      "processed_stocks\\stock_data_10_42.csv\n"
     ]
    },
    {
     "name": "stderr",
     "output_type": "stream",
     "text": [
      "<ipython-input-41-b0505a4f15ed>:16: FutureWarning: The frame.append method is deprecated and will be removed from pandas in a future version. Use pandas.concat instead.\n",
      "  stock = stock.append(st_data[['symbol','lastPrice','dayHigh','dayLow','closePrice','open','timestamp_ID','stock_market_ID','company_ID']],ignore_index = True)\n",
      "<ipython-input-41-b0505a4f15ed>:14: SettingWithCopyWarning: \n",
      "A value is trying to be set on a copy of a slice from a DataFrame\n",
      "\n",
      "See the caveats in the documentation: https://pandas.pydata.org/pandas-docs/stable/user_guide/indexing.html#returning-a-view-versus-a-copy\n",
      "  st_data['company_ID'][j] = j\n"
     ]
    },
    {
     "name": "stdout",
     "output_type": "stream",
     "text": [
      "45\n",
      "processed_stocks\\stock_data_10_45.csv\n"
     ]
    },
    {
     "name": "stderr",
     "output_type": "stream",
     "text": [
      "<ipython-input-41-b0505a4f15ed>:16: FutureWarning: The frame.append method is deprecated and will be removed from pandas in a future version. Use pandas.concat instead.\n",
      "  stock = stock.append(st_data[['symbol','lastPrice','dayHigh','dayLow','closePrice','open','timestamp_ID','stock_market_ID','company_ID']],ignore_index = True)\n",
      "<ipython-input-41-b0505a4f15ed>:14: SettingWithCopyWarning: \n",
      "A value is trying to be set on a copy of a slice from a DataFrame\n",
      "\n",
      "See the caveats in the documentation: https://pandas.pydata.org/pandas-docs/stable/user_guide/indexing.html#returning-a-view-versus-a-copy\n",
      "  st_data['company_ID'][j] = j\n"
     ]
    },
    {
     "name": "stdout",
     "output_type": "stream",
     "text": [
      "48\n",
      "processed_stocks\\stock_data_10_48.csv\n"
     ]
    },
    {
     "name": "stderr",
     "output_type": "stream",
     "text": [
      "<ipython-input-41-b0505a4f15ed>:16: FutureWarning: The frame.append method is deprecated and will be removed from pandas in a future version. Use pandas.concat instead.\n",
      "  stock = stock.append(st_data[['symbol','lastPrice','dayHigh','dayLow','closePrice','open','timestamp_ID','stock_market_ID','company_ID']],ignore_index = True)\n",
      "<ipython-input-41-b0505a4f15ed>:14: SettingWithCopyWarning: \n",
      "A value is trying to be set on a copy of a slice from a DataFrame\n",
      "\n",
      "See the caveats in the documentation: https://pandas.pydata.org/pandas-docs/stable/user_guide/indexing.html#returning-a-view-versus-a-copy\n",
      "  st_data['company_ID'][j] = j\n"
     ]
    },
    {
     "name": "stdout",
     "output_type": "stream",
     "text": [
      "51\n",
      "processed_stocks\\stock_data_10_51.csv\n"
     ]
    },
    {
     "name": "stderr",
     "output_type": "stream",
     "text": [
      "<ipython-input-41-b0505a4f15ed>:16: FutureWarning: The frame.append method is deprecated and will be removed from pandas in a future version. Use pandas.concat instead.\n",
      "  stock = stock.append(st_data[['symbol','lastPrice','dayHigh','dayLow','closePrice','open','timestamp_ID','stock_market_ID','company_ID']],ignore_index = True)\n",
      "<ipython-input-41-b0505a4f15ed>:14: SettingWithCopyWarning: \n",
      "A value is trying to be set on a copy of a slice from a DataFrame\n",
      "\n",
      "See the caveats in the documentation: https://pandas.pydata.org/pandas-docs/stable/user_guide/indexing.html#returning-a-view-versus-a-copy\n",
      "  st_data['company_ID'][j] = j\n"
     ]
    },
    {
     "name": "stdout",
     "output_type": "stream",
     "text": [
      "54\n",
      "processed_stocks\\stock_data_10_54.csv\n"
     ]
    },
    {
     "name": "stderr",
     "output_type": "stream",
     "text": [
      "<ipython-input-41-b0505a4f15ed>:16: FutureWarning: The frame.append method is deprecated and will be removed from pandas in a future version. Use pandas.concat instead.\n",
      "  stock = stock.append(st_data[['symbol','lastPrice','dayHigh','dayLow','closePrice','open','timestamp_ID','stock_market_ID','company_ID']],ignore_index = True)\n",
      "<ipython-input-41-b0505a4f15ed>:14: SettingWithCopyWarning: \n",
      "A value is trying to be set on a copy of a slice from a DataFrame\n",
      "\n",
      "See the caveats in the documentation: https://pandas.pydata.org/pandas-docs/stable/user_guide/indexing.html#returning-a-view-versus-a-copy\n",
      "  st_data['company_ID'][j] = j\n"
     ]
    },
    {
     "name": "stdout",
     "output_type": "stream",
     "text": [
      "57\n",
      "processed_stocks\\stock_data_10_57.csv\n"
     ]
    },
    {
     "name": "stderr",
     "output_type": "stream",
     "text": [
      "<ipython-input-41-b0505a4f15ed>:16: FutureWarning: The frame.append method is deprecated and will be removed from pandas in a future version. Use pandas.concat instead.\n",
      "  stock = stock.append(st_data[['symbol','lastPrice','dayHigh','dayLow','closePrice','open','timestamp_ID','stock_market_ID','company_ID']],ignore_index = True)\n",
      "<ipython-input-41-b0505a4f15ed>:14: SettingWithCopyWarning: \n",
      "A value is trying to be set on a copy of a slice from a DataFrame\n",
      "\n",
      "See the caveats in the documentation: https://pandas.pydata.org/pandas-docs/stable/user_guide/indexing.html#returning-a-view-versus-a-copy\n",
      "  st_data['company_ID'][j] = j\n"
     ]
    },
    {
     "name": "stdout",
     "output_type": "stream",
     "text": [
      "6\n",
      "processed_stocks\\stock_data_10_6.csv\n"
     ]
    },
    {
     "name": "stderr",
     "output_type": "stream",
     "text": [
      "<ipython-input-41-b0505a4f15ed>:16: FutureWarning: The frame.append method is deprecated and will be removed from pandas in a future version. Use pandas.concat instead.\n",
      "  stock = stock.append(st_data[['symbol','lastPrice','dayHigh','dayLow','closePrice','open','timestamp_ID','stock_market_ID','company_ID']],ignore_index = True)\n",
      "<ipython-input-41-b0505a4f15ed>:14: SettingWithCopyWarning: \n",
      "A value is trying to be set on a copy of a slice from a DataFrame\n",
      "\n",
      "See the caveats in the documentation: https://pandas.pydata.org/pandas-docs/stable/user_guide/indexing.html#returning-a-view-versus-a-copy\n",
      "  st_data['company_ID'][j] = j\n"
     ]
    },
    {
     "name": "stdout",
     "output_type": "stream",
     "text": [
      "9\n",
      "processed_stocks\\stock_data_10_9.csv\n"
     ]
    },
    {
     "name": "stderr",
     "output_type": "stream",
     "text": [
      "<ipython-input-41-b0505a4f15ed>:16: FutureWarning: The frame.append method is deprecated and will be removed from pandas in a future version. Use pandas.concat instead.\n",
      "  stock = stock.append(st_data[['symbol','lastPrice','dayHigh','dayLow','closePrice','open','timestamp_ID','stock_market_ID','company_ID']],ignore_index = True)\n"
     ]
    }
   ],
   "source": [
    "#symbol,companyName,lastPrice,dayHigh,dayLow,closePrice,open,timestamp_ID,stock_market_ID,company_ID\n",
    "time_count = 0 \n",
    "\n",
    "for i in range(len(stocks)):\n",
    "    minute = re.findall(r\"\\d+\",stocks[i])\n",
    "    if int(minute[1])%3 == 0:  # get every 3rd minute to match with tweet data\n",
    "        print(minute[1])\n",
    "        print(stocks[i])\n",
    "        st_data = pd.read_csv(stocks[i])\n",
    "        st_data['timestamp_ID'] = time_count\n",
    "        st_data['stock_market_ID'] = 1 \n",
    "        st_data['company_ID'] = 0\n",
    "        for j in range(len(company)):\n",
    "            st_data['company_ID'][j] = j\n",
    "            \n",
    "        stock = stock.append(st_data[['symbol','lastPrice','dayHigh','dayLow','closePrice','open','timestamp_ID','stock_market_ID','company_ID']],ignore_index = True)\n",
    "        time_count = time_count + 1\n",
    "        "
   ]
  },
  {
   "cell_type": "code",
   "execution_count": 42,
   "id": "fd0cd27d",
   "metadata": {},
   "outputs": [],
   "source": [
    "stock.to_csv(\"data_/stock_data.csv\")"
   ]
  },
  {
   "cell_type": "code",
   "execution_count": 50,
   "id": "e8f15aee",
   "metadata": {},
   "outputs": [
    {
     "data": {
      "text/plain": [
       "20"
      ]
     },
     "execution_count": 50,
     "metadata": {},
     "output_type": "execute_result"
    }
   ],
   "source": [
    "time_count"
   ]
  },
  {
   "cell_type": "code",
   "execution_count": null,
   "id": "716b3510",
   "metadata": {},
   "outputs": [],
   "source": []
  },
  {
   "cell_type": "code",
   "execution_count": null,
   "id": "8883d106",
   "metadata": {},
   "outputs": [],
   "source": []
  },
  {
   "cell_type": "markdown",
   "id": "b58332be",
   "metadata": {},
   "source": [
    "## stock market "
   ]
  },
  {
   "cell_type": "code",
   "execution_count": 43,
   "id": "e62d3ecf",
   "metadata": {},
   "outputs": [],
   "source": [
    "stock_market = pd.DataFrame(columns= [\"ID\",\"country\",\"stock_name\"])"
   ]
  },
  {
   "cell_type": "code",
   "execution_count": 44,
   "id": "f5cd9960",
   "metadata": {},
   "outputs": [
    {
     "name": "stderr",
     "output_type": "stream",
     "text": [
      "<ipython-input-44-1ca4daeac704>:1: FutureWarning: The frame.append method is deprecated and will be removed from pandas in a future version. Use pandas.concat instead.\n",
      "  stock_market = stock_market.append({\"ID\":1,\"country\":\"INDIA\",\"stock_name\":\"NSE\"},ignore_index=True)\n"
     ]
    }
   ],
   "source": [
    "stock_market = stock_market.append({\"ID\":1,\"country\":\"INDIA\",\"stock_name\":\"NSE\"},ignore_index=True)"
   ]
  },
  {
   "cell_type": "code",
   "execution_count": 45,
   "id": "7f1c6b40",
   "metadata": {},
   "outputs": [
    {
     "data": {
      "text/html": [
       "<div>\n",
       "<style scoped>\n",
       "    .dataframe tbody tr th:only-of-type {\n",
       "        vertical-align: middle;\n",
       "    }\n",
       "\n",
       "    .dataframe tbody tr th {\n",
       "        vertical-align: top;\n",
       "    }\n",
       "\n",
       "    .dataframe thead th {\n",
       "        text-align: right;\n",
       "    }\n",
       "</style>\n",
       "<table border=\"1\" class=\"dataframe\">\n",
       "  <thead>\n",
       "    <tr style=\"text-align: right;\">\n",
       "      <th></th>\n",
       "      <th>ID</th>\n",
       "      <th>country</th>\n",
       "      <th>stock_name</th>\n",
       "    </tr>\n",
       "  </thead>\n",
       "  <tbody>\n",
       "    <tr>\n",
       "      <th>0</th>\n",
       "      <td>1</td>\n",
       "      <td>INDIA</td>\n",
       "      <td>NSE</td>\n",
       "    </tr>\n",
       "  </tbody>\n",
       "</table>\n",
       "</div>"
      ],
      "text/plain": [
       "  ID country stock_name\n",
       "0  1   INDIA        NSE"
      ]
     },
     "execution_count": 45,
     "metadata": {},
     "output_type": "execute_result"
    }
   ],
   "source": [
    "stock_market.head()"
   ]
  },
  {
   "cell_type": "code",
   "execution_count": 46,
   "id": "41001309",
   "metadata": {},
   "outputs": [],
   "source": [
    "stock_market.to_csv(\"data_/stock_market.csv\")"
   ]
  },
  {
   "cell_type": "code",
   "execution_count": null,
   "id": "29c7ba24",
   "metadata": {},
   "outputs": [],
   "source": []
  },
  {
   "cell_type": "markdown",
   "id": "d1798c4b",
   "metadata": {},
   "source": [
    "## timestamps\n"
   ]
  },
  {
   "cell_type": "code",
   "execution_count": 48,
   "id": "8ebed3da",
   "metadata": {},
   "outputs": [],
   "source": [
    "import datetime\n",
    "from datetime import datetime\n"
   ]
  },
  {
   "cell_type": "code",
   "execution_count": 82,
   "id": "185f74d3",
   "metadata": {},
   "outputs": [
    {
     "data": {
      "text/plain": [
       "Timestamp('2022-06-02 01:00:00')"
      ]
     },
     "execution_count": 82,
     "metadata": {},
     "output_type": "execute_result"
    }
   ],
   "source": [
    "d = '1'\n",
    "timestamp = pd.Timestamp('2022-6-2 '+d+':00:00')\n",
    "timestamp"
   ]
  },
  {
   "cell_type": "code",
   "execution_count": 92,
   "id": "32577585",
   "metadata": {},
   "outputs": [],
   "source": [
    "time_ = pd.DataFrame(columns = [\"ID\",\"year\",\"month\",\"day\",\"hour\",\"timestamp\"])"
   ]
  },
  {
   "cell_type": "code",
   "execution_count": null,
   "id": "b398a1aa",
   "metadata": {},
   "outputs": [],
   "source": [
    "for i in range(1,20,1):\n",
    "    print(i)\n",
    "\n",
    "   \n",
    "    timestamp = pd.Timestamp('2022-6-2 '+str(i)+':00:00')\n",
    "    print(timestamp)\n",
    "    time_ = time_.append({\"ID\":i,\"year\":2022,\"month\":6,\"day\":2,\"hour\":i,\"timestamp\":timestamp},ignore_index = True)"
   ]
  },
  {
   "cell_type": "code",
   "execution_count": 94,
   "id": "51ec542a",
   "metadata": {},
   "outputs": [
    {
     "data": {
      "text/html": [
       "<div>\n",
       "<style scoped>\n",
       "    .dataframe tbody tr th:only-of-type {\n",
       "        vertical-align: middle;\n",
       "    }\n",
       "\n",
       "    .dataframe tbody tr th {\n",
       "        vertical-align: top;\n",
       "    }\n",
       "\n",
       "    .dataframe thead th {\n",
       "        text-align: right;\n",
       "    }\n",
       "</style>\n",
       "<table border=\"1\" class=\"dataframe\">\n",
       "  <thead>\n",
       "    <tr style=\"text-align: right;\">\n",
       "      <th></th>\n",
       "      <th>ID</th>\n",
       "      <th>year</th>\n",
       "      <th>month</th>\n",
       "      <th>day</th>\n",
       "      <th>hour</th>\n",
       "      <th>timestamp</th>\n",
       "    </tr>\n",
       "  </thead>\n",
       "  <tbody>\n",
       "    <tr>\n",
       "      <th>0</th>\n",
       "      <td>1</td>\n",
       "      <td>2022</td>\n",
       "      <td>6</td>\n",
       "      <td>2</td>\n",
       "      <td>1</td>\n",
       "      <td>2022-06-02 01:00:00</td>\n",
       "    </tr>\n",
       "    <tr>\n",
       "      <th>1</th>\n",
       "      <td>2</td>\n",
       "      <td>2022</td>\n",
       "      <td>6</td>\n",
       "      <td>2</td>\n",
       "      <td>2</td>\n",
       "      <td>2022-06-02 02:00:00</td>\n",
       "    </tr>\n",
       "    <tr>\n",
       "      <th>2</th>\n",
       "      <td>3</td>\n",
       "      <td>2022</td>\n",
       "      <td>6</td>\n",
       "      <td>2</td>\n",
       "      <td>3</td>\n",
       "      <td>2022-06-02 03:00:00</td>\n",
       "    </tr>\n",
       "    <tr>\n",
       "      <th>3</th>\n",
       "      <td>4</td>\n",
       "      <td>2022</td>\n",
       "      <td>6</td>\n",
       "      <td>2</td>\n",
       "      <td>4</td>\n",
       "      <td>2022-06-02 04:00:00</td>\n",
       "    </tr>\n",
       "    <tr>\n",
       "      <th>4</th>\n",
       "      <td>5</td>\n",
       "      <td>2022</td>\n",
       "      <td>6</td>\n",
       "      <td>2</td>\n",
       "      <td>5</td>\n",
       "      <td>2022-06-02 05:00:00</td>\n",
       "    </tr>\n",
       "  </tbody>\n",
       "</table>\n",
       "</div>"
      ],
      "text/plain": [
       "  ID  year month day hour            timestamp\n",
       "0  1  2022     6   2    1  2022-06-02 01:00:00\n",
       "1  2  2022     6   2    2  2022-06-02 02:00:00\n",
       "2  3  2022     6   2    3  2022-06-02 03:00:00\n",
       "3  4  2022     6   2    4  2022-06-02 04:00:00\n",
       "4  5  2022     6   2    5  2022-06-02 05:00:00"
      ]
     },
     "execution_count": 94,
     "metadata": {},
     "output_type": "execute_result"
    }
   ],
   "source": [
    "time_.head()"
   ]
  },
  {
   "cell_type": "code",
   "execution_count": 95,
   "id": "7470958f",
   "metadata": {},
   "outputs": [],
   "source": [
    "time_.to_csv(\"data_/time.csv\")"
   ]
  },
  {
   "cell_type": "code",
   "execution_count": null,
   "id": "9ba7eede",
   "metadata": {},
   "outputs": [],
   "source": []
  },
  {
   "cell_type": "markdown",
   "id": "27e67e32",
   "metadata": {},
   "source": [
    "## tweets"
   ]
  },
  {
   "cell_type": "code",
   "execution_count": 125,
   "id": "539cd988",
   "metadata": {},
   "outputs": [],
   "source": [
    "import json\n",
    "import random"
   ]
  },
  {
   "cell_type": "code",
   "execution_count": 106,
   "id": "699b0123",
   "metadata": {},
   "outputs": [],
   "source": [
    "t_file = glob.glob(\"processed_data_stream/*\")\n"
   ]
  },
  {
   "cell_type": "code",
   "execution_count": 132,
   "id": "0eacce0a",
   "metadata": {},
   "outputs": [],
   "source": [
    "tweets = pd.DataFrame(columns = [\"company_name\",\"text\",\"support_Count\",\"rank\",\"sentiment\",\"polarity\",\"userID\",\"mentioned_userID\",\"timestamp_ID\",\"company_ID\",\"tweet_ID\"])"
   ]
  },
  {
   "cell_type": "code",
   "execution_count": 133,
   "id": "0dd4e2d0",
   "metadata": {},
   "outputs": [
    {
     "name": "stderr",
     "output_type": "stream",
     "text": [
      "<ipython-input-133-f11b363facfe>:20: FutureWarning: The frame.append method is deprecated and will be removed from pandas in a future version. Use pandas.concat instead.\n",
      "  tweets = tweets.append({\"company_name\":company_name,\"text\":text,\"support_Count\":support_count,\"rank\":rank,\"sentiment\" :sentiment,\"polarity\":polarity,\"timestamp_ID\":time_count,\n",
      "<ipython-input-133-f11b363facfe>:20: FutureWarning: The frame.append method is deprecated and will be removed from pandas in a future version. Use pandas.concat instead.\n",
      "  tweets = tweets.append({\"company_name\":company_name,\"text\":text,\"support_Count\":support_count,\"rank\":rank,\"sentiment\" :sentiment,\"polarity\":polarity,\"timestamp_ID\":time_count,\n",
      "<ipython-input-133-f11b363facfe>:20: FutureWarning: The frame.append method is deprecated and will be removed from pandas in a future version. Use pandas.concat instead.\n",
      "  tweets = tweets.append({\"company_name\":company_name,\"text\":text,\"support_Count\":support_count,\"rank\":rank,\"sentiment\" :sentiment,\"polarity\":polarity,\"timestamp_ID\":time_count,\n",
      "<ipython-input-133-f11b363facfe>:20: FutureWarning: The frame.append method is deprecated and will be removed from pandas in a future version. Use pandas.concat instead.\n",
      "  tweets = tweets.append({\"company_name\":company_name,\"text\":text,\"support_Count\":support_count,\"rank\":rank,\"sentiment\" :sentiment,\"polarity\":polarity,\"timestamp_ID\":time_count,\n",
      "<ipython-input-133-f11b363facfe>:20: FutureWarning: The frame.append method is deprecated and will be removed from pandas in a future version. Use pandas.concat instead.\n",
      "  tweets = tweets.append({\"company_name\":company_name,\"text\":text,\"support_Count\":support_count,\"rank\":rank,\"sentiment\" :sentiment,\"polarity\":polarity,\"timestamp_ID\":time_count,\n",
      "<ipython-input-133-f11b363facfe>:20: FutureWarning: The frame.append method is deprecated and will be removed from pandas in a future version. Use pandas.concat instead.\n",
      "  tweets = tweets.append({\"company_name\":company_name,\"text\":text,\"support_Count\":support_count,\"rank\":rank,\"sentiment\" :sentiment,\"polarity\":polarity,\"timestamp_ID\":time_count,\n",
      "<ipython-input-133-f11b363facfe>:20: FutureWarning: The frame.append method is deprecated and will be removed from pandas in a future version. Use pandas.concat instead.\n",
      "  tweets = tweets.append({\"company_name\":company_name,\"text\":text,\"support_Count\":support_count,\"rank\":rank,\"sentiment\" :sentiment,\"polarity\":polarity,\"timestamp_ID\":time_count,\n",
      "<ipython-input-133-f11b363facfe>:20: FutureWarning: The frame.append method is deprecated and will be removed from pandas in a future version. Use pandas.concat instead.\n",
      "  tweets = tweets.append({\"company_name\":company_name,\"text\":text,\"support_Count\":support_count,\"rank\":rank,\"sentiment\" :sentiment,\"polarity\":polarity,\"timestamp_ID\":time_count,\n",
      "<ipython-input-133-f11b363facfe>:20: FutureWarning: The frame.append method is deprecated and will be removed from pandas in a future version. Use pandas.concat instead.\n",
      "  tweets = tweets.append({\"company_name\":company_name,\"text\":text,\"support_Count\":support_count,\"rank\":rank,\"sentiment\" :sentiment,\"polarity\":polarity,\"timestamp_ID\":time_count,\n",
      "<ipython-input-133-f11b363facfe>:20: FutureWarning: The frame.append method is deprecated and will be removed from pandas in a future version. Use pandas.concat instead.\n",
      "  tweets = tweets.append({\"company_name\":company_name,\"text\":text,\"support_Count\":support_count,\"rank\":rank,\"sentiment\" :sentiment,\"polarity\":polarity,\"timestamp_ID\":time_count,\n",
      "<ipython-input-133-f11b363facfe>:20: FutureWarning: The frame.append method is deprecated and will be removed from pandas in a future version. Use pandas.concat instead.\n",
      "  tweets = tweets.append({\"company_name\":company_name,\"text\":text,\"support_Count\":support_count,\"rank\":rank,\"sentiment\" :sentiment,\"polarity\":polarity,\"timestamp_ID\":time_count,\n",
      "<ipython-input-133-f11b363facfe>:20: FutureWarning: The frame.append method is deprecated and will be removed from pandas in a future version. Use pandas.concat instead.\n",
      "  tweets = tweets.append({\"company_name\":company_name,\"text\":text,\"support_Count\":support_count,\"rank\":rank,\"sentiment\" :sentiment,\"polarity\":polarity,\"timestamp_ID\":time_count,\n",
      "<ipython-input-133-f11b363facfe>:20: FutureWarning: The frame.append method is deprecated and will be removed from pandas in a future version. Use pandas.concat instead.\n",
      "  tweets = tweets.append({\"company_name\":company_name,\"text\":text,\"support_Count\":support_count,\"rank\":rank,\"sentiment\" :sentiment,\"polarity\":polarity,\"timestamp_ID\":time_count,\n",
      "<ipython-input-133-f11b363facfe>:20: FutureWarning: The frame.append method is deprecated and will be removed from pandas in a future version. Use pandas.concat instead.\n",
      "  tweets = tweets.append({\"company_name\":company_name,\"text\":text,\"support_Count\":support_count,\"rank\":rank,\"sentiment\" :sentiment,\"polarity\":polarity,\"timestamp_ID\":time_count,\n",
      "<ipython-input-133-f11b363facfe>:20: FutureWarning: The frame.append method is deprecated and will be removed from pandas in a future version. Use pandas.concat instead.\n",
      "  tweets = tweets.append({\"company_name\":company_name,\"text\":text,\"support_Count\":support_count,\"rank\":rank,\"sentiment\" :sentiment,\"polarity\":polarity,\"timestamp_ID\":time_count,\n",
      "<ipython-input-133-f11b363facfe>:20: FutureWarning: The frame.append method is deprecated and will be removed from pandas in a future version. Use pandas.concat instead.\n",
      "  tweets = tweets.append({\"company_name\":company_name,\"text\":text,\"support_Count\":support_count,\"rank\":rank,\"sentiment\" :sentiment,\"polarity\":polarity,\"timestamp_ID\":time_count,\n",
      "<ipython-input-133-f11b363facfe>:20: FutureWarning: The frame.append method is deprecated and will be removed from pandas in a future version. Use pandas.concat instead.\n",
      "  tweets = tweets.append({\"company_name\":company_name,\"text\":text,\"support_Count\":support_count,\"rank\":rank,\"sentiment\" :sentiment,\"polarity\":polarity,\"timestamp_ID\":time_count,\n",
      "<ipython-input-133-f11b363facfe>:20: FutureWarning: The frame.append method is deprecated and will be removed from pandas in a future version. Use pandas.concat instead.\n",
      "  tweets = tweets.append({\"company_name\":company_name,\"text\":text,\"support_Count\":support_count,\"rank\":rank,\"sentiment\" :sentiment,\"polarity\":polarity,\"timestamp_ID\":time_count,\n",
      "<ipython-input-133-f11b363facfe>:20: FutureWarning: The frame.append method is deprecated and will be removed from pandas in a future version. Use pandas.concat instead.\n",
      "  tweets = tweets.append({\"company_name\":company_name,\"text\":text,\"support_Count\":support_count,\"rank\":rank,\"sentiment\" :sentiment,\"polarity\":polarity,\"timestamp_ID\":time_count,\n",
      "<ipython-input-133-f11b363facfe>:20: FutureWarning: The frame.append method is deprecated and will be removed from pandas in a future version. Use pandas.concat instead.\n",
      "  tweets = tweets.append({\"company_name\":company_name,\"text\":text,\"support_Count\":support_count,\"rank\":rank,\"sentiment\" :sentiment,\"polarity\":polarity,\"timestamp_ID\":time_count,\n",
      "<ipython-input-133-f11b363facfe>:20: FutureWarning: The frame.append method is deprecated and will be removed from pandas in a future version. Use pandas.concat instead.\n",
      "  tweets = tweets.append({\"company_name\":company_name,\"text\":text,\"support_Count\":support_count,\"rank\":rank,\"sentiment\" :sentiment,\"polarity\":polarity,\"timestamp_ID\":time_count,\n",
      "<ipython-input-133-f11b363facfe>:20: FutureWarning: The frame.append method is deprecated and will be removed from pandas in a future version. Use pandas.concat instead.\n",
      "  tweets = tweets.append({\"company_name\":company_name,\"text\":text,\"support_Count\":support_count,\"rank\":rank,\"sentiment\" :sentiment,\"polarity\":polarity,\"timestamp_ID\":time_count,\n",
      "<ipython-input-133-f11b363facfe>:20: FutureWarning: The frame.append method is deprecated and will be removed from pandas in a future version. Use pandas.concat instead.\n",
      "  tweets = tweets.append({\"company_name\":company_name,\"text\":text,\"support_Count\":support_count,\"rank\":rank,\"sentiment\" :sentiment,\"polarity\":polarity,\"timestamp_ID\":time_count,\n",
      "<ipython-input-133-f11b363facfe>:20: FutureWarning: The frame.append method is deprecated and will be removed from pandas in a future version. Use pandas.concat instead.\n",
      "  tweets = tweets.append({\"company_name\":company_name,\"text\":text,\"support_Count\":support_count,\"rank\":rank,\"sentiment\" :sentiment,\"polarity\":polarity,\"timestamp_ID\":time_count,\n",
      "<ipython-input-133-f11b363facfe>:20: FutureWarning: The frame.append method is deprecated and will be removed from pandas in a future version. Use pandas.concat instead.\n",
      "  tweets = tweets.append({\"company_name\":company_name,\"text\":text,\"support_Count\":support_count,\"rank\":rank,\"sentiment\" :sentiment,\"polarity\":polarity,\"timestamp_ID\":time_count,\n",
      "<ipython-input-133-f11b363facfe>:20: FutureWarning: The frame.append method is deprecated and will be removed from pandas in a future version. Use pandas.concat instead.\n",
      "  tweets = tweets.append({\"company_name\":company_name,\"text\":text,\"support_Count\":support_count,\"rank\":rank,\"sentiment\" :sentiment,\"polarity\":polarity,\"timestamp_ID\":time_count,\n",
      "<ipython-input-133-f11b363facfe>:20: FutureWarning: The frame.append method is deprecated and will be removed from pandas in a future version. Use pandas.concat instead.\n",
      "  tweets = tweets.append({\"company_name\":company_name,\"text\":text,\"support_Count\":support_count,\"rank\":rank,\"sentiment\" :sentiment,\"polarity\":polarity,\"timestamp_ID\":time_count,\n",
      "<ipython-input-133-f11b363facfe>:20: FutureWarning: The frame.append method is deprecated and will be removed from pandas in a future version. Use pandas.concat instead.\n",
      "  tweets = tweets.append({\"company_name\":company_name,\"text\":text,\"support_Count\":support_count,\"rank\":rank,\"sentiment\" :sentiment,\"polarity\":polarity,\"timestamp_ID\":time_count,\n",
      "<ipython-input-133-f11b363facfe>:20: FutureWarning: The frame.append method is deprecated and will be removed from pandas in a future version. Use pandas.concat instead.\n",
      "  tweets = tweets.append({\"company_name\":company_name,\"text\":text,\"support_Count\":support_count,\"rank\":rank,\"sentiment\" :sentiment,\"polarity\":polarity,\"timestamp_ID\":time_count,\n",
      "<ipython-input-133-f11b363facfe>:20: FutureWarning: The frame.append method is deprecated and will be removed from pandas in a future version. Use pandas.concat instead.\n",
      "  tweets = tweets.append({\"company_name\":company_name,\"text\":text,\"support_Count\":support_count,\"rank\":rank,\"sentiment\" :sentiment,\"polarity\":polarity,\"timestamp_ID\":time_count,\n",
      "<ipython-input-133-f11b363facfe>:20: FutureWarning: The frame.append method is deprecated and will be removed from pandas in a future version. Use pandas.concat instead.\n",
      "  tweets = tweets.append({\"company_name\":company_name,\"text\":text,\"support_Count\":support_count,\"rank\":rank,\"sentiment\" :sentiment,\"polarity\":polarity,\"timestamp_ID\":time_count,\n",
      "<ipython-input-133-f11b363facfe>:20: FutureWarning: The frame.append method is deprecated and will be removed from pandas in a future version. Use pandas.concat instead.\n",
      "  tweets = tweets.append({\"company_name\":company_name,\"text\":text,\"support_Count\":support_count,\"rank\":rank,\"sentiment\" :sentiment,\"polarity\":polarity,\"timestamp_ID\":time_count,\n",
      "<ipython-input-133-f11b363facfe>:20: FutureWarning: The frame.append method is deprecated and will be removed from pandas in a future version. Use pandas.concat instead.\n",
      "  tweets = tweets.append({\"company_name\":company_name,\"text\":text,\"support_Count\":support_count,\"rank\":rank,\"sentiment\" :sentiment,\"polarity\":polarity,\"timestamp_ID\":time_count,\n",
      "<ipython-input-133-f11b363facfe>:20: FutureWarning: The frame.append method is deprecated and will be removed from pandas in a future version. Use pandas.concat instead.\n",
      "  tweets = tweets.append({\"company_name\":company_name,\"text\":text,\"support_Count\":support_count,\"rank\":rank,\"sentiment\" :sentiment,\"polarity\":polarity,\"timestamp_ID\":time_count,\n"
     ]
    },
    {
     "name": "stderr",
     "output_type": "stream",
     "text": [
      "<ipython-input-133-f11b363facfe>:20: FutureWarning: The frame.append method is deprecated and will be removed from pandas in a future version. Use pandas.concat instead.\n",
      "  tweets = tweets.append({\"company_name\":company_name,\"text\":text,\"support_Count\":support_count,\"rank\":rank,\"sentiment\" :sentiment,\"polarity\":polarity,\"timestamp_ID\":time_count,\n",
      "<ipython-input-133-f11b363facfe>:20: FutureWarning: The frame.append method is deprecated and will be removed from pandas in a future version. Use pandas.concat instead.\n",
      "  tweets = tweets.append({\"company_name\":company_name,\"text\":text,\"support_Count\":support_count,\"rank\":rank,\"sentiment\" :sentiment,\"polarity\":polarity,\"timestamp_ID\":time_count,\n",
      "<ipython-input-133-f11b363facfe>:20: FutureWarning: The frame.append method is deprecated and will be removed from pandas in a future version. Use pandas.concat instead.\n",
      "  tweets = tweets.append({\"company_name\":company_name,\"text\":text,\"support_Count\":support_count,\"rank\":rank,\"sentiment\" :sentiment,\"polarity\":polarity,\"timestamp_ID\":time_count,\n",
      "<ipython-input-133-f11b363facfe>:20: FutureWarning: The frame.append method is deprecated and will be removed from pandas in a future version. Use pandas.concat instead.\n",
      "  tweets = tweets.append({\"company_name\":company_name,\"text\":text,\"support_Count\":support_count,\"rank\":rank,\"sentiment\" :sentiment,\"polarity\":polarity,\"timestamp_ID\":time_count,\n",
      "<ipython-input-133-f11b363facfe>:20: FutureWarning: The frame.append method is deprecated and will be removed from pandas in a future version. Use pandas.concat instead.\n",
      "  tweets = tweets.append({\"company_name\":company_name,\"text\":text,\"support_Count\":support_count,\"rank\":rank,\"sentiment\" :sentiment,\"polarity\":polarity,\"timestamp_ID\":time_count,\n",
      "<ipython-input-133-f11b363facfe>:20: FutureWarning: The frame.append method is deprecated and will be removed from pandas in a future version. Use pandas.concat instead.\n",
      "  tweets = tweets.append({\"company_name\":company_name,\"text\":text,\"support_Count\":support_count,\"rank\":rank,\"sentiment\" :sentiment,\"polarity\":polarity,\"timestamp_ID\":time_count,\n",
      "<ipython-input-133-f11b363facfe>:20: FutureWarning: The frame.append method is deprecated and will be removed from pandas in a future version. Use pandas.concat instead.\n",
      "  tweets = tweets.append({\"company_name\":company_name,\"text\":text,\"support_Count\":support_count,\"rank\":rank,\"sentiment\" :sentiment,\"polarity\":polarity,\"timestamp_ID\":time_count,\n",
      "<ipython-input-133-f11b363facfe>:20: FutureWarning: The frame.append method is deprecated and will be removed from pandas in a future version. Use pandas.concat instead.\n",
      "  tweets = tweets.append({\"company_name\":company_name,\"text\":text,\"support_Count\":support_count,\"rank\":rank,\"sentiment\" :sentiment,\"polarity\":polarity,\"timestamp_ID\":time_count,\n",
      "<ipython-input-133-f11b363facfe>:20: FutureWarning: The frame.append method is deprecated and will be removed from pandas in a future version. Use pandas.concat instead.\n",
      "  tweets = tweets.append({\"company_name\":company_name,\"text\":text,\"support_Count\":support_count,\"rank\":rank,\"sentiment\" :sentiment,\"polarity\":polarity,\"timestamp_ID\":time_count,\n",
      "<ipython-input-133-f11b363facfe>:20: FutureWarning: The frame.append method is deprecated and will be removed from pandas in a future version. Use pandas.concat instead.\n",
      "  tweets = tweets.append({\"company_name\":company_name,\"text\":text,\"support_Count\":support_count,\"rank\":rank,\"sentiment\" :sentiment,\"polarity\":polarity,\"timestamp_ID\":time_count,\n",
      "<ipython-input-133-f11b363facfe>:20: FutureWarning: The frame.append method is deprecated and will be removed from pandas in a future version. Use pandas.concat instead.\n",
      "  tweets = tweets.append({\"company_name\":company_name,\"text\":text,\"support_Count\":support_count,\"rank\":rank,\"sentiment\" :sentiment,\"polarity\":polarity,\"timestamp_ID\":time_count,\n",
      "<ipython-input-133-f11b363facfe>:20: FutureWarning: The frame.append method is deprecated and will be removed from pandas in a future version. Use pandas.concat instead.\n",
      "  tweets = tweets.append({\"company_name\":company_name,\"text\":text,\"support_Count\":support_count,\"rank\":rank,\"sentiment\" :sentiment,\"polarity\":polarity,\"timestamp_ID\":time_count,\n",
      "<ipython-input-133-f11b363facfe>:20: FutureWarning: The frame.append method is deprecated and will be removed from pandas in a future version. Use pandas.concat instead.\n",
      "  tweets = tweets.append({\"company_name\":company_name,\"text\":text,\"support_Count\":support_count,\"rank\":rank,\"sentiment\" :sentiment,\"polarity\":polarity,\"timestamp_ID\":time_count,\n",
      "<ipython-input-133-f11b363facfe>:20: FutureWarning: The frame.append method is deprecated and will be removed from pandas in a future version. Use pandas.concat instead.\n",
      "  tweets = tweets.append({\"company_name\":company_name,\"text\":text,\"support_Count\":support_count,\"rank\":rank,\"sentiment\" :sentiment,\"polarity\":polarity,\"timestamp_ID\":time_count,\n",
      "<ipython-input-133-f11b363facfe>:20: FutureWarning: The frame.append method is deprecated and will be removed from pandas in a future version. Use pandas.concat instead.\n",
      "  tweets = tweets.append({\"company_name\":company_name,\"text\":text,\"support_Count\":support_count,\"rank\":rank,\"sentiment\" :sentiment,\"polarity\":polarity,\"timestamp_ID\":time_count,\n",
      "<ipython-input-133-f11b363facfe>:20: FutureWarning: The frame.append method is deprecated and will be removed from pandas in a future version. Use pandas.concat instead.\n",
      "  tweets = tweets.append({\"company_name\":company_name,\"text\":text,\"support_Count\":support_count,\"rank\":rank,\"sentiment\" :sentiment,\"polarity\":polarity,\"timestamp_ID\":time_count,\n",
      "<ipython-input-133-f11b363facfe>:20: FutureWarning: The frame.append method is deprecated and will be removed from pandas in a future version. Use pandas.concat instead.\n",
      "  tweets = tweets.append({\"company_name\":company_name,\"text\":text,\"support_Count\":support_count,\"rank\":rank,\"sentiment\" :sentiment,\"polarity\":polarity,\"timestamp_ID\":time_count,\n",
      "<ipython-input-133-f11b363facfe>:20: FutureWarning: The frame.append method is deprecated and will be removed from pandas in a future version. Use pandas.concat instead.\n",
      "  tweets = tweets.append({\"company_name\":company_name,\"text\":text,\"support_Count\":support_count,\"rank\":rank,\"sentiment\" :sentiment,\"polarity\":polarity,\"timestamp_ID\":time_count,\n",
      "<ipython-input-133-f11b363facfe>:20: FutureWarning: The frame.append method is deprecated and will be removed from pandas in a future version. Use pandas.concat instead.\n",
      "  tweets = tweets.append({\"company_name\":company_name,\"text\":text,\"support_Count\":support_count,\"rank\":rank,\"sentiment\" :sentiment,\"polarity\":polarity,\"timestamp_ID\":time_count,\n",
      "<ipython-input-133-f11b363facfe>:20: FutureWarning: The frame.append method is deprecated and will be removed from pandas in a future version. Use pandas.concat instead.\n",
      "  tweets = tweets.append({\"company_name\":company_name,\"text\":text,\"support_Count\":support_count,\"rank\":rank,\"sentiment\" :sentiment,\"polarity\":polarity,\"timestamp_ID\":time_count,\n",
      "<ipython-input-133-f11b363facfe>:20: FutureWarning: The frame.append method is deprecated and will be removed from pandas in a future version. Use pandas.concat instead.\n",
      "  tweets = tweets.append({\"company_name\":company_name,\"text\":text,\"support_Count\":support_count,\"rank\":rank,\"sentiment\" :sentiment,\"polarity\":polarity,\"timestamp_ID\":time_count,\n",
      "<ipython-input-133-f11b363facfe>:20: FutureWarning: The frame.append method is deprecated and will be removed from pandas in a future version. Use pandas.concat instead.\n",
      "  tweets = tweets.append({\"company_name\":company_name,\"text\":text,\"support_Count\":support_count,\"rank\":rank,\"sentiment\" :sentiment,\"polarity\":polarity,\"timestamp_ID\":time_count,\n",
      "<ipython-input-133-f11b363facfe>:20: FutureWarning: The frame.append method is deprecated and will be removed from pandas in a future version. Use pandas.concat instead.\n",
      "  tweets = tweets.append({\"company_name\":company_name,\"text\":text,\"support_Count\":support_count,\"rank\":rank,\"sentiment\" :sentiment,\"polarity\":polarity,\"timestamp_ID\":time_count,\n",
      "<ipython-input-133-f11b363facfe>:20: FutureWarning: The frame.append method is deprecated and will be removed from pandas in a future version. Use pandas.concat instead.\n",
      "  tweets = tweets.append({\"company_name\":company_name,\"text\":text,\"support_Count\":support_count,\"rank\":rank,\"sentiment\" :sentiment,\"polarity\":polarity,\"timestamp_ID\":time_count,\n",
      "<ipython-input-133-f11b363facfe>:20: FutureWarning: The frame.append method is deprecated and will be removed from pandas in a future version. Use pandas.concat instead.\n",
      "  tweets = tweets.append({\"company_name\":company_name,\"text\":text,\"support_Count\":support_count,\"rank\":rank,\"sentiment\" :sentiment,\"polarity\":polarity,\"timestamp_ID\":time_count,\n",
      "<ipython-input-133-f11b363facfe>:20: FutureWarning: The frame.append method is deprecated and will be removed from pandas in a future version. Use pandas.concat instead.\n",
      "  tweets = tweets.append({\"company_name\":company_name,\"text\":text,\"support_Count\":support_count,\"rank\":rank,\"sentiment\" :sentiment,\"polarity\":polarity,\"timestamp_ID\":time_count,\n",
      "<ipython-input-133-f11b363facfe>:20: FutureWarning: The frame.append method is deprecated and will be removed from pandas in a future version. Use pandas.concat instead.\n",
      "  tweets = tweets.append({\"company_name\":company_name,\"text\":text,\"support_Count\":support_count,\"rank\":rank,\"sentiment\" :sentiment,\"polarity\":polarity,\"timestamp_ID\":time_count,\n",
      "<ipython-input-133-f11b363facfe>:20: FutureWarning: The frame.append method is deprecated and will be removed from pandas in a future version. Use pandas.concat instead.\n",
      "  tweets = tweets.append({\"company_name\":company_name,\"text\":text,\"support_Count\":support_count,\"rank\":rank,\"sentiment\" :sentiment,\"polarity\":polarity,\"timestamp_ID\":time_count,\n",
      "<ipython-input-133-f11b363facfe>:20: FutureWarning: The frame.append method is deprecated and will be removed from pandas in a future version. Use pandas.concat instead.\n",
      "  tweets = tweets.append({\"company_name\":company_name,\"text\":text,\"support_Count\":support_count,\"rank\":rank,\"sentiment\" :sentiment,\"polarity\":polarity,\"timestamp_ID\":time_count,\n",
      "<ipython-input-133-f11b363facfe>:20: FutureWarning: The frame.append method is deprecated and will be removed from pandas in a future version. Use pandas.concat instead.\n",
      "  tweets = tweets.append({\"company_name\":company_name,\"text\":text,\"support_Count\":support_count,\"rank\":rank,\"sentiment\" :sentiment,\"polarity\":polarity,\"timestamp_ID\":time_count,\n",
      "<ipython-input-133-f11b363facfe>:20: FutureWarning: The frame.append method is deprecated and will be removed from pandas in a future version. Use pandas.concat instead.\n",
      "  tweets = tweets.append({\"company_name\":company_name,\"text\":text,\"support_Count\":support_count,\"rank\":rank,\"sentiment\" :sentiment,\"polarity\":polarity,\"timestamp_ID\":time_count,\n"
     ]
    },
    {
     "name": "stderr",
     "output_type": "stream",
     "text": [
      "<ipython-input-133-f11b363facfe>:20: FutureWarning: The frame.append method is deprecated and will be removed from pandas in a future version. Use pandas.concat instead.\n",
      "  tweets = tweets.append({\"company_name\":company_name,\"text\":text,\"support_Count\":support_count,\"rank\":rank,\"sentiment\" :sentiment,\"polarity\":polarity,\"timestamp_ID\":time_count,\n",
      "<ipython-input-133-f11b363facfe>:20: FutureWarning: The frame.append method is deprecated and will be removed from pandas in a future version. Use pandas.concat instead.\n",
      "  tweets = tweets.append({\"company_name\":company_name,\"text\":text,\"support_Count\":support_count,\"rank\":rank,\"sentiment\" :sentiment,\"polarity\":polarity,\"timestamp_ID\":time_count,\n",
      "<ipython-input-133-f11b363facfe>:20: FutureWarning: The frame.append method is deprecated and will be removed from pandas in a future version. Use pandas.concat instead.\n",
      "  tweets = tweets.append({\"company_name\":company_name,\"text\":text,\"support_Count\":support_count,\"rank\":rank,\"sentiment\" :sentiment,\"polarity\":polarity,\"timestamp_ID\":time_count,\n",
      "<ipython-input-133-f11b363facfe>:20: FutureWarning: The frame.append method is deprecated and will be removed from pandas in a future version. Use pandas.concat instead.\n",
      "  tweets = tweets.append({\"company_name\":company_name,\"text\":text,\"support_Count\":support_count,\"rank\":rank,\"sentiment\" :sentiment,\"polarity\":polarity,\"timestamp_ID\":time_count,\n",
      "<ipython-input-133-f11b363facfe>:20: FutureWarning: The frame.append method is deprecated and will be removed from pandas in a future version. Use pandas.concat instead.\n",
      "  tweets = tweets.append({\"company_name\":company_name,\"text\":text,\"support_Count\":support_count,\"rank\":rank,\"sentiment\" :sentiment,\"polarity\":polarity,\"timestamp_ID\":time_count,\n",
      "<ipython-input-133-f11b363facfe>:20: FutureWarning: The frame.append method is deprecated and will be removed from pandas in a future version. Use pandas.concat instead.\n",
      "  tweets = tweets.append({\"company_name\":company_name,\"text\":text,\"support_Count\":support_count,\"rank\":rank,\"sentiment\" :sentiment,\"polarity\":polarity,\"timestamp_ID\":time_count,\n",
      "<ipython-input-133-f11b363facfe>:20: FutureWarning: The frame.append method is deprecated and will be removed from pandas in a future version. Use pandas.concat instead.\n",
      "  tweets = tweets.append({\"company_name\":company_name,\"text\":text,\"support_Count\":support_count,\"rank\":rank,\"sentiment\" :sentiment,\"polarity\":polarity,\"timestamp_ID\":time_count,\n",
      "<ipython-input-133-f11b363facfe>:20: FutureWarning: The frame.append method is deprecated and will be removed from pandas in a future version. Use pandas.concat instead.\n",
      "  tweets = tweets.append({\"company_name\":company_name,\"text\":text,\"support_Count\":support_count,\"rank\":rank,\"sentiment\" :sentiment,\"polarity\":polarity,\"timestamp_ID\":time_count,\n",
      "<ipython-input-133-f11b363facfe>:20: FutureWarning: The frame.append method is deprecated and will be removed from pandas in a future version. Use pandas.concat instead.\n",
      "  tweets = tweets.append({\"company_name\":company_name,\"text\":text,\"support_Count\":support_count,\"rank\":rank,\"sentiment\" :sentiment,\"polarity\":polarity,\"timestamp_ID\":time_count,\n",
      "<ipython-input-133-f11b363facfe>:20: FutureWarning: The frame.append method is deprecated and will be removed from pandas in a future version. Use pandas.concat instead.\n",
      "  tweets = tweets.append({\"company_name\":company_name,\"text\":text,\"support_Count\":support_count,\"rank\":rank,\"sentiment\" :sentiment,\"polarity\":polarity,\"timestamp_ID\":time_count,\n",
      "<ipython-input-133-f11b363facfe>:20: FutureWarning: The frame.append method is deprecated and will be removed from pandas in a future version. Use pandas.concat instead.\n",
      "  tweets = tweets.append({\"company_name\":company_name,\"text\":text,\"support_Count\":support_count,\"rank\":rank,\"sentiment\" :sentiment,\"polarity\":polarity,\"timestamp_ID\":time_count,\n",
      "<ipython-input-133-f11b363facfe>:20: FutureWarning: The frame.append method is deprecated and will be removed from pandas in a future version. Use pandas.concat instead.\n",
      "  tweets = tweets.append({\"company_name\":company_name,\"text\":text,\"support_Count\":support_count,\"rank\":rank,\"sentiment\" :sentiment,\"polarity\":polarity,\"timestamp_ID\":time_count,\n",
      "<ipython-input-133-f11b363facfe>:20: FutureWarning: The frame.append method is deprecated and will be removed from pandas in a future version. Use pandas.concat instead.\n",
      "  tweets = tweets.append({\"company_name\":company_name,\"text\":text,\"support_Count\":support_count,\"rank\":rank,\"sentiment\" :sentiment,\"polarity\":polarity,\"timestamp_ID\":time_count,\n",
      "<ipython-input-133-f11b363facfe>:20: FutureWarning: The frame.append method is deprecated and will be removed from pandas in a future version. Use pandas.concat instead.\n",
      "  tweets = tweets.append({\"company_name\":company_name,\"text\":text,\"support_Count\":support_count,\"rank\":rank,\"sentiment\" :sentiment,\"polarity\":polarity,\"timestamp_ID\":time_count,\n",
      "<ipython-input-133-f11b363facfe>:20: FutureWarning: The frame.append method is deprecated and will be removed from pandas in a future version. Use pandas.concat instead.\n",
      "  tweets = tweets.append({\"company_name\":company_name,\"text\":text,\"support_Count\":support_count,\"rank\":rank,\"sentiment\" :sentiment,\"polarity\":polarity,\"timestamp_ID\":time_count,\n",
      "<ipython-input-133-f11b363facfe>:20: FutureWarning: The frame.append method is deprecated and will be removed from pandas in a future version. Use pandas.concat instead.\n",
      "  tweets = tweets.append({\"company_name\":company_name,\"text\":text,\"support_Count\":support_count,\"rank\":rank,\"sentiment\" :sentiment,\"polarity\":polarity,\"timestamp_ID\":time_count,\n",
      "<ipython-input-133-f11b363facfe>:20: FutureWarning: The frame.append method is deprecated and will be removed from pandas in a future version. Use pandas.concat instead.\n",
      "  tweets = tweets.append({\"company_name\":company_name,\"text\":text,\"support_Count\":support_count,\"rank\":rank,\"sentiment\" :sentiment,\"polarity\":polarity,\"timestamp_ID\":time_count,\n",
      "<ipython-input-133-f11b363facfe>:20: FutureWarning: The frame.append method is deprecated and will be removed from pandas in a future version. Use pandas.concat instead.\n",
      "  tweets = tweets.append({\"company_name\":company_name,\"text\":text,\"support_Count\":support_count,\"rank\":rank,\"sentiment\" :sentiment,\"polarity\":polarity,\"timestamp_ID\":time_count,\n",
      "<ipython-input-133-f11b363facfe>:20: FutureWarning: The frame.append method is deprecated and will be removed from pandas in a future version. Use pandas.concat instead.\n",
      "  tweets = tweets.append({\"company_name\":company_name,\"text\":text,\"support_Count\":support_count,\"rank\":rank,\"sentiment\" :sentiment,\"polarity\":polarity,\"timestamp_ID\":time_count,\n",
      "<ipython-input-133-f11b363facfe>:20: FutureWarning: The frame.append method is deprecated and will be removed from pandas in a future version. Use pandas.concat instead.\n",
      "  tweets = tweets.append({\"company_name\":company_name,\"text\":text,\"support_Count\":support_count,\"rank\":rank,\"sentiment\" :sentiment,\"polarity\":polarity,\"timestamp_ID\":time_count,\n",
      "<ipython-input-133-f11b363facfe>:20: FutureWarning: The frame.append method is deprecated and will be removed from pandas in a future version. Use pandas.concat instead.\n",
      "  tweets = tweets.append({\"company_name\":company_name,\"text\":text,\"support_Count\":support_count,\"rank\":rank,\"sentiment\" :sentiment,\"polarity\":polarity,\"timestamp_ID\":time_count,\n",
      "<ipython-input-133-f11b363facfe>:20: FutureWarning: The frame.append method is deprecated and will be removed from pandas in a future version. Use pandas.concat instead.\n",
      "  tweets = tweets.append({\"company_name\":company_name,\"text\":text,\"support_Count\":support_count,\"rank\":rank,\"sentiment\" :sentiment,\"polarity\":polarity,\"timestamp_ID\":time_count,\n",
      "<ipython-input-133-f11b363facfe>:20: FutureWarning: The frame.append method is deprecated and will be removed from pandas in a future version. Use pandas.concat instead.\n",
      "  tweets = tweets.append({\"company_name\":company_name,\"text\":text,\"support_Count\":support_count,\"rank\":rank,\"sentiment\" :sentiment,\"polarity\":polarity,\"timestamp_ID\":time_count,\n",
      "<ipython-input-133-f11b363facfe>:20: FutureWarning: The frame.append method is deprecated and will be removed from pandas in a future version. Use pandas.concat instead.\n",
      "  tweets = tweets.append({\"company_name\":company_name,\"text\":text,\"support_Count\":support_count,\"rank\":rank,\"sentiment\" :sentiment,\"polarity\":polarity,\"timestamp_ID\":time_count,\n",
      "<ipython-input-133-f11b363facfe>:20: FutureWarning: The frame.append method is deprecated and will be removed from pandas in a future version. Use pandas.concat instead.\n",
      "  tweets = tweets.append({\"company_name\":company_name,\"text\":text,\"support_Count\":support_count,\"rank\":rank,\"sentiment\" :sentiment,\"polarity\":polarity,\"timestamp_ID\":time_count,\n",
      "<ipython-input-133-f11b363facfe>:20: FutureWarning: The frame.append method is deprecated and will be removed from pandas in a future version. Use pandas.concat instead.\n",
      "  tweets = tweets.append({\"company_name\":company_name,\"text\":text,\"support_Count\":support_count,\"rank\":rank,\"sentiment\" :sentiment,\"polarity\":polarity,\"timestamp_ID\":time_count,\n",
      "<ipython-input-133-f11b363facfe>:20: FutureWarning: The frame.append method is deprecated and will be removed from pandas in a future version. Use pandas.concat instead.\n",
      "  tweets = tweets.append({\"company_name\":company_name,\"text\":text,\"support_Count\":support_count,\"rank\":rank,\"sentiment\" :sentiment,\"polarity\":polarity,\"timestamp_ID\":time_count,\n",
      "<ipython-input-133-f11b363facfe>:20: FutureWarning: The frame.append method is deprecated and will be removed from pandas in a future version. Use pandas.concat instead.\n",
      "  tweets = tweets.append({\"company_name\":company_name,\"text\":text,\"support_Count\":support_count,\"rank\":rank,\"sentiment\" :sentiment,\"polarity\":polarity,\"timestamp_ID\":time_count,\n",
      "<ipython-input-133-f11b363facfe>:20: FutureWarning: The frame.append method is deprecated and will be removed from pandas in a future version. Use pandas.concat instead.\n",
      "  tweets = tweets.append({\"company_name\":company_name,\"text\":text,\"support_Count\":support_count,\"rank\":rank,\"sentiment\" :sentiment,\"polarity\":polarity,\"timestamp_ID\":time_count,\n",
      "<ipython-input-133-f11b363facfe>:20: FutureWarning: The frame.append method is deprecated and will be removed from pandas in a future version. Use pandas.concat instead.\n",
      "  tweets = tweets.append({\"company_name\":company_name,\"text\":text,\"support_Count\":support_count,\"rank\":rank,\"sentiment\" :sentiment,\"polarity\":polarity,\"timestamp_ID\":time_count,\n"
     ]
    },
    {
     "name": "stderr",
     "output_type": "stream",
     "text": [
      "<ipython-input-133-f11b363facfe>:20: FutureWarning: The frame.append method is deprecated and will be removed from pandas in a future version. Use pandas.concat instead.\n",
      "  tweets = tweets.append({\"company_name\":company_name,\"text\":text,\"support_Count\":support_count,\"rank\":rank,\"sentiment\" :sentiment,\"polarity\":polarity,\"timestamp_ID\":time_count,\n",
      "<ipython-input-133-f11b363facfe>:20: FutureWarning: The frame.append method is deprecated and will be removed from pandas in a future version. Use pandas.concat instead.\n",
      "  tweets = tweets.append({\"company_name\":company_name,\"text\":text,\"support_Count\":support_count,\"rank\":rank,\"sentiment\" :sentiment,\"polarity\":polarity,\"timestamp_ID\":time_count,\n",
      "<ipython-input-133-f11b363facfe>:20: FutureWarning: The frame.append method is deprecated and will be removed from pandas in a future version. Use pandas.concat instead.\n",
      "  tweets = tweets.append({\"company_name\":company_name,\"text\":text,\"support_Count\":support_count,\"rank\":rank,\"sentiment\" :sentiment,\"polarity\":polarity,\"timestamp_ID\":time_count,\n",
      "<ipython-input-133-f11b363facfe>:20: FutureWarning: The frame.append method is deprecated and will be removed from pandas in a future version. Use pandas.concat instead.\n",
      "  tweets = tweets.append({\"company_name\":company_name,\"text\":text,\"support_Count\":support_count,\"rank\":rank,\"sentiment\" :sentiment,\"polarity\":polarity,\"timestamp_ID\":time_count,\n",
      "<ipython-input-133-f11b363facfe>:20: FutureWarning: The frame.append method is deprecated and will be removed from pandas in a future version. Use pandas.concat instead.\n",
      "  tweets = tweets.append({\"company_name\":company_name,\"text\":text,\"support_Count\":support_count,\"rank\":rank,\"sentiment\" :sentiment,\"polarity\":polarity,\"timestamp_ID\":time_count,\n",
      "<ipython-input-133-f11b363facfe>:20: FutureWarning: The frame.append method is deprecated and will be removed from pandas in a future version. Use pandas.concat instead.\n",
      "  tweets = tweets.append({\"company_name\":company_name,\"text\":text,\"support_Count\":support_count,\"rank\":rank,\"sentiment\" :sentiment,\"polarity\":polarity,\"timestamp_ID\":time_count,\n",
      "<ipython-input-133-f11b363facfe>:20: FutureWarning: The frame.append method is deprecated and will be removed from pandas in a future version. Use pandas.concat instead.\n",
      "  tweets = tweets.append({\"company_name\":company_name,\"text\":text,\"support_Count\":support_count,\"rank\":rank,\"sentiment\" :sentiment,\"polarity\":polarity,\"timestamp_ID\":time_count,\n",
      "<ipython-input-133-f11b363facfe>:20: FutureWarning: The frame.append method is deprecated and will be removed from pandas in a future version. Use pandas.concat instead.\n",
      "  tweets = tweets.append({\"company_name\":company_name,\"text\":text,\"support_Count\":support_count,\"rank\":rank,\"sentiment\" :sentiment,\"polarity\":polarity,\"timestamp_ID\":time_count,\n",
      "<ipython-input-133-f11b363facfe>:20: FutureWarning: The frame.append method is deprecated and will be removed from pandas in a future version. Use pandas.concat instead.\n",
      "  tweets = tweets.append({\"company_name\":company_name,\"text\":text,\"support_Count\":support_count,\"rank\":rank,\"sentiment\" :sentiment,\"polarity\":polarity,\"timestamp_ID\":time_count,\n",
      "<ipython-input-133-f11b363facfe>:20: FutureWarning: The frame.append method is deprecated and will be removed from pandas in a future version. Use pandas.concat instead.\n",
      "  tweets = tweets.append({\"company_name\":company_name,\"text\":text,\"support_Count\":support_count,\"rank\":rank,\"sentiment\" :sentiment,\"polarity\":polarity,\"timestamp_ID\":time_count,\n",
      "<ipython-input-133-f11b363facfe>:20: FutureWarning: The frame.append method is deprecated and will be removed from pandas in a future version. Use pandas.concat instead.\n",
      "  tweets = tweets.append({\"company_name\":company_name,\"text\":text,\"support_Count\":support_count,\"rank\":rank,\"sentiment\" :sentiment,\"polarity\":polarity,\"timestamp_ID\":time_count,\n",
      "<ipython-input-133-f11b363facfe>:20: FutureWarning: The frame.append method is deprecated and will be removed from pandas in a future version. Use pandas.concat instead.\n",
      "  tweets = tweets.append({\"company_name\":company_name,\"text\":text,\"support_Count\":support_count,\"rank\":rank,\"sentiment\" :sentiment,\"polarity\":polarity,\"timestamp_ID\":time_count,\n",
      "<ipython-input-133-f11b363facfe>:20: FutureWarning: The frame.append method is deprecated and will be removed from pandas in a future version. Use pandas.concat instead.\n",
      "  tweets = tweets.append({\"company_name\":company_name,\"text\":text,\"support_Count\":support_count,\"rank\":rank,\"sentiment\" :sentiment,\"polarity\":polarity,\"timestamp_ID\":time_count,\n",
      "<ipython-input-133-f11b363facfe>:20: FutureWarning: The frame.append method is deprecated and will be removed from pandas in a future version. Use pandas.concat instead.\n",
      "  tweets = tweets.append({\"company_name\":company_name,\"text\":text,\"support_Count\":support_count,\"rank\":rank,\"sentiment\" :sentiment,\"polarity\":polarity,\"timestamp_ID\":time_count,\n",
      "<ipython-input-133-f11b363facfe>:20: FutureWarning: The frame.append method is deprecated and will be removed from pandas in a future version. Use pandas.concat instead.\n",
      "  tweets = tweets.append({\"company_name\":company_name,\"text\":text,\"support_Count\":support_count,\"rank\":rank,\"sentiment\" :sentiment,\"polarity\":polarity,\"timestamp_ID\":time_count,\n",
      "<ipython-input-133-f11b363facfe>:20: FutureWarning: The frame.append method is deprecated and will be removed from pandas in a future version. Use pandas.concat instead.\n",
      "  tweets = tweets.append({\"company_name\":company_name,\"text\":text,\"support_Count\":support_count,\"rank\":rank,\"sentiment\" :sentiment,\"polarity\":polarity,\"timestamp_ID\":time_count,\n",
      "<ipython-input-133-f11b363facfe>:20: FutureWarning: The frame.append method is deprecated and will be removed from pandas in a future version. Use pandas.concat instead.\n",
      "  tweets = tweets.append({\"company_name\":company_name,\"text\":text,\"support_Count\":support_count,\"rank\":rank,\"sentiment\" :sentiment,\"polarity\":polarity,\"timestamp_ID\":time_count,\n",
      "<ipython-input-133-f11b363facfe>:20: FutureWarning: The frame.append method is deprecated and will be removed from pandas in a future version. Use pandas.concat instead.\n",
      "  tweets = tweets.append({\"company_name\":company_name,\"text\":text,\"support_Count\":support_count,\"rank\":rank,\"sentiment\" :sentiment,\"polarity\":polarity,\"timestamp_ID\":time_count,\n",
      "<ipython-input-133-f11b363facfe>:20: FutureWarning: The frame.append method is deprecated and will be removed from pandas in a future version. Use pandas.concat instead.\n",
      "  tweets = tweets.append({\"company_name\":company_name,\"text\":text,\"support_Count\":support_count,\"rank\":rank,\"sentiment\" :sentiment,\"polarity\":polarity,\"timestamp_ID\":time_count,\n",
      "<ipython-input-133-f11b363facfe>:20: FutureWarning: The frame.append method is deprecated and will be removed from pandas in a future version. Use pandas.concat instead.\n",
      "  tweets = tweets.append({\"company_name\":company_name,\"text\":text,\"support_Count\":support_count,\"rank\":rank,\"sentiment\" :sentiment,\"polarity\":polarity,\"timestamp_ID\":time_count,\n",
      "<ipython-input-133-f11b363facfe>:20: FutureWarning: The frame.append method is deprecated and will be removed from pandas in a future version. Use pandas.concat instead.\n",
      "  tweets = tweets.append({\"company_name\":company_name,\"text\":text,\"support_Count\":support_count,\"rank\":rank,\"sentiment\" :sentiment,\"polarity\":polarity,\"timestamp_ID\":time_count,\n",
      "<ipython-input-133-f11b363facfe>:20: FutureWarning: The frame.append method is deprecated and will be removed from pandas in a future version. Use pandas.concat instead.\n",
      "  tweets = tweets.append({\"company_name\":company_name,\"text\":text,\"support_Count\":support_count,\"rank\":rank,\"sentiment\" :sentiment,\"polarity\":polarity,\"timestamp_ID\":time_count,\n",
      "<ipython-input-133-f11b363facfe>:20: FutureWarning: The frame.append method is deprecated and will be removed from pandas in a future version. Use pandas.concat instead.\n",
      "  tweets = tweets.append({\"company_name\":company_name,\"text\":text,\"support_Count\":support_count,\"rank\":rank,\"sentiment\" :sentiment,\"polarity\":polarity,\"timestamp_ID\":time_count,\n",
      "<ipython-input-133-f11b363facfe>:20: FutureWarning: The frame.append method is deprecated and will be removed from pandas in a future version. Use pandas.concat instead.\n",
      "  tweets = tweets.append({\"company_name\":company_name,\"text\":text,\"support_Count\":support_count,\"rank\":rank,\"sentiment\" :sentiment,\"polarity\":polarity,\"timestamp_ID\":time_count,\n",
      "<ipython-input-133-f11b363facfe>:20: FutureWarning: The frame.append method is deprecated and will be removed from pandas in a future version. Use pandas.concat instead.\n",
      "  tweets = tweets.append({\"company_name\":company_name,\"text\":text,\"support_Count\":support_count,\"rank\":rank,\"sentiment\" :sentiment,\"polarity\":polarity,\"timestamp_ID\":time_count,\n",
      "<ipython-input-133-f11b363facfe>:20: FutureWarning: The frame.append method is deprecated and will be removed from pandas in a future version. Use pandas.concat instead.\n",
      "  tweets = tweets.append({\"company_name\":company_name,\"text\":text,\"support_Count\":support_count,\"rank\":rank,\"sentiment\" :sentiment,\"polarity\":polarity,\"timestamp_ID\":time_count,\n",
      "<ipython-input-133-f11b363facfe>:20: FutureWarning: The frame.append method is deprecated and will be removed from pandas in a future version. Use pandas.concat instead.\n",
      "  tweets = tweets.append({\"company_name\":company_name,\"text\":text,\"support_Count\":support_count,\"rank\":rank,\"sentiment\" :sentiment,\"polarity\":polarity,\"timestamp_ID\":time_count,\n",
      "<ipython-input-133-f11b363facfe>:20: FutureWarning: The frame.append method is deprecated and will be removed from pandas in a future version. Use pandas.concat instead.\n",
      "  tweets = tweets.append({\"company_name\":company_name,\"text\":text,\"support_Count\":support_count,\"rank\":rank,\"sentiment\" :sentiment,\"polarity\":polarity,\"timestamp_ID\":time_count,\n",
      "<ipython-input-133-f11b363facfe>:20: FutureWarning: The frame.append method is deprecated and will be removed from pandas in a future version. Use pandas.concat instead.\n",
      "  tweets = tweets.append({\"company_name\":company_name,\"text\":text,\"support_Count\":support_count,\"rank\":rank,\"sentiment\" :sentiment,\"polarity\":polarity,\"timestamp_ID\":time_count,\n",
      "<ipython-input-133-f11b363facfe>:20: FutureWarning: The frame.append method is deprecated and will be removed from pandas in a future version. Use pandas.concat instead.\n",
      "  tweets = tweets.append({\"company_name\":company_name,\"text\":text,\"support_Count\":support_count,\"rank\":rank,\"sentiment\" :sentiment,\"polarity\":polarity,\"timestamp_ID\":time_count,\n",
      "<ipython-input-133-f11b363facfe>:20: FutureWarning: The frame.append method is deprecated and will be removed from pandas in a future version. Use pandas.concat instead.\n",
      "  tweets = tweets.append({\"company_name\":company_name,\"text\":text,\"support_Count\":support_count,\"rank\":rank,\"sentiment\" :sentiment,\"polarity\":polarity,\"timestamp_ID\":time_count,\n"
     ]
    },
    {
     "name": "stderr",
     "output_type": "stream",
     "text": [
      "<ipython-input-133-f11b363facfe>:20: FutureWarning: The frame.append method is deprecated and will be removed from pandas in a future version. Use pandas.concat instead.\n",
      "  tweets = tweets.append({\"company_name\":company_name,\"text\":text,\"support_Count\":support_count,\"rank\":rank,\"sentiment\" :sentiment,\"polarity\":polarity,\"timestamp_ID\":time_count,\n",
      "<ipython-input-133-f11b363facfe>:20: FutureWarning: The frame.append method is deprecated and will be removed from pandas in a future version. Use pandas.concat instead.\n",
      "  tweets = tweets.append({\"company_name\":company_name,\"text\":text,\"support_Count\":support_count,\"rank\":rank,\"sentiment\" :sentiment,\"polarity\":polarity,\"timestamp_ID\":time_count,\n",
      "<ipython-input-133-f11b363facfe>:20: FutureWarning: The frame.append method is deprecated and will be removed from pandas in a future version. Use pandas.concat instead.\n",
      "  tweets = tweets.append({\"company_name\":company_name,\"text\":text,\"support_Count\":support_count,\"rank\":rank,\"sentiment\" :sentiment,\"polarity\":polarity,\"timestamp_ID\":time_count,\n",
      "<ipython-input-133-f11b363facfe>:20: FutureWarning: The frame.append method is deprecated and will be removed from pandas in a future version. Use pandas.concat instead.\n",
      "  tweets = tweets.append({\"company_name\":company_name,\"text\":text,\"support_Count\":support_count,\"rank\":rank,\"sentiment\" :sentiment,\"polarity\":polarity,\"timestamp_ID\":time_count,\n",
      "<ipython-input-133-f11b363facfe>:20: FutureWarning: The frame.append method is deprecated and will be removed from pandas in a future version. Use pandas.concat instead.\n",
      "  tweets = tweets.append({\"company_name\":company_name,\"text\":text,\"support_Count\":support_count,\"rank\":rank,\"sentiment\" :sentiment,\"polarity\":polarity,\"timestamp_ID\":time_count,\n",
      "<ipython-input-133-f11b363facfe>:20: FutureWarning: The frame.append method is deprecated and will be removed from pandas in a future version. Use pandas.concat instead.\n",
      "  tweets = tweets.append({\"company_name\":company_name,\"text\":text,\"support_Count\":support_count,\"rank\":rank,\"sentiment\" :sentiment,\"polarity\":polarity,\"timestamp_ID\":time_count,\n",
      "<ipython-input-133-f11b363facfe>:20: FutureWarning: The frame.append method is deprecated and will be removed from pandas in a future version. Use pandas.concat instead.\n",
      "  tweets = tweets.append({\"company_name\":company_name,\"text\":text,\"support_Count\":support_count,\"rank\":rank,\"sentiment\" :sentiment,\"polarity\":polarity,\"timestamp_ID\":time_count,\n",
      "<ipython-input-133-f11b363facfe>:20: FutureWarning: The frame.append method is deprecated and will be removed from pandas in a future version. Use pandas.concat instead.\n",
      "  tweets = tweets.append({\"company_name\":company_name,\"text\":text,\"support_Count\":support_count,\"rank\":rank,\"sentiment\" :sentiment,\"polarity\":polarity,\"timestamp_ID\":time_count,\n",
      "<ipython-input-133-f11b363facfe>:20: FutureWarning: The frame.append method is deprecated and will be removed from pandas in a future version. Use pandas.concat instead.\n",
      "  tweets = tweets.append({\"company_name\":company_name,\"text\":text,\"support_Count\":support_count,\"rank\":rank,\"sentiment\" :sentiment,\"polarity\":polarity,\"timestamp_ID\":time_count,\n",
      "<ipython-input-133-f11b363facfe>:20: FutureWarning: The frame.append method is deprecated and will be removed from pandas in a future version. Use pandas.concat instead.\n",
      "  tweets = tweets.append({\"company_name\":company_name,\"text\":text,\"support_Count\":support_count,\"rank\":rank,\"sentiment\" :sentiment,\"polarity\":polarity,\"timestamp_ID\":time_count,\n",
      "<ipython-input-133-f11b363facfe>:20: FutureWarning: The frame.append method is deprecated and will be removed from pandas in a future version. Use pandas.concat instead.\n",
      "  tweets = tweets.append({\"company_name\":company_name,\"text\":text,\"support_Count\":support_count,\"rank\":rank,\"sentiment\" :sentiment,\"polarity\":polarity,\"timestamp_ID\":time_count,\n",
      "<ipython-input-133-f11b363facfe>:20: FutureWarning: The frame.append method is deprecated and will be removed from pandas in a future version. Use pandas.concat instead.\n",
      "  tweets = tweets.append({\"company_name\":company_name,\"text\":text,\"support_Count\":support_count,\"rank\":rank,\"sentiment\" :sentiment,\"polarity\":polarity,\"timestamp_ID\":time_count,\n",
      "<ipython-input-133-f11b363facfe>:20: FutureWarning: The frame.append method is deprecated and will be removed from pandas in a future version. Use pandas.concat instead.\n",
      "  tweets = tweets.append({\"company_name\":company_name,\"text\":text,\"support_Count\":support_count,\"rank\":rank,\"sentiment\" :sentiment,\"polarity\":polarity,\"timestamp_ID\":time_count,\n",
      "<ipython-input-133-f11b363facfe>:20: FutureWarning: The frame.append method is deprecated and will be removed from pandas in a future version. Use pandas.concat instead.\n",
      "  tweets = tweets.append({\"company_name\":company_name,\"text\":text,\"support_Count\":support_count,\"rank\":rank,\"sentiment\" :sentiment,\"polarity\":polarity,\"timestamp_ID\":time_count,\n",
      "<ipython-input-133-f11b363facfe>:20: FutureWarning: The frame.append method is deprecated and will be removed from pandas in a future version. Use pandas.concat instead.\n",
      "  tweets = tweets.append({\"company_name\":company_name,\"text\":text,\"support_Count\":support_count,\"rank\":rank,\"sentiment\" :sentiment,\"polarity\":polarity,\"timestamp_ID\":time_count,\n",
      "<ipython-input-133-f11b363facfe>:20: FutureWarning: The frame.append method is deprecated and will be removed from pandas in a future version. Use pandas.concat instead.\n",
      "  tweets = tweets.append({\"company_name\":company_name,\"text\":text,\"support_Count\":support_count,\"rank\":rank,\"sentiment\" :sentiment,\"polarity\":polarity,\"timestamp_ID\":time_count,\n",
      "<ipython-input-133-f11b363facfe>:20: FutureWarning: The frame.append method is deprecated and will be removed from pandas in a future version. Use pandas.concat instead.\n",
      "  tweets = tweets.append({\"company_name\":company_name,\"text\":text,\"support_Count\":support_count,\"rank\":rank,\"sentiment\" :sentiment,\"polarity\":polarity,\"timestamp_ID\":time_count,\n",
      "<ipython-input-133-f11b363facfe>:20: FutureWarning: The frame.append method is deprecated and will be removed from pandas in a future version. Use pandas.concat instead.\n",
      "  tweets = tweets.append({\"company_name\":company_name,\"text\":text,\"support_Count\":support_count,\"rank\":rank,\"sentiment\" :sentiment,\"polarity\":polarity,\"timestamp_ID\":time_count,\n",
      "<ipython-input-133-f11b363facfe>:20: FutureWarning: The frame.append method is deprecated and will be removed from pandas in a future version. Use pandas.concat instead.\n",
      "  tweets = tweets.append({\"company_name\":company_name,\"text\":text,\"support_Count\":support_count,\"rank\":rank,\"sentiment\" :sentiment,\"polarity\":polarity,\"timestamp_ID\":time_count,\n",
      "<ipython-input-133-f11b363facfe>:20: FutureWarning: The frame.append method is deprecated and will be removed from pandas in a future version. Use pandas.concat instead.\n",
      "  tweets = tweets.append({\"company_name\":company_name,\"text\":text,\"support_Count\":support_count,\"rank\":rank,\"sentiment\" :sentiment,\"polarity\":polarity,\"timestamp_ID\":time_count,\n",
      "<ipython-input-133-f11b363facfe>:20: FutureWarning: The frame.append method is deprecated and will be removed from pandas in a future version. Use pandas.concat instead.\n",
      "  tweets = tweets.append({\"company_name\":company_name,\"text\":text,\"support_Count\":support_count,\"rank\":rank,\"sentiment\" :sentiment,\"polarity\":polarity,\"timestamp_ID\":time_count,\n",
      "<ipython-input-133-f11b363facfe>:20: FutureWarning: The frame.append method is deprecated and will be removed from pandas in a future version. Use pandas.concat instead.\n",
      "  tweets = tweets.append({\"company_name\":company_name,\"text\":text,\"support_Count\":support_count,\"rank\":rank,\"sentiment\" :sentiment,\"polarity\":polarity,\"timestamp_ID\":time_count,\n",
      "<ipython-input-133-f11b363facfe>:20: FutureWarning: The frame.append method is deprecated and will be removed from pandas in a future version. Use pandas.concat instead.\n",
      "  tweets = tweets.append({\"company_name\":company_name,\"text\":text,\"support_Count\":support_count,\"rank\":rank,\"sentiment\" :sentiment,\"polarity\":polarity,\"timestamp_ID\":time_count,\n",
      "<ipython-input-133-f11b363facfe>:20: FutureWarning: The frame.append method is deprecated and will be removed from pandas in a future version. Use pandas.concat instead.\n",
      "  tweets = tweets.append({\"company_name\":company_name,\"text\":text,\"support_Count\":support_count,\"rank\":rank,\"sentiment\" :sentiment,\"polarity\":polarity,\"timestamp_ID\":time_count,\n",
      "<ipython-input-133-f11b363facfe>:20: FutureWarning: The frame.append method is deprecated and will be removed from pandas in a future version. Use pandas.concat instead.\n",
      "  tweets = tweets.append({\"company_name\":company_name,\"text\":text,\"support_Count\":support_count,\"rank\":rank,\"sentiment\" :sentiment,\"polarity\":polarity,\"timestamp_ID\":time_count,\n",
      "<ipython-input-133-f11b363facfe>:20: FutureWarning: The frame.append method is deprecated and will be removed from pandas in a future version. Use pandas.concat instead.\n",
      "  tweets = tweets.append({\"company_name\":company_name,\"text\":text,\"support_Count\":support_count,\"rank\":rank,\"sentiment\" :sentiment,\"polarity\":polarity,\"timestamp_ID\":time_count,\n",
      "<ipython-input-133-f11b363facfe>:20: FutureWarning: The frame.append method is deprecated and will be removed from pandas in a future version. Use pandas.concat instead.\n",
      "  tweets = tweets.append({\"company_name\":company_name,\"text\":text,\"support_Count\":support_count,\"rank\":rank,\"sentiment\" :sentiment,\"polarity\":polarity,\"timestamp_ID\":time_count,\n"
     ]
    },
    {
     "name": "stderr",
     "output_type": "stream",
     "text": [
      "<ipython-input-133-f11b363facfe>:20: FutureWarning: The frame.append method is deprecated and will be removed from pandas in a future version. Use pandas.concat instead.\n",
      "  tweets = tweets.append({\"company_name\":company_name,\"text\":text,\"support_Count\":support_count,\"rank\":rank,\"sentiment\" :sentiment,\"polarity\":polarity,\"timestamp_ID\":time_count,\n",
      "<ipython-input-133-f11b363facfe>:20: FutureWarning: The frame.append method is deprecated and will be removed from pandas in a future version. Use pandas.concat instead.\n",
      "  tweets = tweets.append({\"company_name\":company_name,\"text\":text,\"support_Count\":support_count,\"rank\":rank,\"sentiment\" :sentiment,\"polarity\":polarity,\"timestamp_ID\":time_count,\n",
      "<ipython-input-133-f11b363facfe>:20: FutureWarning: The frame.append method is deprecated and will be removed from pandas in a future version. Use pandas.concat instead.\n",
      "  tweets = tweets.append({\"company_name\":company_name,\"text\":text,\"support_Count\":support_count,\"rank\":rank,\"sentiment\" :sentiment,\"polarity\":polarity,\"timestamp_ID\":time_count,\n",
      "<ipython-input-133-f11b363facfe>:20: FutureWarning: The frame.append method is deprecated and will be removed from pandas in a future version. Use pandas.concat instead.\n",
      "  tweets = tweets.append({\"company_name\":company_name,\"text\":text,\"support_Count\":support_count,\"rank\":rank,\"sentiment\" :sentiment,\"polarity\":polarity,\"timestamp_ID\":time_count,\n",
      "<ipython-input-133-f11b363facfe>:20: FutureWarning: The frame.append method is deprecated and will be removed from pandas in a future version. Use pandas.concat instead.\n",
      "  tweets = tweets.append({\"company_name\":company_name,\"text\":text,\"support_Count\":support_count,\"rank\":rank,\"sentiment\" :sentiment,\"polarity\":polarity,\"timestamp_ID\":time_count,\n",
      "<ipython-input-133-f11b363facfe>:20: FutureWarning: The frame.append method is deprecated and will be removed from pandas in a future version. Use pandas.concat instead.\n",
      "  tweets = tweets.append({\"company_name\":company_name,\"text\":text,\"support_Count\":support_count,\"rank\":rank,\"sentiment\" :sentiment,\"polarity\":polarity,\"timestamp_ID\":time_count,\n",
      "<ipython-input-133-f11b363facfe>:20: FutureWarning: The frame.append method is deprecated and will be removed from pandas in a future version. Use pandas.concat instead.\n",
      "  tweets = tweets.append({\"company_name\":company_name,\"text\":text,\"support_Count\":support_count,\"rank\":rank,\"sentiment\" :sentiment,\"polarity\":polarity,\"timestamp_ID\":time_count,\n",
      "<ipython-input-133-f11b363facfe>:20: FutureWarning: The frame.append method is deprecated and will be removed from pandas in a future version. Use pandas.concat instead.\n",
      "  tweets = tweets.append({\"company_name\":company_name,\"text\":text,\"support_Count\":support_count,\"rank\":rank,\"sentiment\" :sentiment,\"polarity\":polarity,\"timestamp_ID\":time_count,\n",
      "<ipython-input-133-f11b363facfe>:20: FutureWarning: The frame.append method is deprecated and will be removed from pandas in a future version. Use pandas.concat instead.\n",
      "  tweets = tweets.append({\"company_name\":company_name,\"text\":text,\"support_Count\":support_count,\"rank\":rank,\"sentiment\" :sentiment,\"polarity\":polarity,\"timestamp_ID\":time_count,\n",
      "<ipython-input-133-f11b363facfe>:20: FutureWarning: The frame.append method is deprecated and will be removed from pandas in a future version. Use pandas.concat instead.\n",
      "  tweets = tweets.append({\"company_name\":company_name,\"text\":text,\"support_Count\":support_count,\"rank\":rank,\"sentiment\" :sentiment,\"polarity\":polarity,\"timestamp_ID\":time_count,\n",
      "<ipython-input-133-f11b363facfe>:20: FutureWarning: The frame.append method is deprecated and will be removed from pandas in a future version. Use pandas.concat instead.\n",
      "  tweets = tweets.append({\"company_name\":company_name,\"text\":text,\"support_Count\":support_count,\"rank\":rank,\"sentiment\" :sentiment,\"polarity\":polarity,\"timestamp_ID\":time_count,\n",
      "<ipython-input-133-f11b363facfe>:20: FutureWarning: The frame.append method is deprecated and will be removed from pandas in a future version. Use pandas.concat instead.\n",
      "  tweets = tweets.append({\"company_name\":company_name,\"text\":text,\"support_Count\":support_count,\"rank\":rank,\"sentiment\" :sentiment,\"polarity\":polarity,\"timestamp_ID\":time_count,\n",
      "<ipython-input-133-f11b363facfe>:20: FutureWarning: The frame.append method is deprecated and will be removed from pandas in a future version. Use pandas.concat instead.\n",
      "  tweets = tweets.append({\"company_name\":company_name,\"text\":text,\"support_Count\":support_count,\"rank\":rank,\"sentiment\" :sentiment,\"polarity\":polarity,\"timestamp_ID\":time_count,\n",
      "<ipython-input-133-f11b363facfe>:20: FutureWarning: The frame.append method is deprecated and will be removed from pandas in a future version. Use pandas.concat instead.\n",
      "  tweets = tweets.append({\"company_name\":company_name,\"text\":text,\"support_Count\":support_count,\"rank\":rank,\"sentiment\" :sentiment,\"polarity\":polarity,\"timestamp_ID\":time_count,\n",
      "<ipython-input-133-f11b363facfe>:20: FutureWarning: The frame.append method is deprecated and will be removed from pandas in a future version. Use pandas.concat instead.\n",
      "  tweets = tweets.append({\"company_name\":company_name,\"text\":text,\"support_Count\":support_count,\"rank\":rank,\"sentiment\" :sentiment,\"polarity\":polarity,\"timestamp_ID\":time_count,\n",
      "<ipython-input-133-f11b363facfe>:20: FutureWarning: The frame.append method is deprecated and will be removed from pandas in a future version. Use pandas.concat instead.\n",
      "  tweets = tweets.append({\"company_name\":company_name,\"text\":text,\"support_Count\":support_count,\"rank\":rank,\"sentiment\" :sentiment,\"polarity\":polarity,\"timestamp_ID\":time_count,\n",
      "<ipython-input-133-f11b363facfe>:20: FutureWarning: The frame.append method is deprecated and will be removed from pandas in a future version. Use pandas.concat instead.\n",
      "  tweets = tweets.append({\"company_name\":company_name,\"text\":text,\"support_Count\":support_count,\"rank\":rank,\"sentiment\" :sentiment,\"polarity\":polarity,\"timestamp_ID\":time_count,\n",
      "<ipython-input-133-f11b363facfe>:20: FutureWarning: The frame.append method is deprecated and will be removed from pandas in a future version. Use pandas.concat instead.\n",
      "  tweets = tweets.append({\"company_name\":company_name,\"text\":text,\"support_Count\":support_count,\"rank\":rank,\"sentiment\" :sentiment,\"polarity\":polarity,\"timestamp_ID\":time_count,\n",
      "<ipython-input-133-f11b363facfe>:20: FutureWarning: The frame.append method is deprecated and will be removed from pandas in a future version. Use pandas.concat instead.\n",
      "  tweets = tweets.append({\"company_name\":company_name,\"text\":text,\"support_Count\":support_count,\"rank\":rank,\"sentiment\" :sentiment,\"polarity\":polarity,\"timestamp_ID\":time_count,\n",
      "<ipython-input-133-f11b363facfe>:20: FutureWarning: The frame.append method is deprecated and will be removed from pandas in a future version. Use pandas.concat instead.\n",
      "  tweets = tweets.append({\"company_name\":company_name,\"text\":text,\"support_Count\":support_count,\"rank\":rank,\"sentiment\" :sentiment,\"polarity\":polarity,\"timestamp_ID\":time_count,\n",
      "<ipython-input-133-f11b363facfe>:20: FutureWarning: The frame.append method is deprecated and will be removed from pandas in a future version. Use pandas.concat instead.\n",
      "  tweets = tweets.append({\"company_name\":company_name,\"text\":text,\"support_Count\":support_count,\"rank\":rank,\"sentiment\" :sentiment,\"polarity\":polarity,\"timestamp_ID\":time_count,\n",
      "<ipython-input-133-f11b363facfe>:20: FutureWarning: The frame.append method is deprecated and will be removed from pandas in a future version. Use pandas.concat instead.\n",
      "  tweets = tweets.append({\"company_name\":company_name,\"text\":text,\"support_Count\":support_count,\"rank\":rank,\"sentiment\" :sentiment,\"polarity\":polarity,\"timestamp_ID\":time_count,\n",
      "<ipython-input-133-f11b363facfe>:20: FutureWarning: The frame.append method is deprecated and will be removed from pandas in a future version. Use pandas.concat instead.\n",
      "  tweets = tweets.append({\"company_name\":company_name,\"text\":text,\"support_Count\":support_count,\"rank\":rank,\"sentiment\" :sentiment,\"polarity\":polarity,\"timestamp_ID\":time_count,\n",
      "<ipython-input-133-f11b363facfe>:20: FutureWarning: The frame.append method is deprecated and will be removed from pandas in a future version. Use pandas.concat instead.\n",
      "  tweets = tweets.append({\"company_name\":company_name,\"text\":text,\"support_Count\":support_count,\"rank\":rank,\"sentiment\" :sentiment,\"polarity\":polarity,\"timestamp_ID\":time_count,\n",
      "<ipython-input-133-f11b363facfe>:20: FutureWarning: The frame.append method is deprecated and will be removed from pandas in a future version. Use pandas.concat instead.\n",
      "  tweets = tweets.append({\"company_name\":company_name,\"text\":text,\"support_Count\":support_count,\"rank\":rank,\"sentiment\" :sentiment,\"polarity\":polarity,\"timestamp_ID\":time_count,\n",
      "<ipython-input-133-f11b363facfe>:20: FutureWarning: The frame.append method is deprecated and will be removed from pandas in a future version. Use pandas.concat instead.\n",
      "  tweets = tweets.append({\"company_name\":company_name,\"text\":text,\"support_Count\":support_count,\"rank\":rank,\"sentiment\" :sentiment,\"polarity\":polarity,\"timestamp_ID\":time_count,\n",
      "<ipython-input-133-f11b363facfe>:20: FutureWarning: The frame.append method is deprecated and will be removed from pandas in a future version. Use pandas.concat instead.\n",
      "  tweets = tweets.append({\"company_name\":company_name,\"text\":text,\"support_Count\":support_count,\"rank\":rank,\"sentiment\" :sentiment,\"polarity\":polarity,\"timestamp_ID\":time_count,\n",
      "<ipython-input-133-f11b363facfe>:20: FutureWarning: The frame.append method is deprecated and will be removed from pandas in a future version. Use pandas.concat instead.\n",
      "  tweets = tweets.append({\"company_name\":company_name,\"text\":text,\"support_Count\":support_count,\"rank\":rank,\"sentiment\" :sentiment,\"polarity\":polarity,\"timestamp_ID\":time_count,\n"
     ]
    }
   ],
   "source": [
    "#company_name,text,support_Count,rank,sentiment,polarity,user,mentioned_user,timestamp_ID,company_ID,tweet_ID\n",
    "time_count = 0 \n",
    "\n",
    "for k in range(len(t_file)):\n",
    "    with open(t_file[k],encoding=\"utf8\") as f:\n",
    "        data = json.load(f)\n",
    "    \n",
    "    for i in range(len(data)):\n",
    "        company_name = json.dumps(data[i][\"companies\"], ensure_ascii=False, indent=4)\n",
    "    #flx = json.dumps(data[0][\"top_tweets\"][\"text\"], ensure_ascii=False, indent=4)\n",
    "        st_data['timestamp_ID'] = time_count\n",
    "        for j in range(len(data[i][\"top_tweets\"])):\n",
    "            text = json.dumps(data[i][\"top_tweets\"][j][\"text\"], ensure_ascii=False, indent=4)\n",
    "            text=text.replace(\"\\'\",\"\").replace(\"\\\"\",\"\")\n",
    "            support_count = json.dumps(data[i][\"top_tweets\"][j][\"support_count\"], ensure_ascii=False, indent=4)\n",
    "            rank = json.dumps(data[i][\"top_tweets\"][j][\"rank\"], ensure_ascii=False, indent=4)\n",
    "            sentiment = json.dumps(data[i][\"top_tweets\"][j][\"sentiment\"], ensure_ascii=False, indent=4)\n",
    "            polarity = json.dumps(data[i][\"top_tweets\"][j][\"polarity\"], ensure_ascii=False, indent=4)\n",
    "        \n",
    "            tweets = tweets.append({\"company_name\":company_name,\"text\":text,\"support_Count\":support_count,\"rank\":rank,\"sentiment\" :sentiment,\"polarity\":polarity,\"timestamp_ID\":time_count,\n",
    "                                   \"userID\":random.sample(range(1, 30), 1), \"mentioned_userID\":random.sample(range(32, 80), 3)},ignore_index=True)\n",
    "     \n",
    "    time_count = time_count + 1 \n",
    "        "
   ]
  },
  {
   "cell_type": "code",
   "execution_count": 134,
   "id": "3d95f197",
   "metadata": {},
   "outputs": [
    {
     "data": {
      "text/html": [
       "<div>\n",
       "<style scoped>\n",
       "    .dataframe tbody tr th:only-of-type {\n",
       "        vertical-align: middle;\n",
       "    }\n",
       "\n",
       "    .dataframe tbody tr th {\n",
       "        vertical-align: top;\n",
       "    }\n",
       "\n",
       "    .dataframe thead th {\n",
       "        text-align: right;\n",
       "    }\n",
       "</style>\n",
       "<table border=\"1\" class=\"dataframe\">\n",
       "  <thead>\n",
       "    <tr style=\"text-align: right;\">\n",
       "      <th></th>\n",
       "      <th>company_name</th>\n",
       "      <th>text</th>\n",
       "      <th>support_Count</th>\n",
       "      <th>rank</th>\n",
       "      <th>sentiment</th>\n",
       "      <th>polarity</th>\n",
       "      <th>userID</th>\n",
       "      <th>mentioned_userID</th>\n",
       "      <th>timestamp_ID</th>\n",
       "      <th>company_ID</th>\n",
       "      <th>tweet_ID</th>\n",
       "    </tr>\n",
       "  </thead>\n",
       "  <tbody>\n",
       "    <tr>\n",
       "      <th>0</th>\n",
       "      <td>\"IOC\"</td>\n",
       "      <td>You know we got to finish the menu with someth...</td>\n",
       "      <td>\"3936\"</td>\n",
       "      <td>\"1\"</td>\n",
       "      <td>\"0.0625\"</td>\n",
       "      <td>\"0.0625\"</td>\n",
       "      <td>[8]</td>\n",
       "      <td>[75, 45, 51]</td>\n",
       "      <td>0</td>\n",
       "      <td>NaN</td>\n",
       "      <td>NaN</td>\n",
       "    </tr>\n",
       "    <tr>\n",
       "      <th>1</th>\n",
       "      <td>\"GAIL\"</td>\n",
       "      <td>75 years old legend gail falkenberg keeps tenn...</td>\n",
       "      <td>\"90\"</td>\n",
       "      <td>\"1\"</td>\n",
       "      <td>\"0.1\"</td>\n",
       "      <td>\"0.1\"</td>\n",
       "      <td>[28]</td>\n",
       "      <td>[42, 38, 78]</td>\n",
       "      <td>0</td>\n",
       "      <td>NaN</td>\n",
       "      <td>NaN</td>\n",
       "    </tr>\n",
       "    <tr>\n",
       "      <th>2</th>\n",
       "      <td>\"ITC\"</td>\n",
       "      <td>I’m here with a new friend…an amazing beekeepe...</td>\n",
       "      <td>\"27813\"</td>\n",
       "      <td>\"1\"</td>\n",
       "      <td>\"0.27878788\"</td>\n",
       "      <td>\"0.27878788\"</td>\n",
       "      <td>[5]</td>\n",
       "      <td>[60, 34, 43]</td>\n",
       "      <td>0</td>\n",
       "      <td>NaN</td>\n",
       "      <td>NaN</td>\n",
       "    </tr>\n",
       "    <tr>\n",
       "      <th>3</th>\n",
       "      <td>\"ITC\"</td>\n",
       "      <td>💥 \\I’m getting calls from these really large i...</td>\n",
       "      <td>\"3300\"</td>\n",
       "      <td>\"2\"</td>\n",
       "      <td>\"-0.017857144\"</td>\n",
       "      <td>\"-0.017857144\"</td>\n",
       "      <td>[19]</td>\n",
       "      <td>[38, 34, 40]</td>\n",
       "      <td>0</td>\n",
       "      <td>NaN</td>\n",
       "      <td>NaN</td>\n",
       "    </tr>\n",
       "    <tr>\n",
       "      <th>4</th>\n",
       "      <td>\"ZOMATO\"</td>\n",
       "      <td>How #Twitter came together to help a #zomato d...</td>\n",
       "      <td>\"650\"</td>\n",
       "      <td>\"1\"</td>\n",
       "      <td>\"0.0\"</td>\n",
       "      <td>\"0.0\"</td>\n",
       "      <td>[17]</td>\n",
       "      <td>[35, 48, 58]</td>\n",
       "      <td>1</td>\n",
       "      <td>NaN</td>\n",
       "      <td>NaN</td>\n",
       "    </tr>\n",
       "    <tr>\n",
       "      <th>...</th>\n",
       "      <td>...</td>\n",
       "      <td>...</td>\n",
       "      <td>...</td>\n",
       "      <td>...</td>\n",
       "      <td>...</td>\n",
       "      <td>...</td>\n",
       "      <td>...</td>\n",
       "      <td>...</td>\n",
       "      <td>...</td>\n",
       "      <td>...</td>\n",
       "      <td>...</td>\n",
       "    </tr>\n",
       "    <tr>\n",
       "      <th>176</th>\n",
       "      <td>\"GLAND\"</td>\n",
       "      <td>Hypothyroidism is when your thyroid gland does...</td>\n",
       "      <td>\"156\"</td>\n",
       "      <td>\"2\"</td>\n",
       "      <td>\"0.071428575\"</td>\n",
       "      <td>\"0.071428575\"</td>\n",
       "      <td>[17]</td>\n",
       "      <td>[53, 47, 54]</td>\n",
       "      <td>19</td>\n",
       "      <td>NaN</td>\n",
       "      <td>NaN</td>\n",
       "    </tr>\n",
       "    <tr>\n",
       "      <th>177</th>\n",
       "      <td>\"GLAND\"</td>\n",
       "      <td>Hypothyroidism is when your thyroid gland does...</td>\n",
       "      <td>\"118\"</td>\n",
       "      <td>\"3\"</td>\n",
       "      <td>\"0.071428575\"</td>\n",
       "      <td>\"0.071428575\"</td>\n",
       "      <td>[13]</td>\n",
       "      <td>[66, 65, 53]</td>\n",
       "      <td>19</td>\n",
       "      <td>NaN</td>\n",
       "      <td>NaN</td>\n",
       "    </tr>\n",
       "    <tr>\n",
       "      <th>178</th>\n",
       "      <td>\"GLAND\"</td>\n",
       "      <td>Sweating more and being sensitive to heat are ...</td>\n",
       "      <td>\"68\"</td>\n",
       "      <td>\"4\"</td>\n",
       "      <td>\"0.325\"</td>\n",
       "      <td>\"0.325\"</td>\n",
       "      <td>[8]</td>\n",
       "      <td>[77, 32, 63]</td>\n",
       "      <td>19</td>\n",
       "      <td>NaN</td>\n",
       "      <td>NaN</td>\n",
       "    </tr>\n",
       "    <tr>\n",
       "      <th>179</th>\n",
       "      <td>\"GAIL\"</td>\n",
       "      <td>#Happydalithistorymonth! As a we open a this y...</td>\n",
       "      <td>\"64\"</td>\n",
       "      <td>\"1\"</td>\n",
       "      <td>\"0.3\"</td>\n",
       "      <td>\"0.3\"</td>\n",
       "      <td>[18]</td>\n",
       "      <td>[66, 79, 39]</td>\n",
       "      <td>19</td>\n",
       "      <td>NaN</td>\n",
       "      <td>NaN</td>\n",
       "    </tr>\n",
       "    <tr>\n",
       "      <th>180</th>\n",
       "      <td>\"ITC\"</td>\n",
       "      <td>NEW 💥 UK Finance Minister: We see “enormous po...</td>\n",
       "      <td>\"5320\"</td>\n",
       "      <td>\"1\"</td>\n",
       "      <td>\"0.045454547\"</td>\n",
       "      <td>\"0.045454547\"</td>\n",
       "      <td>[29]</td>\n",
       "      <td>[60, 45, 58]</td>\n",
       "      <td>19</td>\n",
       "      <td>NaN</td>\n",
       "      <td>NaN</td>\n",
       "    </tr>\n",
       "  </tbody>\n",
       "</table>\n",
       "<p>181 rows × 11 columns</p>\n",
       "</div>"
      ],
      "text/plain": [
       "    company_name                                               text  \\\n",
       "0          \"IOC\"  You know we got to finish the menu with someth...   \n",
       "1         \"GAIL\"  75 years old legend gail falkenberg keeps tenn...   \n",
       "2          \"ITC\"  I’m here with a new friend…an amazing beekeepe...   \n",
       "3          \"ITC\"  💥 \\I’m getting calls from these really large i...   \n",
       "4       \"ZOMATO\"  How #Twitter came together to help a #zomato d...   \n",
       "..           ...                                                ...   \n",
       "176      \"GLAND\"  Hypothyroidism is when your thyroid gland does...   \n",
       "177      \"GLAND\"  Hypothyroidism is when your thyroid gland does...   \n",
       "178      \"GLAND\"  Sweating more and being sensitive to heat are ...   \n",
       "179       \"GAIL\"  #Happydalithistorymonth! As a we open a this y...   \n",
       "180        \"ITC\"  NEW 💥 UK Finance Minister: We see “enormous po...   \n",
       "\n",
       "    support_Count rank       sentiment        polarity userID  \\\n",
       "0          \"3936\"  \"1\"        \"0.0625\"        \"0.0625\"    [8]   \n",
       "1            \"90\"  \"1\"           \"0.1\"           \"0.1\"   [28]   \n",
       "2         \"27813\"  \"1\"    \"0.27878788\"    \"0.27878788\"    [5]   \n",
       "3          \"3300\"  \"2\"  \"-0.017857144\"  \"-0.017857144\"   [19]   \n",
       "4           \"650\"  \"1\"           \"0.0\"           \"0.0\"   [17]   \n",
       "..            ...  ...             ...             ...    ...   \n",
       "176         \"156\"  \"2\"   \"0.071428575\"   \"0.071428575\"   [17]   \n",
       "177         \"118\"  \"3\"   \"0.071428575\"   \"0.071428575\"   [13]   \n",
       "178          \"68\"  \"4\"         \"0.325\"         \"0.325\"    [8]   \n",
       "179          \"64\"  \"1\"           \"0.3\"           \"0.3\"   [18]   \n",
       "180        \"5320\"  \"1\"   \"0.045454547\"   \"0.045454547\"   [29]   \n",
       "\n",
       "    mentioned_userID timestamp_ID company_ID tweet_ID  \n",
       "0       [75, 45, 51]            0        NaN      NaN  \n",
       "1       [42, 38, 78]            0        NaN      NaN  \n",
       "2       [60, 34, 43]            0        NaN      NaN  \n",
       "3       [38, 34, 40]            0        NaN      NaN  \n",
       "4       [35, 48, 58]            1        NaN      NaN  \n",
       "..               ...          ...        ...      ...  \n",
       "176     [53, 47, 54]           19        NaN      NaN  \n",
       "177     [66, 65, 53]           19        NaN      NaN  \n",
       "178     [77, 32, 63]           19        NaN      NaN  \n",
       "179     [66, 79, 39]           19        NaN      NaN  \n",
       "180     [60, 45, 58]           19        NaN      NaN  \n",
       "\n",
       "[181 rows x 11 columns]"
      ]
     },
     "execution_count": 134,
     "metadata": {},
     "output_type": "execute_result"
    }
   ],
   "source": [
    "tweets"
   ]
  },
  {
   "cell_type": "code",
   "execution_count": 135,
   "id": "bc22c392",
   "metadata": {},
   "outputs": [],
   "source": [
    "for i in range(len(company)):\n",
    "    for j in range(len(tweets)):\n",
    "        if (company[\"symbol\"][i] == re.sub('\"','',tweets[\"company_name\"][j])):\n",
    "            #print(stock[\"symbol\"][i],\" second \", re.sub('\"','',tweet[\"company_name\"][j]),\" result \",stock[\"symbol\"][i] == re.sub('\"','',tweet[\"company_name\"][j]))\n",
    "            tweets[\"company_ID\"][j] = company.index[i]"
   ]
  },
  {
   "cell_type": "code",
   "execution_count": 136,
   "id": "22ea0dab",
   "metadata": {},
   "outputs": [],
   "source": [
    "tweets[\"tweet_ID\"] = tweets.index"
   ]
  },
  {
   "cell_type": "code",
   "execution_count": null,
   "id": "823b7e83",
   "metadata": {},
   "outputs": [],
   "source": [
    "tweets.to_csv(\"data_/tweets.csv\")"
   ]
  }
 ],
 "metadata": {
  "kernelspec": {
   "display_name": "Python 3",
   "language": "python",
   "name": "python3"
  },
  "language_info": {
   "codemirror_mode": {
    "name": "ipython",
    "version": 3
   },
   "file_extension": ".py",
   "mimetype": "text/x-python",
   "name": "python",
   "nbconvert_exporter": "python",
   "pygments_lexer": "ipython3",
   "version": "3.8.8"
  }
 },
 "nbformat": 4,
 "nbformat_minor": 5
}
