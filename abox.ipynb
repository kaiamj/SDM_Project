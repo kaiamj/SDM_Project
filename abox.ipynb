{
 "cells": [
  {
   "cell_type": "code",
   "execution_count": 1,
   "metadata": {},
   "outputs": [],
   "source": [
    "# import libraries\n",
    "from rdflib import Graph,Literal,RDF,URIRef\n",
    "from rdflib.namespace import FOAF,XSD,RDFS\n",
    "from rdflib import Namespace\n",
    "import pandas as pd\n",
    "import string\n",
    "import random\n",
    "import numpy as np\n",
    "import json\n",
    "\n",
    "\n",
    "# ignore the warning\n",
    "import warnings\n",
    "warnings.filterwarnings('ignore')\n"
   ]
  },
  {
   "cell_type": "code",
   "execution_count": 2,
   "metadata": {},
   "outputs": [],
   "source": [
    "# initialize the graph\n",
    "g = Graph()\n",
    "\n",
    "# Namespace is used for the graph general URIref\n",
    "# We can add are classes (Concepts) with PJ_SDM uri (/Tweet, /Company) etc.\n",
    "PJ_SDM = Namespace(\"http://proj_sdm.org/\")\n",
    "# bind for the better readability\n",
    "g.bind(\"pj_sdm\",PJ_SDM)"
   ]
  },
  {
   "cell_type": "code",
   "execution_count": 3,
   "metadata": {},
   "outputs": [],
   "source": [
    "# we created this parser as there should not be any forbiden characters in the URI\n",
    "def URLparse(url:str):\n",
    "    url=url.replace(\"\\'\",\"_\").replace(\"\\\"\",\"_\")\n",
    "    for i in string.punctuation:\n",
    "        url = url.replace(i,\"_\")\n",
    "    url = url.replace(\" \",\"_\")\n",
    "    return url"
   ]
  },
  {
   "cell_type": "markdown",
   "metadata": {},
   "source": [
    "# Data Sources"
   ]
  },
  {
   "cell_type": "code",
   "execution_count": 4,
   "metadata": {},
   "outputs": [
    {
     "data": {
      "text/html": [
       "<div>\n",
       "<style scoped>\n",
       "    .dataframe tbody tr th:only-of-type {\n",
       "        vertical-align: middle;\n",
       "    }\n",
       "\n",
       "    .dataframe tbody tr th {\n",
       "        vertical-align: top;\n",
       "    }\n",
       "\n",
       "    .dataframe thead th {\n",
       "        text-align: right;\n",
       "    }\n",
       "</style>\n",
       "<table border=\"1\" class=\"dataframe\">\n",
       "  <thead>\n",
       "    <tr style=\"text-align: right;\">\n",
       "      <th></th>\n",
       "      <th>Company Name</th>\n",
       "      <th>Last Price</th>\n",
       "      <th>% Chg</th>\n",
       "      <th>52 wk\\nHigh</th>\n",
       "      <th>52 wk\\nLow</th>\n",
       "      <th>Market Cap\\n(Rs. cr)</th>\n",
       "    </tr>\n",
       "  </thead>\n",
       "  <tbody>\n",
       "    <tr>\n",
       "      <th>0</th>\n",
       "      <td>RELIANCE</td>\n",
       "      <td>2595.85</td>\n",
       "      <td>0.67</td>\n",
       "      <td>2751.35</td>\n",
       "      <td>1876.70</td>\n",
       "      <td>1755858.03</td>\n",
       "    </tr>\n",
       "    <tr>\n",
       "      <th>1</th>\n",
       "      <td>TCS</td>\n",
       "      <td>3707.45</td>\n",
       "      <td>-1.13</td>\n",
       "      <td>4043.00</td>\n",
       "      <td>3004.00</td>\n",
       "      <td>1371404.80</td>\n",
       "    </tr>\n",
       "    <tr>\n",
       "      <th>2</th>\n",
       "      <td>HDFC</td>\n",
       "      <td>1430.90</td>\n",
       "      <td>-0.81</td>\n",
       "      <td>1725.00</td>\n",
       "      <td>1292.00</td>\n",
       "      <td>793384.31</td>\n",
       "    </tr>\n",
       "    <tr>\n",
       "      <th>3</th>\n",
       "      <td>WIPRO</td>\n",
       "      <td>1876.55</td>\n",
       "      <td>-0.54</td>\n",
       "      <td>1953.90</td>\n",
       "      <td>1311.30</td>\n",
       "      <td>789415.54</td>\n",
       "    </tr>\n",
       "    <tr>\n",
       "      <th>4</th>\n",
       "      <td>ITC</td>\n",
       "      <td>699.25</td>\n",
       "      <td>-0.70</td>\n",
       "      <td>867.00</td>\n",
       "      <td>531.15</td>\n",
       "      <td>485892.84</td>\n",
       "    </tr>\n",
       "  </tbody>\n",
       "</table>\n",
       "</div>"
      ],
      "text/plain": [
       "  Company Name  Last Price  % Chg  52 wk\\nHigh  52 wk\\nLow  \\\n",
       "0     RELIANCE     2595.85   0.67      2751.35     1876.70   \n",
       "1          TCS     3707.45  -1.13      4043.00     3004.00   \n",
       "2         HDFC     1430.90  -0.81      1725.00     1292.00   \n",
       "3        WIPRO     1876.55  -0.54      1953.90     1311.30   \n",
       "4          ITC      699.25  -0.70       867.00      531.15   \n",
       "\n",
       "   Market Cap\\n(Rs. cr)  \n",
       "0            1755858.03  \n",
       "1            1371404.80  \n",
       "2             793384.31  \n",
       "3             789415.54  \n",
       "4             485892.84  "
      ]
     },
     "execution_count": 4,
     "metadata": {},
     "output_type": "execute_result"
    }
   ],
   "source": [
    "companies_df = pd.read_csv('data/top_25NSE.csv')\n",
    "companies_df.head()"
   ]
  },
  {
   "cell_type": "code",
   "execution_count": 5,
   "metadata": {},
   "outputs": [],
   "source": [
    "with open('data/sdm_sample_db_tw.json') as json_file:\n",
    "    sample_sdm_db = json.load(json_file)\n",
    "# sample_sdm_db[0]"
   ]
  },
  {
   "cell_type": "code",
   "execution_count": null,
   "metadata": {},
   "outputs": [],
   "source": []
  },
  {
   "cell_type": "markdown",
   "metadata": {},
   "source": [
    "# Add company"
   ]
  },
  {
   "cell_type": "code",
   "execution_count": 6,
   "metadata": {},
   "outputs": [
    {
     "name": "stdout",
     "output_type": "stream",
     "text": [
      "added -  http://proj_sdm.org/RELIANCE\n",
      "added -  http://proj_sdm.org/TCS\n",
      "added -  http://proj_sdm.org/HDFC\n",
      "added -  http://proj_sdm.org/WIPRO\n",
      "added -  http://proj_sdm.org/ITC\n",
      "added -  http://proj_sdm.org/ONGC\n",
      "added -  http://proj_sdm.org/HINDALCO\n",
      "added -  http://proj_sdm.org/NTPC\n",
      "added -  http://proj_sdm.org/IOC\n",
      "added -  http://proj_sdm.org/GRASIM\n",
      "added -  http://proj_sdm.org/M&amp;M\n",
      "added -  http://proj_sdm.org/DLF\n",
      "added -  http://proj_sdm.org/CIPLA\n",
      "added -  http://proj_sdm.org/SIEMENS\n",
      "added -  http://proj_sdm.org/BPCL\n",
      "added -  http://proj_sdm.org/SRF\n",
      "added -  http://proj_sdm.org/BRITANNIA\n",
      "added -  http://proj_sdm.org/MINDTREE\n",
      "added -  http://proj_sdm.org/GAIL\n",
      "added -  http://proj_sdm.org/ZOMATO\n",
      "added -  http://proj_sdm.org/MARICO\n",
      "added -  http://proj_sdm.org/MPHASIS\n",
      "added -  http://proj_sdm.org/IRCTC\n",
      "added -  http://proj_sdm.org/UPL\n",
      "added -  http://proj_sdm.org/GLAND\n"
     ]
    }
   ],
   "source": [
    "# Although it will be infered \n",
    "for i, row in companies_df.iterrows():\n",
    "    comp = row[\"Company Name\"]\n",
    "    comp_obj_ref = URIRef(f\"http://proj_sdm.org/{comp}\")\n",
    "    g.add((comp_obj_ref, RDF.type, PJ_SDM.Company))\n",
    "    print('added - ',comp_obj_ref)"
   ]
  },
  {
   "cell_type": "markdown",
   "metadata": {},
   "source": [
    "# Add Tweet Stock and Time"
   ]
  },
  {
   "cell_type": "code",
   "execution_count": 7,
   "metadata": {},
   "outputs": [],
   "source": [
    "# random important users list from india \n",
    "famous_users = ['Mukesh ambani','Shiv Nadar','Dilip Shangvi','Satya Nadella','Azim Premji','Sachin Tendulkar','Virat Kohli','Barak Obama','']"
   ]
  },
  {
   "cell_type": "code",
   "execution_count": 8,
   "metadata": {},
   "outputs": [],
   "source": [
    "def get_time():\n",
    "    h = random.randint(1,24)\n",
    "    d = random.randint(1,31)\n",
    "    m = random.randint(1,12)\n",
    "    y = 2022\n",
    "    return h,d,m,y"
   ]
  },
  {
   "cell_type": "code",
   "execution_count": 9,
   "metadata": {},
   "outputs": [],
   "source": [
    "def get_ohlc():\n",
    "    o = random.randint(1,300)\n",
    "    h = random.randint(1,300)\n",
    "    l = random.randint(1,300)\n",
    "    c = random.randint(1,300)\n",
    "    return o,h,l,c"
   ]
  },
  {
   "cell_type": "code",
   "execution_count": 10,
   "metadata": {},
   "outputs": [],
   "source": [
    "hour,day,month,year = get_time()\n",
    "\n",
    "# add uniqe time \n",
    "g.add((PJ_SDM.Time, PJ_SDM.has_hour, Literal(int(hour))))\n",
    "g.add((PJ_SDM.Time, PJ_SDM.has_day, Literal(int(day))))\n",
    "g.add((PJ_SDM.Time, PJ_SDM.has_month, Literal(int(month))))\n",
    "g.add((PJ_SDM.Time, PJ_SDM.has_year, Literal(int(year))))\n",
    "\n",
    "\n",
    "# time ideally is a blank node, just giving URI for the better readability\n",
    "unique_time_str = \"_\".join([str(s) for s in [hour,day,month,year]])\n",
    "unique_time_uri = URIRef(f\"http://proj_sdm.org/{unique_time_str}\")\n",
    "# although the below rule will be infered automaticly, adding it just for the better readility \n",
    "g.add((unique_time_uri, RDF.type, PJ_SDM.Time))\n",
    "\n",
    "\n",
    "\n",
    "for data_dict in sample_sdm_db:\n",
    "    comp = data_dict['companies']\n",
    "    comp_obj_ref = URIRef(f\"http://proj_sdm.org/{comp}\")\n",
    "\n",
    "\n",
    "    # get ohlc data and add to graph\n",
    "    open,high,low,close  = get_ohlc()\n",
    "    unique_stock_time = 'Stock_data_'+comp+unique_time_str\n",
    "    unique_stock_time_uri = URIRef(f\"http://proj_sdm.org/{unique_stock_time}\")\n",
    "    # although the below rule will be infered automaticly, adding it just for the better readility \n",
    "    g.add((unique_stock_time_uri, RDF.type, PJ_SDM.Stock_data))\n",
    "\n",
    "\n",
    "    # add connections between stock_data, time and company, the stocks are for this particular hour, day, month and year. \n",
    "    # Granularities can be easily changed easily to minuite or seconds \n",
    "    g.add((unique_stock_time_uri,PJ_SDM.stock_time,unique_time_uri))\n",
    "    g.add((comp_obj_ref,PJ_SDM.stock_pricing,unique_time_uri))\n",
    "\n",
    "\n",
    "    # adding attribute \n",
    "    g.add((unique_stock_time_uri, PJ_SDM.open, Literal(float(open))))\n",
    "    g.add((unique_stock_time_uri, PJ_SDM.high, Literal(float(high))))\n",
    "    g.add((unique_stock_time_uri, PJ_SDM.low, Literal(float(low))))\n",
    "    g.add((unique_stock_time_uri, PJ_SDM.close, Literal(float(close))))\n",
    "    g.add((unique_stock_time_uri, PJ_SDM.in_stock_market, PJ_SDM.DSE))\n",
    "\n",
    "\n",
    "    # add tweets information\n",
    "    for i,tw_info in enumerate(data_dict['top_tweets']):\n",
    "\n",
    "        # get attributes\n",
    "        text = tw_info['text']\n",
    "        support_count = tw_info['support_count']\n",
    "        rank = tw_info['rank']\n",
    "        sentiment = tw_info['sentiment']\n",
    "\n",
    "\n",
    "        unique_tweet_time = 'Tweet_'+str(rank)+'_'+comp+unique_time_str\n",
    "        unique_tweet_time_uri = URIRef(f\"http://proj_sdm.org/{unique_tweet_time}\")\n",
    "        # although the below rule will be infered automaticly, adding it just for the better readility \n",
    "        g.add((unique_tweet_time_uri, RDF.type, PJ_SDM.Tweet))\n",
    "\n",
    "        # add connections between Tweet, time and company, the stocks are for this particular hour, day, month and year. \n",
    "        # Granularities can be easily changed easily to minuite or seconds \n",
    "        g.add((unique_tweet_time_uri,PJ_SDM.tweet_time,unique_time_uri))\n",
    "        g.add((comp_obj_ref,PJ_SDM.related_tweet,unique_tweet_time_uri))\n",
    "\n",
    "\n",
    "        # add attributes\n",
    "        text = tw_info['text']\n",
    "        support_count = tw_info['support_count']\n",
    "        rank = tw_info['rank']\n",
    "        sentiment = tw_info['sentiment']\n",
    "        g.add((unique_tweet_time_uri, PJ_SDM.text, Literal(str(text))))\n",
    "        g.add((unique_tweet_time_uri, PJ_SDM.support_count, Literal(int(support_count))))\n",
    "        g.add((unique_tweet_time_uri, PJ_SDM.rank, Literal(int(rank))))\n",
    "        g.add((unique_tweet_time_uri, PJ_SDM.sentiment, Literal(float(sentiment))))\n",
    "\n",
    "\n",
    "        # add users\n",
    "        id = 0\n",
    "        for i in range(2):\n",
    "            id = random.randint(0,len(famous_users)-1)\n",
    "            mentioned_user = famous_users[id]\n",
    "            mentioned_user_uri = URIRef(f\"http://proj_sdm.org/{URLparse(mentioned_user)}\")\n",
    "            g.add((mentioned_user_uri,PJ_SDM.name,Literal(str(mentioned_user))))\n",
    "            g.add((unique_tweet_time_uri,PJ_SDM.related_user,mentioned_user_uri))\n",
    "\n",
    "        tweet_user = famous_users[(id+5)%len(famous_users)]\n",
    "        tweet_user_uri = URIRef(f\"http://proj_sdm.org/{URLparse(tweet_user)}\")\n",
    "        g.add((tweet_user_uri,PJ_SDM.name,Literal(str(tweet_user))))\n",
    "        g.add((unique_tweet_time_uri,PJ_SDM.tweet_by,tweet_user_uri))"
   ]
  },
  {
   "cell_type": "code",
   "execution_count": 11,
   "metadata": {},
   "outputs": [
    {
     "data": {
      "text/plain": [
       "<Graph identifier=N4650d10e0ef64471b522ec7c6f63b373 (<class 'rdflib.graph.Graph'>)>"
      ]
     },
     "execution_count": 11,
     "metadata": {},
     "output_type": "execute_result"
    }
   ],
   "source": [
    "save_format = \"ttl\"\n",
    "file_name = \"abox.ttl\"\n",
    "g.serialize(file_name, format=save_format)"
   ]
  },
  {
   "cell_type": "code",
   "execution_count": null,
   "metadata": {},
   "outputs": [],
   "source": []
  },
  {
   "cell_type": "code",
   "execution_count": null,
   "metadata": {},
   "outputs": [],
   "source": []
  }
 ],
 "metadata": {
  "interpreter": {
   "hash": "81acd9ad13fbdb433fe431ec69ce7458ddbfbb23cd0cadd7ac20c1a5c3316ffa"
  },
  "kernelspec": {
   "display_name": "Python 3.10.4 ('kg_sdm')",
   "language": "python",
   "name": "python3"
  },
  "language_info": {
   "codemirror_mode": {
    "name": "ipython",
    "version": 3
   },
   "file_extension": ".py",
   "mimetype": "text/x-python",
   "name": "python",
   "nbconvert_exporter": "python",
   "pygments_lexer": "ipython3",
   "version": "3.10.4"
  },
  "orig_nbformat": 4
 },
 "nbformat": 4,
 "nbformat_minor": 2
}
