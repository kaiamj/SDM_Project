{
 "cells": [
  {
   "cell_type": "code",
   "execution_count": 5,
   "id": "32ab27ab",
   "metadata": {},
   "outputs": [],
   "source": [
    "from rdflib import Graph,Literal,RDF,URIRef\n",
    "from rdflib.namespace import FOAF,XSD,RDFS\n",
    "from rdflib import Namespace\n",
    "\n",
    "\n",
    "# initialize the graph\n",
    "g = Graph()\n",
    "\n",
    "# Namespace is used for the graph general URIref\n",
    "# We can add are classes (Concepts) with kg_sdm uri (/Author, /Submission, /Chair) etc.\n",
    "PJ_SDM = Namespace(\"http://proj_sdm.org/\")\n",
    "# bind for the better readability\n",
    "g.bind(\"pj_sdm\",PJ_SDM)"
   ]
  },
  {
   "cell_type": "code",
   "execution_count": 6,
   "id": "1f9b5518",
   "metadata": {},
   "outputs": [
    {
     "data": {
      "text/plain": [
       "<Graph identifier=N6b7a7e4b05ac4e85b5a357cbfbbbd6d4 (<class 'rdflib.graph.Graph'>)>"
      ]
     },
     "execution_count": 6,
     "metadata": {},
     "output_type": "execute_result"
    }
   ],
   "source": [
    "#################################################################\n",
    "#    Object Properties\n",
    "#################################################################\n",
    "\n",
    "g.add((PJ_SDM.close, RDFS.domain, PJ_SDM.Stock_data))\n",
    "g.add((PJ_SDM.close, RDFS.range, XSD.float))\n",
    "g.add((PJ_SDM.close, RDFS.label, Literal(\"close\")))\n",
    "\n",
    "g.add((PJ_SDM.company_name, RDFS.domain, PJ_SDM.Company))\n",
    "g.add((PJ_SDM.company_name, RDFS.range, XSD.string))\n",
    "g.add((PJ_SDM.company_name, RDFS.label, Literal(\"company_name\")))\n",
    "\n",
    "\n",
    "\n",
    "g.add((PJ_SDM.has_day, RDFS.domain, PJ_SDM.Time))\n",
    "g.add((PJ_SDM.has_day, RDFS.range, XSD.integer))\n",
    "g.add((PJ_SDM.has_day, RDFS.label, Literal(\"has_day\")))\n",
    "\n",
    "\n",
    "g.add((PJ_SDM.has_hour, RDFS.domain, PJ_SDM.Time))\n",
    "g.add((PJ_SDM.has_hour, RDFS.range, XSD.integer))\n",
    "g.add((PJ_SDM.has_hour, RDFS.label, Literal(\"has_hour\")))\n",
    "\n",
    "\n",
    "\n",
    "g.add((PJ_SDM.has_month, RDFS.domain, PJ_SDM.Time))\n",
    "g.add((PJ_SDM.has_month, RDFS.range, XSD.integer))\n",
    "g.add((PJ_SDM.has_month, RDFS.label, Literal(\"has_month\")))\n",
    "\n",
    "\n",
    "\n",
    "g.add((PJ_SDM.has_timstamp, RDFS.domain, PJ_SDM.Time))\n",
    "g.add((PJ_SDM.has_timstamp, RDFS.range, XSD.string))\n",
    "g.add((PJ_SDM.has_timstamp, RDFS.label, Literal(\"has_timstamp\")))\n",
    "\n",
    "\n",
    "\n",
    "\n",
    "g.add((PJ_SDM.has_year, RDFS.domain, PJ_SDM.Time))\n",
    "g.add((PJ_SDM.has_year, RDFS.range, XSD.integer))\n",
    "g.add((PJ_SDM.has_year, RDFS.label, Literal(\"has_year\")))\n",
    "\n",
    "\n",
    "g.add((PJ_SDM.high, RDFS.domain, PJ_SDM.Stock_data))\n",
    "g.add((PJ_SDM.high, RDFS.range, XSD.float))\n",
    "g.add((PJ_SDM.high, RDFS.label, Literal(\"high\")))\n",
    "\n",
    "\n",
    "g.add((PJ_SDM.in_stock_market, RDFS.domain, PJ_SDM.Stock_data))\n",
    "g.add((PJ_SDM.in_stock_market, RDFS.range, PJ_SDM.Stock_market))\n",
    "g.add((PJ_SDM.in_stock_market, RDFS.label, Literal(\"in_stock_market\")))\n",
    "\n",
    "\n",
    "g.add((PJ_SDM.low, RDFS.domain, PJ_SDM.Stock_data))\n",
    "g.add((PJ_SDM.low, RDFS.range, XSD.float))\n",
    "g.add((PJ_SDM.low, RDFS.label, Literal(\"low\")))\n",
    "\n",
    "\n",
    "g.add((PJ_SDM.name, RDFS.domain, PJ_SDM.Person))\n",
    "g.add((PJ_SDM.name, RDFS.range, XSD.string))\n",
    "g.add((PJ_SDM.name, RDFS.label, Literal(\"name\")))\n",
    "\n",
    "\n",
    "g.add((PJ_SDM.open, RDFS.domain, PJ_SDM.Stock_data))\n",
    "g.add((PJ_SDM.open, RDFS.range, XSD.float))\n",
    "g.add((PJ_SDM.open, RDFS.label, Literal(\"open\")))\n",
    "\n",
    "\n",
    "g.add((PJ_SDM.rank, RDFS.domain, PJ_SDM.Tweet))\n",
    "g.add((PJ_SDM.rank, RDFS.range, XSD.integer))\n",
    "g.add((PJ_SDM.rank, RDFS.label, Literal(\"rank\")))\n",
    "\n",
    "\n",
    "g.add((PJ_SDM.related_tweet, RDFS.domain, PJ_SDM.Company))\n",
    "g.add((PJ_SDM.related_tweet, RDFS.range, PJ_SDM.Tweet))\n",
    "g.add((PJ_SDM.related_tweet, RDFS.label, Literal(\"related_tweet\")))\n",
    "\n",
    "\n",
    "g.add((PJ_SDM.related_user, RDFS.domain, PJ_SDM.Tweet))\n",
    "g.add((PJ_SDM.related_user, RDFS.range, PJ_SDM.Mentioned_user))\n",
    "g.add((PJ_SDM.related_user, RDFS.label, Literal(\"related_user\")))\n",
    "\n",
    "\n",
    "g.add((PJ_SDM.sentiment_score, RDFS.domain, PJ_SDM.Tweet))\n",
    "g.add((PJ_SDM.sentiment_score, RDFS.range, XSD.float))\n",
    "g.add((PJ_SDM.sentiment_score, RDFS.label, Literal(\"sentiment_score\")))\n",
    "\n",
    "\n",
    "\n",
    "g.add((PJ_SDM.stock_pricing, RDFS.domain, PJ_SDM.Company))\n",
    "g.add((PJ_SDM.stock_pricing, RDFS.range, PJ_SDM.Stock_data))\n",
    "g.add((PJ_SDM.stock_pricing, RDFS.label, Literal(\"stock_pricing\")))\n",
    "\n",
    "\n",
    "g.add((PJ_SDM.stock_time, RDFS.domain, PJ_SDM.Stock_data))\n",
    "g.add((PJ_SDM.stock_time, RDFS.range, PJ_SDM.Time))\n",
    "g.add((PJ_SDM.stock_time, RDFS.label, Literal(\"stock_time\")))\n",
    "\n",
    "\n",
    "g.add((PJ_SDM.support_count, RDFS.domain, PJ_SDM.Tweet))\n",
    "g.add((PJ_SDM.support_count, RDFS.range, XSD.integer))\n",
    "g.add((PJ_SDM.support_count, RDFS.label, Literal(\"support_count\")))\n",
    "\n",
    "\n",
    "\n",
    "g.add((PJ_SDM.text, RDFS.domain, PJ_SDM.Tweet))\n",
    "g.add((PJ_SDM.text, RDFS.range, XSD.string))\n",
    "g.add((PJ_SDM.text, RDFS.label, Literal(\"text\")))\n",
    "\n",
    "\n",
    "g.add((PJ_SDM.tweet_by, RDFS.domain, PJ_SDM.Tweet))\n",
    "g.add((PJ_SDM.tweet_by, RDFS.range, PJ_SDM.Tweet_user))\n",
    "g.add((PJ_SDM.tweet_by, RDFS.label, Literal(\"tweet_by\")))\n",
    "\n",
    "\n",
    "g.add((PJ_SDM.tweet_time, RDFS.domain, PJ_SDM.Tweet))\n",
    "g.add((PJ_SDM.tweet_time, RDFS.range, PJ_SDM.Time))\n",
    "g.add((PJ_SDM.tweet_time, RDFS.label, Literal(\"tweet_time\")))\n",
    "\n",
    "\n",
    "g.add((PJ_SDM.DSE, RDFS.subClassOf, PJ_SDM.Stock_data))\n",
    "g.add((PJ_SDM.CSE, RDFS.subClassOf, PJ_SDM.Stock_data))"
   ]
  },
  {
   "cell_type": "code",
   "execution_count": 7,
   "id": "32c1ae68",
   "metadata": {},
   "outputs": [
    {
     "data": {
      "text/plain": [
       "<Graph identifier=N6b7a7e4b05ac4e85b5a357cbfbbbd6d4 (<class 'rdflib.graph.Graph'>)>"
      ]
     },
     "execution_count": 7,
     "metadata": {},
     "output_type": "execute_result"
    }
   ],
   "source": [
    "save_format = \"ttl\"\n",
    "file_name = \"tbox.ttl\"\n",
    "g.serialize(file_name, format=save_format)"
   ]
  },
  {
   "cell_type": "code",
   "execution_count": null,
   "id": "fa3fe1ec",
   "metadata": {},
   "outputs": [],
   "source": []
  }
 ],
 "metadata": {
  "interpreter": {
   "hash": "81acd9ad13fbdb433fe431ec69ce7458ddbfbb23cd0cadd7ac20c1a5c3316ffa"
  },
  "kernelspec": {
   "display_name": "Python 3.10.4 ('kg_sdm')",
   "language": "python",
   "name": "python3"
  },
  "language_info": {
   "codemirror_mode": {
    "name": "ipython",
    "version": 3
   },
   "file_extension": ".py",
   "mimetype": "text/x-python",
   "name": "python",
   "nbconvert_exporter": "python",
   "pygments_lexer": "ipython3",
   "version": "3.10.4"
  }
 },
 "nbformat": 4,
 "nbformat_minor": 5
}
